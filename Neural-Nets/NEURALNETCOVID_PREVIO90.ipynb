{
  "cells": [
    {
      "cell_type": "markdown",
      "metadata": {
        "id": "yEhazYtWmJSo"
      },
      "source": [
        "# imports e downloads"
      ]
    },
    {
      "cell_type": "code",
      "execution_count": 1,
      "metadata": {
        "id": "04SxPQSolgPG"
      },
      "outputs": [],
      "source": [
        "import numpy as np\n",
        "import pandas as pd\n",
        "import matplotlib.pyplot as plt\n",
        "import seaborn as sns\n",
        "\n",
        "import torch\n",
        "from torch import nn\n",
        "from torch.autograd import Variable\n",
        "from torch.utils.data import DataLoader,Dataset\n",
        "from sklearn.metrics import confusion_matrix\n",
        "\n",
        "from sklearn.model_selection import train_test_split\n",
        "from sklearn.metrics import accuracy_score\n",
        "\n",
        "import torch.nn.functional as F"
      ]
    },
    {
      "cell_type": "code",
      "execution_count": 2,
      "metadata": {
        "id": "whr7oNHQo2cI",
        "colab": {
          "base_uri": "https://localhost:8080/"
        },
        "outputId": "584a699b-7f38-4b36-9457-27141c86da02"
      },
      "outputs": [
        {
          "output_type": "stream",
          "name": "stdout",
          "text": [
            "Drive already mounted at /content/drive; to attempt to forcibly remount, call drive.mount(\"/content/drive\", force_remount=True).\n"
          ]
        }
      ],
      "source": [
        "from google.colab import drive\n",
        "drive.mount('/content/drive')"
      ]
    },
    {
      "cell_type": "code",
      "execution_count": 3,
      "metadata": {
        "colab": {
          "base_uri": "https://localhost:8080/",
          "height": 428
        },
        "id": "xrwds3J1oznn",
        "outputId": "27804fd1-91f0-415d-d96d-ae4afca16e45"
      },
      "outputs": [
        {
          "output_type": "stream",
          "name": "stderr",
          "text": [
            "/usr/local/lib/python3.7/dist-packages/IPython/core/interactiveshell.py:2882: DtypeWarning: Columns (15,16,17,50) have mixed types.Specify dtype option on import or set low_memory=False.\n",
            "  exec(code_obj, self.user_global_ns, self.user_ns)\n"
          ]
        },
        {
          "output_type": "execute_result",
          "data": {
            "text/plain": [
              "         Unnamed: 0    NU_IDADE_N    FATOR_RISC    CARDIOPATI          ASMA  \\\n",
              "count  1.879944e+06  1.879944e+06  1.879944e+06  1.879944e+06  1.879944e+06   \n",
              "mean   1.582723e+06  5.730485e+01  1.278114e+00  5.343546e+00  6.427031e+00   \n",
              "std    8.754860e+05  1.924869e+01  4.480698e-01  3.833657e+00  3.404388e+00   \n",
              "min    0.000000e+00  0.000000e+00  1.000000e+00  1.000000e+00  1.000000e+00   \n",
              "25%    8.394822e+05  4.500000e+01  1.000000e+00  1.000000e+00  2.000000e+00   \n",
              "50%    1.611074e+06  5.800000e+01  1.000000e+00  9.000000e+00  9.000000e+00   \n",
              "75%    2.332903e+06  7.100000e+01  2.000000e+00  9.000000e+00  9.000000e+00   \n",
              "max    3.107771e+06  1.000000e+02  2.000000e+00  9.000000e+00  9.000000e+00   \n",
              "\n",
              "         PNEUMOPATI      DIABETES    IMUNODEPRE      OBESIDADE      OBES_IMC  \\\n",
              "count  1.879944e+06  1.879944e+06  1.879944e+06  732999.000000  30931.000000   \n",
              "mean   6.397565e+00  5.668007e+00  6.443313e+00       2.007842     35.323879   \n",
              "std    3.419750e+00  3.739671e+00  3.396157e+00       1.281525      7.777341   \n",
              "min    1.000000e+00  1.000000e+00  1.000000e+00       1.000000     10.000000   \n",
              "25%    2.000000e+00  2.000000e+00  2.000000e+00       2.000000     30.000000   \n",
              "50%    9.000000e+00  9.000000e+00  9.000000e+00       2.000000     34.000000   \n",
              "75%    9.000000e+00  9.000000e+00  9.000000e+00       2.000000     39.000000   \n",
              "max    9.000000e+00  9.000000e+00  9.000000e+00       9.000000     80.000000   \n",
              "\n",
              "       ...  ANO_DT_NOTIFIC  ANO_DT_SIN_PRI       DIA_PRI       DIA_NOT  \\\n",
              "count  ...    1.879944e+06    1.879944e+06  1.879944e+06  1.879944e+06   \n",
              "mean   ...    2.020716e+03    2.020694e+03  4.043286e+02  4.161294e+02   \n",
              "std    ...    5.528338e-01    5.534101e-01  1.645432e+02  1.648940e+02   \n",
              "min    ...    2.020000e+03    2.020000e+03  1.000000e+00  1.000000e+00   \n",
              "25%    ...    2.020000e+03    2.020000e+03  2.790000e+02  2.910000e+02   \n",
              "50%    ...    2.021000e+03    2.021000e+03  4.300000e+02  4.420000e+02   \n",
              "75%    ...    2.021000e+03    2.021000e+03  5.060000e+02  5.190000e+02   \n",
              "max    ...    2.022000e+03    2.022000e+03  8.020000e+02  8.090000e+02   \n",
              "\n",
              "               ONDA     OBES_MORB  FATOR_RISC_GRAVE  COMORBIDADES  \\\n",
              "count  1.879944e+06  1.879944e+06      1.879944e+06  1.879944e+06   \n",
              "mean   2.728895e+00  8.881200e+00      3.479453e+00  1.400625e+00   \n",
              "std    1.277382e+00  9.200586e-01      3.668284e+00  4.900253e-01   \n",
              "min    0.000000e+00  1.000000e+00      1.000000e+00  1.000000e+00   \n",
              "25%    1.227273e+00  9.000000e+00      1.000000e+00  1.000000e+00   \n",
              "50%    3.000000e+00  9.000000e+00      1.000000e+00  1.000000e+00   \n",
              "75%    4.000000e+00  9.000000e+00      9.000000e+00  2.000000e+00   \n",
              "max    5.000000e+00  9.000000e+00      9.000000e+00  2.000000e+00   \n",
              "\n",
              "       COMORBIDADE_GRAVE  TEMP_ULT_DOSE  \n",
              "count       1.879944e+06  217229.000000  \n",
              "mean        4.735294e+00   83955.007554  \n",
              "std         3.932084e+00   78411.982446  \n",
              "min         1.000000e+00       0.000000  \n",
              "25%         1.000000e+00   16416.000000  \n",
              "50%         2.000000e+00   61344.000000  \n",
              "75%         9.000000e+00  130464.000000  \n",
              "max         9.000000e+00  607392.000000  \n",
              "\n",
              "[8 rows x 40 columns]"
            ],
            "text/html": [
              "\n",
              "  <div id=\"df-553a7cc6-7c93-429f-9faa-21073aae4a26\">\n",
              "    <div class=\"colab-df-container\">\n",
              "      <div>\n",
              "<style scoped>\n",
              "    .dataframe tbody tr th:only-of-type {\n",
              "        vertical-align: middle;\n",
              "    }\n",
              "\n",
              "    .dataframe tbody tr th {\n",
              "        vertical-align: top;\n",
              "    }\n",
              "\n",
              "    .dataframe thead th {\n",
              "        text-align: right;\n",
              "    }\n",
              "</style>\n",
              "<table border=\"1\" class=\"dataframe\">\n",
              "  <thead>\n",
              "    <tr style=\"text-align: right;\">\n",
              "      <th></th>\n",
              "      <th>Unnamed: 0</th>\n",
              "      <th>NU_IDADE_N</th>\n",
              "      <th>FATOR_RISC</th>\n",
              "      <th>CARDIOPATI</th>\n",
              "      <th>ASMA</th>\n",
              "      <th>PNEUMOPATI</th>\n",
              "      <th>DIABETES</th>\n",
              "      <th>IMUNODEPRE</th>\n",
              "      <th>OBESIDADE</th>\n",
              "      <th>OBES_IMC</th>\n",
              "      <th>...</th>\n",
              "      <th>ANO_DT_NOTIFIC</th>\n",
              "      <th>ANO_DT_SIN_PRI</th>\n",
              "      <th>DIA_PRI</th>\n",
              "      <th>DIA_NOT</th>\n",
              "      <th>ONDA</th>\n",
              "      <th>OBES_MORB</th>\n",
              "      <th>FATOR_RISC_GRAVE</th>\n",
              "      <th>COMORBIDADES</th>\n",
              "      <th>COMORBIDADE_GRAVE</th>\n",
              "      <th>TEMP_ULT_DOSE</th>\n",
              "    </tr>\n",
              "  </thead>\n",
              "  <tbody>\n",
              "    <tr>\n",
              "      <th>count</th>\n",
              "      <td>1.879944e+06</td>\n",
              "      <td>1.879944e+06</td>\n",
              "      <td>1.879944e+06</td>\n",
              "      <td>1.879944e+06</td>\n",
              "      <td>1.879944e+06</td>\n",
              "      <td>1.879944e+06</td>\n",
              "      <td>1.879944e+06</td>\n",
              "      <td>1.879944e+06</td>\n",
              "      <td>732999.000000</td>\n",
              "      <td>30931.000000</td>\n",
              "      <td>...</td>\n",
              "      <td>1.879944e+06</td>\n",
              "      <td>1.879944e+06</td>\n",
              "      <td>1.879944e+06</td>\n",
              "      <td>1.879944e+06</td>\n",
              "      <td>1.879944e+06</td>\n",
              "      <td>1.879944e+06</td>\n",
              "      <td>1.879944e+06</td>\n",
              "      <td>1.879944e+06</td>\n",
              "      <td>1.879944e+06</td>\n",
              "      <td>217229.000000</td>\n",
              "    </tr>\n",
              "    <tr>\n",
              "      <th>mean</th>\n",
              "      <td>1.582723e+06</td>\n",
              "      <td>5.730485e+01</td>\n",
              "      <td>1.278114e+00</td>\n",
              "      <td>5.343546e+00</td>\n",
              "      <td>6.427031e+00</td>\n",
              "      <td>6.397565e+00</td>\n",
              "      <td>5.668007e+00</td>\n",
              "      <td>6.443313e+00</td>\n",
              "      <td>2.007842</td>\n",
              "      <td>35.323879</td>\n",
              "      <td>...</td>\n",
              "      <td>2.020716e+03</td>\n",
              "      <td>2.020694e+03</td>\n",
              "      <td>4.043286e+02</td>\n",
              "      <td>4.161294e+02</td>\n",
              "      <td>2.728895e+00</td>\n",
              "      <td>8.881200e+00</td>\n",
              "      <td>3.479453e+00</td>\n",
              "      <td>1.400625e+00</td>\n",
              "      <td>4.735294e+00</td>\n",
              "      <td>83955.007554</td>\n",
              "    </tr>\n",
              "    <tr>\n",
              "      <th>std</th>\n",
              "      <td>8.754860e+05</td>\n",
              "      <td>1.924869e+01</td>\n",
              "      <td>4.480698e-01</td>\n",
              "      <td>3.833657e+00</td>\n",
              "      <td>3.404388e+00</td>\n",
              "      <td>3.419750e+00</td>\n",
              "      <td>3.739671e+00</td>\n",
              "      <td>3.396157e+00</td>\n",
              "      <td>1.281525</td>\n",
              "      <td>7.777341</td>\n",
              "      <td>...</td>\n",
              "      <td>5.528338e-01</td>\n",
              "      <td>5.534101e-01</td>\n",
              "      <td>1.645432e+02</td>\n",
              "      <td>1.648940e+02</td>\n",
              "      <td>1.277382e+00</td>\n",
              "      <td>9.200586e-01</td>\n",
              "      <td>3.668284e+00</td>\n",
              "      <td>4.900253e-01</td>\n",
              "      <td>3.932084e+00</td>\n",
              "      <td>78411.982446</td>\n",
              "    </tr>\n",
              "    <tr>\n",
              "      <th>min</th>\n",
              "      <td>0.000000e+00</td>\n",
              "      <td>0.000000e+00</td>\n",
              "      <td>1.000000e+00</td>\n",
              "      <td>1.000000e+00</td>\n",
              "      <td>1.000000e+00</td>\n",
              "      <td>1.000000e+00</td>\n",
              "      <td>1.000000e+00</td>\n",
              "      <td>1.000000e+00</td>\n",
              "      <td>1.000000</td>\n",
              "      <td>10.000000</td>\n",
              "      <td>...</td>\n",
              "      <td>2.020000e+03</td>\n",
              "      <td>2.020000e+03</td>\n",
              "      <td>1.000000e+00</td>\n",
              "      <td>1.000000e+00</td>\n",
              "      <td>0.000000e+00</td>\n",
              "      <td>1.000000e+00</td>\n",
              "      <td>1.000000e+00</td>\n",
              "      <td>1.000000e+00</td>\n",
              "      <td>1.000000e+00</td>\n",
              "      <td>0.000000</td>\n",
              "    </tr>\n",
              "    <tr>\n",
              "      <th>25%</th>\n",
              "      <td>8.394822e+05</td>\n",
              "      <td>4.500000e+01</td>\n",
              "      <td>1.000000e+00</td>\n",
              "      <td>1.000000e+00</td>\n",
              "      <td>2.000000e+00</td>\n",
              "      <td>2.000000e+00</td>\n",
              "      <td>2.000000e+00</td>\n",
              "      <td>2.000000e+00</td>\n",
              "      <td>2.000000</td>\n",
              "      <td>30.000000</td>\n",
              "      <td>...</td>\n",
              "      <td>2.020000e+03</td>\n",
              "      <td>2.020000e+03</td>\n",
              "      <td>2.790000e+02</td>\n",
              "      <td>2.910000e+02</td>\n",
              "      <td>1.227273e+00</td>\n",
              "      <td>9.000000e+00</td>\n",
              "      <td>1.000000e+00</td>\n",
              "      <td>1.000000e+00</td>\n",
              "      <td>1.000000e+00</td>\n",
              "      <td>16416.000000</td>\n",
              "    </tr>\n",
              "    <tr>\n",
              "      <th>50%</th>\n",
              "      <td>1.611074e+06</td>\n",
              "      <td>5.800000e+01</td>\n",
              "      <td>1.000000e+00</td>\n",
              "      <td>9.000000e+00</td>\n",
              "      <td>9.000000e+00</td>\n",
              "      <td>9.000000e+00</td>\n",
              "      <td>9.000000e+00</td>\n",
              "      <td>9.000000e+00</td>\n",
              "      <td>2.000000</td>\n",
              "      <td>34.000000</td>\n",
              "      <td>...</td>\n",
              "      <td>2.021000e+03</td>\n",
              "      <td>2.021000e+03</td>\n",
              "      <td>4.300000e+02</td>\n",
              "      <td>4.420000e+02</td>\n",
              "      <td>3.000000e+00</td>\n",
              "      <td>9.000000e+00</td>\n",
              "      <td>1.000000e+00</td>\n",
              "      <td>1.000000e+00</td>\n",
              "      <td>2.000000e+00</td>\n",
              "      <td>61344.000000</td>\n",
              "    </tr>\n",
              "    <tr>\n",
              "      <th>75%</th>\n",
              "      <td>2.332903e+06</td>\n",
              "      <td>7.100000e+01</td>\n",
              "      <td>2.000000e+00</td>\n",
              "      <td>9.000000e+00</td>\n",
              "      <td>9.000000e+00</td>\n",
              "      <td>9.000000e+00</td>\n",
              "      <td>9.000000e+00</td>\n",
              "      <td>9.000000e+00</td>\n",
              "      <td>2.000000</td>\n",
              "      <td>39.000000</td>\n",
              "      <td>...</td>\n",
              "      <td>2.021000e+03</td>\n",
              "      <td>2.021000e+03</td>\n",
              "      <td>5.060000e+02</td>\n",
              "      <td>5.190000e+02</td>\n",
              "      <td>4.000000e+00</td>\n",
              "      <td>9.000000e+00</td>\n",
              "      <td>9.000000e+00</td>\n",
              "      <td>2.000000e+00</td>\n",
              "      <td>9.000000e+00</td>\n",
              "      <td>130464.000000</td>\n",
              "    </tr>\n",
              "    <tr>\n",
              "      <th>max</th>\n",
              "      <td>3.107771e+06</td>\n",
              "      <td>1.000000e+02</td>\n",
              "      <td>2.000000e+00</td>\n",
              "      <td>9.000000e+00</td>\n",
              "      <td>9.000000e+00</td>\n",
              "      <td>9.000000e+00</td>\n",
              "      <td>9.000000e+00</td>\n",
              "      <td>9.000000e+00</td>\n",
              "      <td>9.000000</td>\n",
              "      <td>80.000000</td>\n",
              "      <td>...</td>\n",
              "      <td>2.022000e+03</td>\n",
              "      <td>2.022000e+03</td>\n",
              "      <td>8.020000e+02</td>\n",
              "      <td>8.090000e+02</td>\n",
              "      <td>5.000000e+00</td>\n",
              "      <td>9.000000e+00</td>\n",
              "      <td>9.000000e+00</td>\n",
              "      <td>2.000000e+00</td>\n",
              "      <td>9.000000e+00</td>\n",
              "      <td>607392.000000</td>\n",
              "    </tr>\n",
              "  </tbody>\n",
              "</table>\n",
              "<p>8 rows × 40 columns</p>\n",
              "</div>\n",
              "      <button class=\"colab-df-convert\" onclick=\"convertToInteractive('df-553a7cc6-7c93-429f-9faa-21073aae4a26')\"\n",
              "              title=\"Convert this dataframe to an interactive table.\"\n",
              "              style=\"display:none;\">\n",
              "        \n",
              "  <svg xmlns=\"http://www.w3.org/2000/svg\" height=\"24px\"viewBox=\"0 0 24 24\"\n",
              "       width=\"24px\">\n",
              "    <path d=\"M0 0h24v24H0V0z\" fill=\"none\"/>\n",
              "    <path d=\"M18.56 5.44l.94 2.06.94-2.06 2.06-.94-2.06-.94-.94-2.06-.94 2.06-2.06.94zm-11 1L8.5 8.5l.94-2.06 2.06-.94-2.06-.94L8.5 2.5l-.94 2.06-2.06.94zm10 10l.94 2.06.94-2.06 2.06-.94-2.06-.94-.94-2.06-.94 2.06-2.06.94z\"/><path d=\"M17.41 7.96l-1.37-1.37c-.4-.4-.92-.59-1.43-.59-.52 0-1.04.2-1.43.59L10.3 9.45l-7.72 7.72c-.78.78-.78 2.05 0 2.83L4 21.41c.39.39.9.59 1.41.59.51 0 1.02-.2 1.41-.59l7.78-7.78 2.81-2.81c.8-.78.8-2.07 0-2.86zM5.41 20L4 18.59l7.72-7.72 1.47 1.35L5.41 20z\"/>\n",
              "  </svg>\n",
              "      </button>\n",
              "      \n",
              "  <style>\n",
              "    .colab-df-container {\n",
              "      display:flex;\n",
              "      flex-wrap:wrap;\n",
              "      gap: 12px;\n",
              "    }\n",
              "\n",
              "    .colab-df-convert {\n",
              "      background-color: #E8F0FE;\n",
              "      border: none;\n",
              "      border-radius: 50%;\n",
              "      cursor: pointer;\n",
              "      display: none;\n",
              "      fill: #1967D2;\n",
              "      height: 32px;\n",
              "      padding: 0 0 0 0;\n",
              "      width: 32px;\n",
              "    }\n",
              "\n",
              "    .colab-df-convert:hover {\n",
              "      background-color: #E2EBFA;\n",
              "      box-shadow: 0px 1px 2px rgba(60, 64, 67, 0.3), 0px 1px 3px 1px rgba(60, 64, 67, 0.15);\n",
              "      fill: #174EA6;\n",
              "    }\n",
              "\n",
              "    [theme=dark] .colab-df-convert {\n",
              "      background-color: #3B4455;\n",
              "      fill: #D2E3FC;\n",
              "    }\n",
              "\n",
              "    [theme=dark] .colab-df-convert:hover {\n",
              "      background-color: #434B5C;\n",
              "      box-shadow: 0px 1px 3px 1px rgba(0, 0, 0, 0.15);\n",
              "      filter: drop-shadow(0px 1px 2px rgba(0, 0, 0, 0.3));\n",
              "      fill: #FFFFFF;\n",
              "    }\n",
              "  </style>\n",
              "\n",
              "      <script>\n",
              "        const buttonEl =\n",
              "          document.querySelector('#df-553a7cc6-7c93-429f-9faa-21073aae4a26 button.colab-df-convert');\n",
              "        buttonEl.style.display =\n",
              "          google.colab.kernel.accessAllowed ? 'block' : 'none';\n",
              "\n",
              "        async function convertToInteractive(key) {\n",
              "          const element = document.querySelector('#df-553a7cc6-7c93-429f-9faa-21073aae4a26');\n",
              "          const dataTable =\n",
              "            await google.colab.kernel.invokeFunction('convertToInteractive',\n",
              "                                                     [key], {});\n",
              "          if (!dataTable) return;\n",
              "\n",
              "          const docLinkHtml = 'Like what you see? Visit the ' +\n",
              "            '<a target=\"_blank\" href=https://colab.research.google.com/notebooks/data_table.ipynb>data table notebook</a>'\n",
              "            + ' to learn more about interactive tables.';\n",
              "          element.innerHTML = '';\n",
              "          dataTable['output_type'] = 'display_data';\n",
              "          await google.colab.output.renderOutput(dataTable, element);\n",
              "          const docLink = document.createElement('div');\n",
              "          docLink.innerHTML = docLinkHtml;\n",
              "          element.appendChild(docLink);\n",
              "        }\n",
              "      </script>\n",
              "    </div>\n",
              "  </div>\n",
              "  "
            ]
          },
          "metadata": {},
          "execution_count": 3
        }
      ],
      "source": [
        "df = pd.read_csv(\"/content/drive/MyDrive/BasesSUS/full_base.csv\")\n",
        "df.describe()"
      ]
    },
    {
      "cell_type": "markdown",
      "metadata": {
        "id": "EJm5KjN097yQ"
      },
      "source": [
        "# tratamento"
      ]
    },
    {
      "cell_type": "markdown",
      "metadata": {
        "id": "3gAnv2sGEZmX"
      },
      "source": [
        "## filtrando colunas"
      ]
    },
    {
      "cell_type": "code",
      "execution_count": 4,
      "metadata": {
        "id": "ngRl6wRYp7hK"
      },
      "outputs": [],
      "source": [
        "colunas_apagar = ['ANO_DOSE_1_COV', 'ANO_DOSE_2_COV', 'ANO_DT_ENTUTI', 'ANO_DT_INTERNA',  'ANO_DT_NOTIFIC', 'ANO_DT_SIN_PRI', \n",
        "                  'DIA_PRI', 'DIA_NOT','DT_SIN_PRI', 'DT_NOTIFIC', 'DT_NASC',\n",
        "                'DOSE_1_COV', 'DOSE_2_COV', 'DOSE_REF', 'DT_UT_DOSE',\n",
        "                 'TOMO_RES', 'RES_AN', 'PCR_RESUL', 'PCR_SARS2', 'COMORBIDADES','DT_EVOLUCA',\n",
        "                   'CARDIOPATI', 'ASMA','PNEUMOPATI', 'DT_INTERNA', 'OBES_MORB',\n",
        "                'DIABETES', 'IMUNODEPRE', 'OBESIDADE', 'OBES_IMC','ULT_DOSE',\n",
        "                'POS_AN_FLU', 'RES_IGG', 'RES_IGM', 'RES_IGA', 'SEM_NOT',#'DT_ENTUTI', 'DT_SAIDUTI',\n",
        "                'SEM_PRI','Unnamed: 0','HOSPITAL',]\n",
        "df.drop(columns = colunas_apagar, inplace = True)"
      ]
    },
    {
      "cell_type": "code",
      "execution_count": 5,
      "metadata": {
        "colab": {
          "base_uri": "https://localhost:8080/"
        },
        "id": "KGEsSaFjpss5",
        "outputId": "978d8078-1deb-4622-dd4e-89894af70b0f"
      },
      "outputs": [
        {
          "output_type": "execute_result",
          "data": {
            "text/plain": [
              "Index(['NU_IDADE_N', 'FATOR_RISC', 'VACINA_COV', 'VACINA', 'DT_ENTUTI',\n",
              "       'DT_SAIDUTI', 'UTI', 'EVOLUCAO', 'CLASSI_FIN', 'ONDA',\n",
              "       'FATOR_RISC_GRAVE', 'COMORBIDADE_GRAVE', 'TEMP_ULT_DOSE',\n",
              "       'CLASSI_COV_EXAME'],\n",
              "      dtype='object')"
            ]
          },
          "metadata": {},
          "execution_count": 5
        }
      ],
      "source": [
        "df.columns"
      ]
    },
    {
      "cell_type": "markdown",
      "source": [
        "## tempo na UTI"
      ],
      "metadata": {
        "id": "OwOuEgXeaSzl"
      }
    },
    {
      "cell_type": "code",
      "source": [
        "df[(pd.isnull(df[\"DT_ENTUTI\"]) == False) & (pd.isnull(df[\"DT_SAIDUTI\"]) == False)  ][[\"DT_ENTUTI\", \"DT_SAIDUTI\"]]"
      ],
      "metadata": {
        "colab": {
          "base_uri": "https://localhost:8080/",
          "height": 424
        },
        "id": "38kPvS9UVh5B",
        "outputId": "0e8a8d8e-4cf7-4c67-ccca-f2ddd2295e4b"
      },
      "execution_count": 6,
      "outputs": [
        {
          "output_type": "execute_result",
          "data": {
            "text/plain": [
              "          DT_ENTUTI  DT_SAIDUTI\n",
              "12       2020-02-10  2020-02-13\n",
              "17       2020-03-28  2020-04-07\n",
              "21       2020-04-01  2020-04-10\n",
              "27       2020-03-22  2020-04-12\n",
              "34       2020-04-09  2020-04-13\n",
              "...             ...         ...\n",
              "1879923  2022-02-16  2022-03-04\n",
              "1879926  2022-02-22  2022-02-27\n",
              "1879928  2022-03-03  2022-03-07\n",
              "1879930  2022-02-25  2022-02-27\n",
              "1879935  2022-02-04  2022-02-06\n",
              "\n",
              "[382766 rows x 2 columns]"
            ],
            "text/html": [
              "\n",
              "  <div id=\"df-794bad20-e41f-4e89-8775-869ecbc0ceed\">\n",
              "    <div class=\"colab-df-container\">\n",
              "      <div>\n",
              "<style scoped>\n",
              "    .dataframe tbody tr th:only-of-type {\n",
              "        vertical-align: middle;\n",
              "    }\n",
              "\n",
              "    .dataframe tbody tr th {\n",
              "        vertical-align: top;\n",
              "    }\n",
              "\n",
              "    .dataframe thead th {\n",
              "        text-align: right;\n",
              "    }\n",
              "</style>\n",
              "<table border=\"1\" class=\"dataframe\">\n",
              "  <thead>\n",
              "    <tr style=\"text-align: right;\">\n",
              "      <th></th>\n",
              "      <th>DT_ENTUTI</th>\n",
              "      <th>DT_SAIDUTI</th>\n",
              "    </tr>\n",
              "  </thead>\n",
              "  <tbody>\n",
              "    <tr>\n",
              "      <th>12</th>\n",
              "      <td>2020-02-10</td>\n",
              "      <td>2020-02-13</td>\n",
              "    </tr>\n",
              "    <tr>\n",
              "      <th>17</th>\n",
              "      <td>2020-03-28</td>\n",
              "      <td>2020-04-07</td>\n",
              "    </tr>\n",
              "    <tr>\n",
              "      <th>21</th>\n",
              "      <td>2020-04-01</td>\n",
              "      <td>2020-04-10</td>\n",
              "    </tr>\n",
              "    <tr>\n",
              "      <th>27</th>\n",
              "      <td>2020-03-22</td>\n",
              "      <td>2020-04-12</td>\n",
              "    </tr>\n",
              "    <tr>\n",
              "      <th>34</th>\n",
              "      <td>2020-04-09</td>\n",
              "      <td>2020-04-13</td>\n",
              "    </tr>\n",
              "    <tr>\n",
              "      <th>...</th>\n",
              "      <td>...</td>\n",
              "      <td>...</td>\n",
              "    </tr>\n",
              "    <tr>\n",
              "      <th>1879923</th>\n",
              "      <td>2022-02-16</td>\n",
              "      <td>2022-03-04</td>\n",
              "    </tr>\n",
              "    <tr>\n",
              "      <th>1879926</th>\n",
              "      <td>2022-02-22</td>\n",
              "      <td>2022-02-27</td>\n",
              "    </tr>\n",
              "    <tr>\n",
              "      <th>1879928</th>\n",
              "      <td>2022-03-03</td>\n",
              "      <td>2022-03-07</td>\n",
              "    </tr>\n",
              "    <tr>\n",
              "      <th>1879930</th>\n",
              "      <td>2022-02-25</td>\n",
              "      <td>2022-02-27</td>\n",
              "    </tr>\n",
              "    <tr>\n",
              "      <th>1879935</th>\n",
              "      <td>2022-02-04</td>\n",
              "      <td>2022-02-06</td>\n",
              "    </tr>\n",
              "  </tbody>\n",
              "</table>\n",
              "<p>382766 rows × 2 columns</p>\n",
              "</div>\n",
              "      <button class=\"colab-df-convert\" onclick=\"convertToInteractive('df-794bad20-e41f-4e89-8775-869ecbc0ceed')\"\n",
              "              title=\"Convert this dataframe to an interactive table.\"\n",
              "              style=\"display:none;\">\n",
              "        \n",
              "  <svg xmlns=\"http://www.w3.org/2000/svg\" height=\"24px\"viewBox=\"0 0 24 24\"\n",
              "       width=\"24px\">\n",
              "    <path d=\"M0 0h24v24H0V0z\" fill=\"none\"/>\n",
              "    <path d=\"M18.56 5.44l.94 2.06.94-2.06 2.06-.94-2.06-.94-.94-2.06-.94 2.06-2.06.94zm-11 1L8.5 8.5l.94-2.06 2.06-.94-2.06-.94L8.5 2.5l-.94 2.06-2.06.94zm10 10l.94 2.06.94-2.06 2.06-.94-2.06-.94-.94-2.06-.94 2.06-2.06.94z\"/><path d=\"M17.41 7.96l-1.37-1.37c-.4-.4-.92-.59-1.43-.59-.52 0-1.04.2-1.43.59L10.3 9.45l-7.72 7.72c-.78.78-.78 2.05 0 2.83L4 21.41c.39.39.9.59 1.41.59.51 0 1.02-.2 1.41-.59l7.78-7.78 2.81-2.81c.8-.78.8-2.07 0-2.86zM5.41 20L4 18.59l7.72-7.72 1.47 1.35L5.41 20z\"/>\n",
              "  </svg>\n",
              "      </button>\n",
              "      \n",
              "  <style>\n",
              "    .colab-df-container {\n",
              "      display:flex;\n",
              "      flex-wrap:wrap;\n",
              "      gap: 12px;\n",
              "    }\n",
              "\n",
              "    .colab-df-convert {\n",
              "      background-color: #E8F0FE;\n",
              "      border: none;\n",
              "      border-radius: 50%;\n",
              "      cursor: pointer;\n",
              "      display: none;\n",
              "      fill: #1967D2;\n",
              "      height: 32px;\n",
              "      padding: 0 0 0 0;\n",
              "      width: 32px;\n",
              "    }\n",
              "\n",
              "    .colab-df-convert:hover {\n",
              "      background-color: #E2EBFA;\n",
              "      box-shadow: 0px 1px 2px rgba(60, 64, 67, 0.3), 0px 1px 3px 1px rgba(60, 64, 67, 0.15);\n",
              "      fill: #174EA6;\n",
              "    }\n",
              "\n",
              "    [theme=dark] .colab-df-convert {\n",
              "      background-color: #3B4455;\n",
              "      fill: #D2E3FC;\n",
              "    }\n",
              "\n",
              "    [theme=dark] .colab-df-convert:hover {\n",
              "      background-color: #434B5C;\n",
              "      box-shadow: 0px 1px 3px 1px rgba(0, 0, 0, 0.15);\n",
              "      filter: drop-shadow(0px 1px 2px rgba(0, 0, 0, 0.3));\n",
              "      fill: #FFFFFF;\n",
              "    }\n",
              "  </style>\n",
              "\n",
              "      <script>\n",
              "        const buttonEl =\n",
              "          document.querySelector('#df-794bad20-e41f-4e89-8775-869ecbc0ceed button.colab-df-convert');\n",
              "        buttonEl.style.display =\n",
              "          google.colab.kernel.accessAllowed ? 'block' : 'none';\n",
              "\n",
              "        async function convertToInteractive(key) {\n",
              "          const element = document.querySelector('#df-794bad20-e41f-4e89-8775-869ecbc0ceed');\n",
              "          const dataTable =\n",
              "            await google.colab.kernel.invokeFunction('convertToInteractive',\n",
              "                                                     [key], {});\n",
              "          if (!dataTable) return;\n",
              "\n",
              "          const docLinkHtml = 'Like what you see? Visit the ' +\n",
              "            '<a target=\"_blank\" href=https://colab.research.google.com/notebooks/data_table.ipynb>data table notebook</a>'\n",
              "            + ' to learn more about interactive tables.';\n",
              "          element.innerHTML = '';\n",
              "          dataTable['output_type'] = 'display_data';\n",
              "          await google.colab.output.renderOutput(dataTable, element);\n",
              "          const docLink = document.createElement('div');\n",
              "          docLink.innerHTML = docLinkHtml;\n",
              "          element.appendChild(docLink);\n",
              "        }\n",
              "      </script>\n",
              "    </div>\n",
              "  </div>\n",
              "  "
            ]
          },
          "metadata": {},
          "execution_count": 6
        }
      ]
    },
    {
      "cell_type": "code",
      "source": [
        "df[\"DT_SAIDUTI\"] = pd.to_datetime(df[\"DT_SAIDUTI\"] )\n",
        "df[\"DT_ENTUTI\"]  = pd.to_datetime(df[\"DT_ENTUTI\"] )"
      ],
      "metadata": {
        "id": "EyQp3T_vX43-"
      },
      "execution_count": 7,
      "outputs": []
    },
    {
      "cell_type": "code",
      "source": [
        "df[\"TEMP_UTI\"] = np.where((pd.isnull(df[\"DT_ENTUTI\"]) == False) & (pd.isnull(df[\"DT_SAIDUTI\"]) == False),  (df[\"DT_SAIDUTI\"] -df[\"DT_ENTUTI\"]).dt.days , 0)\n",
        "df[\"TEMP_UTI\"]"
      ],
      "metadata": {
        "colab": {
          "base_uri": "https://localhost:8080/"
        },
        "id": "qPBENRvsWdT3",
        "outputId": "bff33b25-c5b9-4a2a-a184-e04068a3b551"
      },
      "execution_count": 8,
      "outputs": [
        {
          "output_type": "execute_result",
          "data": {
            "text/plain": [
              "0          0.0\n",
              "1          0.0\n",
              "2          0.0\n",
              "3          0.0\n",
              "4          0.0\n",
              "          ... \n",
              "1879939    0.0\n",
              "1879940    0.0\n",
              "1879941    0.0\n",
              "1879942    0.0\n",
              "1879943    0.0\n",
              "Name: TEMP_UTI, Length: 1879944, dtype: float64"
            ]
          },
          "metadata": {},
          "execution_count": 8
        }
      ]
    },
    {
      "cell_type": "code",
      "source": [
        "df[\"TEMP_UTI\"].max()"
      ],
      "metadata": {
        "colab": {
          "base_uri": "https://localhost:8080/"
        },
        "id": "QmeRkyYMOH4c",
        "outputId": "57f46345-5e3e-4886-8b61-284cad1e1474"
      },
      "execution_count": 9,
      "outputs": [
        {
          "output_type": "execute_result",
          "data": {
            "text/plain": [
              "547.0"
            ]
          },
          "metadata": {},
          "execution_count": 9
        }
      ]
    },
    {
      "cell_type": "code",
      "source": [
        "df.drop(inplace = True, columns = [ \"DT_ENTUTI\",\"DT_SAIDUTI\"])"
      ],
      "metadata": {
        "id": "QsiIZlH3aYZj"
      },
      "execution_count": 10,
      "outputs": []
    },
    {
      "cell_type": "markdown",
      "metadata": {
        "id": "0jUZxrmI_Cad"
      },
      "source": [
        "## considerando o tempo da última dose"
      ]
    },
    {
      "cell_type": "code",
      "execution_count": 11,
      "metadata": {
        "colab": {
          "base_uri": "https://localhost:8080/"
        },
        "id": "Gf6n6I268MTh",
        "outputId": "435a32f5-7da6-4084-fa81-05db1da2ffea"
      },
      "outputs": [
        {
          "output_type": "execute_result",
          "data": {
            "text/plain": [
              "6073920.0    1662715\n",
              "0.0             4504\n",
              "864.0           3978\n",
              "6048.0          3326\n",
              "1728.0          3234\n",
              "              ...   \n",
              "463104.0           1\n",
              "362016.0           1\n",
              "358560.0           1\n",
              "352512.0           1\n",
              "486432.0           1\n",
              "Name: TEMP_ULT_DOSE, Length: 427, dtype: int64"
            ]
          },
          "metadata": {},
          "execution_count": 11
        }
      ],
      "source": [
        "maximo = df['TEMP_ULT_DOSE'].max()\n",
        "df['TEMP_ULT_DOSE'] = np.where(pd.isnull(df['TEMP_ULT_DOSE']), maximo*10 , df['TEMP_ULT_DOSE'])\n",
        "df['TEMP_ULT_DOSE'] .value_counts()"
      ]
    },
    {
      "cell_type": "markdown",
      "metadata": {
        "id": "yLqR2LxF_JX4"
      },
      "source": [
        "## checando que não há NaN"
      ]
    },
    {
      "cell_type": "code",
      "execution_count": 12,
      "metadata": {
        "id": "yMecFQ7g6RvC"
      },
      "outputs": [],
      "source": [
        "for col in df.columns:\n",
        "    if pd.isnull(df[col]).any():\n",
        "        print(col)\n",
        "        "
      ]
    },
    {
      "cell_type": "code",
      "execution_count": 13,
      "metadata": {
        "colab": {
          "base_uri": "https://localhost:8080/",
          "height": 364
        },
        "id": "p1ig97vE-tzt",
        "outputId": "efc7616e-6ff3-45fa-f64d-87e914a44372"
      },
      "outputs": [
        {
          "output_type": "execute_result",
          "data": {
            "text/plain": [
              "         NU_IDADE_N    FATOR_RISC    VACINA_COV        VACINA           UTI  \\\n",
              "count  1.879944e+06  1.879944e+06  1.879944e+06  1.879944e+06  1.879944e+06   \n",
              "mean   5.730485e+01  1.278114e+00  3.744180e+00  6.030286e+00  2.589062e+00   \n",
              "std    1.924869e+01  4.480698e-01  3.213671e+00  3.571100e+00  2.532279e+00   \n",
              "min    0.000000e+00  1.000000e+00  1.000000e+00  1.000000e+00  1.000000e+00   \n",
              "25%    4.500000e+01  1.000000e+00  2.000000e+00  2.000000e+00  1.000000e+00   \n",
              "50%    5.800000e+01  1.000000e+00  2.000000e+00  9.000000e+00  2.000000e+00   \n",
              "75%    7.100000e+01  2.000000e+00  9.000000e+00  9.000000e+00  2.000000e+00   \n",
              "max    1.000000e+02  2.000000e+00  9.000000e+00  9.000000e+00  9.000000e+00   \n",
              "\n",
              "           EVOLUCAO    CLASSI_FIN          ONDA  FATOR_RISC_GRAVE  \\\n",
              "count  1.879944e+06  1.879944e+06  1.879944e+06      1.879944e+06   \n",
              "mean   1.341973e+00  4.920063e+00  2.728895e+00      3.479453e+00   \n",
              "std    4.812894e-01  5.072553e-01  1.277382e+00      3.668284e+00   \n",
              "min    1.000000e+00  1.000000e+00  0.000000e+00      1.000000e+00   \n",
              "25%    1.000000e+00  5.000000e+00  1.227273e+00      1.000000e+00   \n",
              "50%    1.000000e+00  5.000000e+00  3.000000e+00      1.000000e+00   \n",
              "75%    2.000000e+00  5.000000e+00  4.000000e+00      9.000000e+00   \n",
              "max    3.000000e+00  5.000000e+00  5.000000e+00      9.000000e+00   \n",
              "\n",
              "       COMORBIDADE_GRAVE  TEMP_ULT_DOSE      TEMP_UTI  \n",
              "count       1.879944e+06   1.879944e+06  1.879944e+06  \n",
              "mean        4.735294e+00   5.381775e+06  2.398824e+00  \n",
              "std         3.932084e+00   1.915091e+06  7.540767e+00  \n",
              "min         1.000000e+00   0.000000e+00  0.000000e+00  \n",
              "25%         1.000000e+00   6.073920e+06  0.000000e+00  \n",
              "50%         2.000000e+00   6.073920e+06  0.000000e+00  \n",
              "75%         9.000000e+00   6.073920e+06  0.000000e+00  \n",
              "max         9.000000e+00   6.073920e+06  5.470000e+02  "
            ],
            "text/html": [
              "\n",
              "  <div id=\"df-50280429-d314-4490-81df-7d745615e274\">\n",
              "    <div class=\"colab-df-container\">\n",
              "      <div>\n",
              "<style scoped>\n",
              "    .dataframe tbody tr th:only-of-type {\n",
              "        vertical-align: middle;\n",
              "    }\n",
              "\n",
              "    .dataframe tbody tr th {\n",
              "        vertical-align: top;\n",
              "    }\n",
              "\n",
              "    .dataframe thead th {\n",
              "        text-align: right;\n",
              "    }\n",
              "</style>\n",
              "<table border=\"1\" class=\"dataframe\">\n",
              "  <thead>\n",
              "    <tr style=\"text-align: right;\">\n",
              "      <th></th>\n",
              "      <th>NU_IDADE_N</th>\n",
              "      <th>FATOR_RISC</th>\n",
              "      <th>VACINA_COV</th>\n",
              "      <th>VACINA</th>\n",
              "      <th>UTI</th>\n",
              "      <th>EVOLUCAO</th>\n",
              "      <th>CLASSI_FIN</th>\n",
              "      <th>ONDA</th>\n",
              "      <th>FATOR_RISC_GRAVE</th>\n",
              "      <th>COMORBIDADE_GRAVE</th>\n",
              "      <th>TEMP_ULT_DOSE</th>\n",
              "      <th>TEMP_UTI</th>\n",
              "    </tr>\n",
              "  </thead>\n",
              "  <tbody>\n",
              "    <tr>\n",
              "      <th>count</th>\n",
              "      <td>1.879944e+06</td>\n",
              "      <td>1.879944e+06</td>\n",
              "      <td>1.879944e+06</td>\n",
              "      <td>1.879944e+06</td>\n",
              "      <td>1.879944e+06</td>\n",
              "      <td>1.879944e+06</td>\n",
              "      <td>1.879944e+06</td>\n",
              "      <td>1.879944e+06</td>\n",
              "      <td>1.879944e+06</td>\n",
              "      <td>1.879944e+06</td>\n",
              "      <td>1.879944e+06</td>\n",
              "      <td>1.879944e+06</td>\n",
              "    </tr>\n",
              "    <tr>\n",
              "      <th>mean</th>\n",
              "      <td>5.730485e+01</td>\n",
              "      <td>1.278114e+00</td>\n",
              "      <td>3.744180e+00</td>\n",
              "      <td>6.030286e+00</td>\n",
              "      <td>2.589062e+00</td>\n",
              "      <td>1.341973e+00</td>\n",
              "      <td>4.920063e+00</td>\n",
              "      <td>2.728895e+00</td>\n",
              "      <td>3.479453e+00</td>\n",
              "      <td>4.735294e+00</td>\n",
              "      <td>5.381775e+06</td>\n",
              "      <td>2.398824e+00</td>\n",
              "    </tr>\n",
              "    <tr>\n",
              "      <th>std</th>\n",
              "      <td>1.924869e+01</td>\n",
              "      <td>4.480698e-01</td>\n",
              "      <td>3.213671e+00</td>\n",
              "      <td>3.571100e+00</td>\n",
              "      <td>2.532279e+00</td>\n",
              "      <td>4.812894e-01</td>\n",
              "      <td>5.072553e-01</td>\n",
              "      <td>1.277382e+00</td>\n",
              "      <td>3.668284e+00</td>\n",
              "      <td>3.932084e+00</td>\n",
              "      <td>1.915091e+06</td>\n",
              "      <td>7.540767e+00</td>\n",
              "    </tr>\n",
              "    <tr>\n",
              "      <th>min</th>\n",
              "      <td>0.000000e+00</td>\n",
              "      <td>1.000000e+00</td>\n",
              "      <td>1.000000e+00</td>\n",
              "      <td>1.000000e+00</td>\n",
              "      <td>1.000000e+00</td>\n",
              "      <td>1.000000e+00</td>\n",
              "      <td>1.000000e+00</td>\n",
              "      <td>0.000000e+00</td>\n",
              "      <td>1.000000e+00</td>\n",
              "      <td>1.000000e+00</td>\n",
              "      <td>0.000000e+00</td>\n",
              "      <td>0.000000e+00</td>\n",
              "    </tr>\n",
              "    <tr>\n",
              "      <th>25%</th>\n",
              "      <td>4.500000e+01</td>\n",
              "      <td>1.000000e+00</td>\n",
              "      <td>2.000000e+00</td>\n",
              "      <td>2.000000e+00</td>\n",
              "      <td>1.000000e+00</td>\n",
              "      <td>1.000000e+00</td>\n",
              "      <td>5.000000e+00</td>\n",
              "      <td>1.227273e+00</td>\n",
              "      <td>1.000000e+00</td>\n",
              "      <td>1.000000e+00</td>\n",
              "      <td>6.073920e+06</td>\n",
              "      <td>0.000000e+00</td>\n",
              "    </tr>\n",
              "    <tr>\n",
              "      <th>50%</th>\n",
              "      <td>5.800000e+01</td>\n",
              "      <td>1.000000e+00</td>\n",
              "      <td>2.000000e+00</td>\n",
              "      <td>9.000000e+00</td>\n",
              "      <td>2.000000e+00</td>\n",
              "      <td>1.000000e+00</td>\n",
              "      <td>5.000000e+00</td>\n",
              "      <td>3.000000e+00</td>\n",
              "      <td>1.000000e+00</td>\n",
              "      <td>2.000000e+00</td>\n",
              "      <td>6.073920e+06</td>\n",
              "      <td>0.000000e+00</td>\n",
              "    </tr>\n",
              "    <tr>\n",
              "      <th>75%</th>\n",
              "      <td>7.100000e+01</td>\n",
              "      <td>2.000000e+00</td>\n",
              "      <td>9.000000e+00</td>\n",
              "      <td>9.000000e+00</td>\n",
              "      <td>2.000000e+00</td>\n",
              "      <td>2.000000e+00</td>\n",
              "      <td>5.000000e+00</td>\n",
              "      <td>4.000000e+00</td>\n",
              "      <td>9.000000e+00</td>\n",
              "      <td>9.000000e+00</td>\n",
              "      <td>6.073920e+06</td>\n",
              "      <td>0.000000e+00</td>\n",
              "    </tr>\n",
              "    <tr>\n",
              "      <th>max</th>\n",
              "      <td>1.000000e+02</td>\n",
              "      <td>2.000000e+00</td>\n",
              "      <td>9.000000e+00</td>\n",
              "      <td>9.000000e+00</td>\n",
              "      <td>9.000000e+00</td>\n",
              "      <td>3.000000e+00</td>\n",
              "      <td>5.000000e+00</td>\n",
              "      <td>5.000000e+00</td>\n",
              "      <td>9.000000e+00</td>\n",
              "      <td>9.000000e+00</td>\n",
              "      <td>6.073920e+06</td>\n",
              "      <td>5.470000e+02</td>\n",
              "    </tr>\n",
              "  </tbody>\n",
              "</table>\n",
              "</div>\n",
              "      <button class=\"colab-df-convert\" onclick=\"convertToInteractive('df-50280429-d314-4490-81df-7d745615e274')\"\n",
              "              title=\"Convert this dataframe to an interactive table.\"\n",
              "              style=\"display:none;\">\n",
              "        \n",
              "  <svg xmlns=\"http://www.w3.org/2000/svg\" height=\"24px\"viewBox=\"0 0 24 24\"\n",
              "       width=\"24px\">\n",
              "    <path d=\"M0 0h24v24H0V0z\" fill=\"none\"/>\n",
              "    <path d=\"M18.56 5.44l.94 2.06.94-2.06 2.06-.94-2.06-.94-.94-2.06-.94 2.06-2.06.94zm-11 1L8.5 8.5l.94-2.06 2.06-.94-2.06-.94L8.5 2.5l-.94 2.06-2.06.94zm10 10l.94 2.06.94-2.06 2.06-.94-2.06-.94-.94-2.06-.94 2.06-2.06.94z\"/><path d=\"M17.41 7.96l-1.37-1.37c-.4-.4-.92-.59-1.43-.59-.52 0-1.04.2-1.43.59L10.3 9.45l-7.72 7.72c-.78.78-.78 2.05 0 2.83L4 21.41c.39.39.9.59 1.41.59.51 0 1.02-.2 1.41-.59l7.78-7.78 2.81-2.81c.8-.78.8-2.07 0-2.86zM5.41 20L4 18.59l7.72-7.72 1.47 1.35L5.41 20z\"/>\n",
              "  </svg>\n",
              "      </button>\n",
              "      \n",
              "  <style>\n",
              "    .colab-df-container {\n",
              "      display:flex;\n",
              "      flex-wrap:wrap;\n",
              "      gap: 12px;\n",
              "    }\n",
              "\n",
              "    .colab-df-convert {\n",
              "      background-color: #E8F0FE;\n",
              "      border: none;\n",
              "      border-radius: 50%;\n",
              "      cursor: pointer;\n",
              "      display: none;\n",
              "      fill: #1967D2;\n",
              "      height: 32px;\n",
              "      padding: 0 0 0 0;\n",
              "      width: 32px;\n",
              "    }\n",
              "\n",
              "    .colab-df-convert:hover {\n",
              "      background-color: #E2EBFA;\n",
              "      box-shadow: 0px 1px 2px rgba(60, 64, 67, 0.3), 0px 1px 3px 1px rgba(60, 64, 67, 0.15);\n",
              "      fill: #174EA6;\n",
              "    }\n",
              "\n",
              "    [theme=dark] .colab-df-convert {\n",
              "      background-color: #3B4455;\n",
              "      fill: #D2E3FC;\n",
              "    }\n",
              "\n",
              "    [theme=dark] .colab-df-convert:hover {\n",
              "      background-color: #434B5C;\n",
              "      box-shadow: 0px 1px 3px 1px rgba(0, 0, 0, 0.15);\n",
              "      filter: drop-shadow(0px 1px 2px rgba(0, 0, 0, 0.3));\n",
              "      fill: #FFFFFF;\n",
              "    }\n",
              "  </style>\n",
              "\n",
              "      <script>\n",
              "        const buttonEl =\n",
              "          document.querySelector('#df-50280429-d314-4490-81df-7d745615e274 button.colab-df-convert');\n",
              "        buttonEl.style.display =\n",
              "          google.colab.kernel.accessAllowed ? 'block' : 'none';\n",
              "\n",
              "        async function convertToInteractive(key) {\n",
              "          const element = document.querySelector('#df-50280429-d314-4490-81df-7d745615e274');\n",
              "          const dataTable =\n",
              "            await google.colab.kernel.invokeFunction('convertToInteractive',\n",
              "                                                     [key], {});\n",
              "          if (!dataTable) return;\n",
              "\n",
              "          const docLinkHtml = 'Like what you see? Visit the ' +\n",
              "            '<a target=\"_blank\" href=https://colab.research.google.com/notebooks/data_table.ipynb>data table notebook</a>'\n",
              "            + ' to learn more about interactive tables.';\n",
              "          element.innerHTML = '';\n",
              "          dataTable['output_type'] = 'display_data';\n",
              "          await google.colab.output.renderOutput(dataTable, element);\n",
              "          const docLink = document.createElement('div');\n",
              "          docLink.innerHTML = docLinkHtml;\n",
              "          element.appendChild(docLink);\n",
              "        }\n",
              "      </script>\n",
              "    </div>\n",
              "  </div>\n",
              "  "
            ]
          },
          "metadata": {},
          "execution_count": 13
        }
      ],
      "source": [
        "df.describe()"
      ]
    },
    {
      "cell_type": "code",
      "execution_count": 14,
      "metadata": {
        "id": "2wmjJgnaH7EI"
      },
      "outputs": [],
      "source": [
        "df.drop(df[df[\"EVOLUCAO\"] == 3].index,inplace = True)"
      ]
    },
    {
      "cell_type": "code",
      "source": [
        "df[\"EVOLUCAO\"].value_counts()"
      ],
      "metadata": {
        "colab": {
          "base_uri": "https://localhost:8080/"
        },
        "id": "SSI6RpYPGbZT",
        "outputId": "eedd639b-4b10-4574-845f-2a60ba5c47d9"
      },
      "execution_count": 15,
      "outputs": [
        {
          "output_type": "execute_result",
          "data": {
            "text/plain": [
              "1.0    1243269\n",
              "2.0     630460\n",
              "Name: EVOLUCAO, dtype: int64"
            ]
          },
          "metadata": {},
          "execution_count": 15
        }
      ]
    },
    {
      "cell_type": "markdown",
      "source": [
        "## incertezas\n",
        "\n"
      ],
      "metadata": {
        "id": "hg3UeJ_hLr3q"
      }
    },
    {
      "cell_type": "code",
      "source": [
        "df[\"FATOR_RISC\"]    = np.where(df[\"FATOR_RISC\"]  == 2,  0, df[\"FATOR_RISC\"] )\n",
        "df[\"EVOLUCAO\"]      = np.where(  df[\"EVOLUCAO\"]  == 2,  0, df[\"EVOLUCAO\"] )\n",
        "df[\"CLASSI_FIN\"]   = np.where(df[\"CLASSI_FIN\"] == 5,  1,       0) #1 is covid and 0 is rest"
      ],
      "metadata": {
        "id": "0P2NTjoTTxzE"
      },
      "execution_count": 16,
      "outputs": []
    },
    {
      "cell_type": "code",
      "source": [
        "df[\"UTI\"]                = np.where(df[\"UTI\"]               == 2,  0,  df[\"UTI\"]             )\n",
        "df[\"VACINA\"]             = np.where(df[\"VACINA\"]            == 2,  0,  df[\"VACINA\"]          )\n",
        "df[\"VACINA_COV\"]         = np.where(df[\"VACINA_COV\"]        == 2,  0,  df[\"VACINA_COV\"]      )\n",
        "df[\"FATOR_RISC_GRAVE\"]   = np.where(df[\"FATOR_RISC_GRAVE\"]  == 2,  0, df[\"FATOR_RISC_GRAVE\"] )\n",
        "df[\"COMORBIDADE_GRAVE\"]  = np.where(df[\"COMORBIDADE_GRAVE\"] == 2,  0, df[\"COMORBIDADE_GRAVE\"])"
      ],
      "metadata": {
        "id": "q4gELsW3PQ9K"
      },
      "execution_count": 17,
      "outputs": []
    },
    {
      "cell_type": "code",
      "source": [
        "df[\"UTI\"]                = np.where(df[\"UTI\"]               == 9,  0.5,  df[\"UTI\"]             )\n",
        "df[\"VACINA\"]             = np.where(df[\"VACINA\"]            == 9,  0.5,  df[\"VACINA\"]          )\n",
        "df[\"VACINA_COV\"]         = np.where(df[\"VACINA_COV\"]        == 9,  0.5,  df[\"VACINA_COV\"]      )\n",
        "df[\"FATOR_RISC_GRAVE\"]   = np.where(df[\"FATOR_RISC_GRAVE\"]  == 9,  0.5, df[\"FATOR_RISC_GRAVE\"] )\n",
        "df[\"COMORBIDADE_GRAVE\"]  = np.where(df[\"COMORBIDADE_GRAVE\"] == 9,  0.5, df[\"COMORBIDADE_GRAVE\"])"
      ],
      "metadata": {
        "id": "GNJIibXHMyZF"
      },
      "execution_count": 18,
      "outputs": []
    },
    {
      "cell_type": "code",
      "source": [
        "for col in df.columns:\n",
        "    print(col)\n",
        "    print(df[col].unique())\n",
        "    print(\"_\"*100)"
      ],
      "metadata": {
        "colab": {
          "base_uri": "https://localhost:8080/"
        },
        "id": "VTDhktHsLzxR",
        "outputId": "f66e3dba-271b-4072-9453-80f6a705cb88"
      },
      "execution_count": 19,
      "outputs": [
        {
          "output_type": "stream",
          "name": "stdout",
          "text": [
            "NU_IDADE_N\n",
            "[  7   9  29  32   6   1  13  79  61  60   2  11  49  63  43  23  40  47\n",
            "  57  72  53  92  69  67  81  80  52  33  82  70  48  68  84  37  25  55\n",
            "  54  77  65  35  31  85  78  76  87  74  58  94  93  66  34  44  45  73\n",
            "  51  62  59  21  71  36  83  88   3  75  39  64  28  46  41  50  38  90\n",
            "  86  56  24 100  42  89  91  30  96  27  26  10  20  19   8   5  15  22\n",
            "  12  18   0   4  16  99  95  14  97  98  17]\n",
            "____________________________________________________________________________________________________\n",
            "FATOR_RISC\n",
            "[1. 0.]\n",
            "____________________________________________________________________________________________________\n",
            "VACINA_COV\n",
            "[0.  0.5 1. ]\n",
            "____________________________________________________________________________________________________\n",
            "VACINA\n",
            "[0.  0.5 1. ]\n",
            "____________________________________________________________________________________________________\n",
            "UTI\n",
            "[0.  0.5 1. ]\n",
            "____________________________________________________________________________________________________\n",
            "EVOLUCAO\n",
            "[1. 0.]\n",
            "____________________________________________________________________________________________________\n",
            "CLASSI_FIN\n",
            "[0 1]\n",
            "____________________________________________________________________________________________________\n",
            "ONDA\n",
            "[0.08955224 0.37313433 0.95522388 1.         0.17910448 0.31343284\n",
            " 0.55223881 0.56716418 0.1641791  0.98507463 0.86567164 1.04545455\n",
            " 1.02272727 1.11363636 1.38636364 1.31818182 1.18181818 1.15909091\n",
            " 1.27272727 1.47727273 1.22727273 1.06818182 1.09090909 1.61363636\n",
            " 1.40909091 1.34090909 1.25       1.20454545 1.29545455 1.63636364\n",
            " 1.13636364 1.36363636 1.43181818 1.59090909 1.68181818 1.90909091\n",
            " 1.5        1.95454545 1.81818182 1.54545455 1.45454545 1.88636364\n",
            " 1.86363636 2.         1.65909091 1.56818182 1.84090909 1.97727273\n",
            " 1.72727273 1.75       1.70454545 1.93181818 1.52272727 1.79545455\n",
            " 1.77272727 0.10447761 0.97014925 0.79104478 0.85074627 0.80597015\n",
            " 0.70149254 0.32835821 0.13432836 0.89552239 0.94029851 0.28358209\n",
            " 0.53731343 0.88059701 0.82089552 0.8358209  0.65671642 0.46268657\n",
            " 0.3880597  0.76119403 0.91044776 0.41791045 0.07462687 0.49253731\n",
            " 0.7761194  0.44776119 0.64179104 0.52238806 0.25373134 0.58208955\n",
            " 0.73134328 0.71641791 0.92537313 0.29850746 0.62686567 0.67164179\n",
            " 0.68656716 0.6119403  0.02985075 0.59701493 0.34328358 0.\n",
            " 0.74626866 0.04477612 0.19402985 0.23880597 0.01492537 0.47761194\n",
            " 0.43283582 0.20895522 0.26865672 0.50746269 0.14925373 0.11940299\n",
            " 0.40298507 0.05970149 0.35820896 0.2238806  3.         4.\n",
            " 4.01724138 4.17241379 4.05172414 4.34482759 4.18965517 4.55172414\n",
            " 4.36206897 4.20689655 4.39655172 4.5862069  4.37931034 4.63793103\n",
            " 4.44827586 4.51724138 4.10344828 4.96551724 5.         4.48275862\n",
            " 4.77586207 4.75862069 4.84482759 4.79310345 4.25862069 4.22413793\n",
            " 4.81034483 4.72413793 4.0862069  4.32758621 4.43103448 4.87931034\n",
            " 4.03448276 4.31034483 4.65517241 4.12068966 4.27586207 4.24137931\n",
            " 4.29310345 4.67241379 4.06896552 4.70689655 4.86206897 4.82758621\n",
            " 4.74137931 4.46551724 4.94827586 4.89655172 4.13793103 4.5\n",
            " 4.60344828 4.53448276 4.62068966 4.9137931  4.93103448 4.4137931\n",
            " 4.98275862 4.15517241 4.68965517 4.56896552]\n",
            "____________________________________________________________________________________________________\n",
            "FATOR_RISC_GRAVE\n",
            "[1.  0.5 0. ]\n",
            "____________________________________________________________________________________________________\n",
            "COMORBIDADE_GRAVE\n",
            "[1.  0.5 0. ]\n",
            "____________________________________________________________________________________________________\n",
            "TEMP_ULT_DOSE\n",
            "[6.07392e+06 1.46880e+04 9.50400e+03 4.32000e+03 3.45600e+03 8.64000e+03\n",
            " 1.72800e+04 1.98720e+04 1.03680e+04 2.33280e+04 1.55520e+04 8.64000e+02\n",
            " 1.72800e+03 7.77600e+03 6.04800e+03 1.12320e+04 2.76480e+04 0.00000e+00\n",
            " 6.91200e+03 4.75200e+04 1.20960e+04 2.07360e+04 3.19680e+04 2.59200e+04\n",
            " 3.11040e+04 4.83840e+04 6.99840e+04 5.18400e+03 4.32000e+04 5.52960e+04\n",
            " 1.64160e+04 1.38240e+04 2.41920e+04 3.71520e+04 6.39360e+04 7.86240e+04\n",
            " 3.80160e+04 5.70240e+04 5.09760e+04 2.50560e+04 1.29600e+04 3.28320e+04\n",
            " 5.61600e+04 3.62880e+04 6.65280e+04 2.85120e+04 6.30720e+04 3.36960e+04\n",
            " 2.59200e+03 5.96160e+04 5.44320e+04 3.02400e+04 4.49280e+04 7.94880e+04\n",
            " 8.64000e+04 3.45600e+04 7.60320e+04 9.24480e+04 4.66560e+04 2.16000e+04\n",
            " 2.93760e+04 4.06080e+04 2.67840e+04 8.38080e+04 8.03520e+04 5.18400e+04\n",
            " 1.14912e+05 8.81280e+04 6.13440e+04 4.92480e+04 4.23360e+04 8.29440e+04\n",
            " 1.90080e+04 6.82560e+04 1.10592e+05 7.77600e+04 1.07136e+05 1.01952e+05\n",
            " 7.25760e+04 8.46720e+04 5.01120e+04 8.72640e+04 1.45152e+05 8.12160e+04\n",
            " 8.20800e+04 1.23552e+05 7.08480e+04 3.97440e+04 6.22080e+04 1.15776e+05\n",
            " 1.16640e+05 1.20096e+05 5.27040e+04 6.73920e+04 1.04544e+05 4.14720e+04\n",
            " 9.67680e+04 9.41760e+04 6.91200e+04 3.54240e+04 1.33920e+05 9.33120e+04\n",
            " 1.18368e+05 1.21824e+05 1.30464e+05 1.05408e+05 5.35680e+04 6.04800e+04\n",
            " 1.06272e+05 1.22688e+05 1.03680e+05 4.40640e+04 1.02816e+05 1.29600e+05\n",
            " 1.14048e+05 6.48000e+04 1.32192e+05 3.88800e+04 7.51680e+04 1.63296e+05\n",
            " 1.46016e+05 1.17504e+05 1.28736e+05 1.33056e+05 1.35648e+05 9.84960e+04\n",
            " 1.57248e+05 1.85760e+05 1.58976e+05 1.41696e+05 1.47744e+05 1.08864e+05\n",
            " 7.43040e+04 1.71936e+05 7.68960e+04 1.86624e+05 1.27008e+05 4.57920e+04\n",
            " 9.50400e+04 5.78880e+04 8.98560e+04 1.40832e+05 1.19232e+05 2.23776e+05\n",
            " 1.59840e+05 9.07200e+04 1.46880e+05 1.42560e+05 6.56640e+04 1.68480e+05\n",
            " 1.73664e+05 8.89920e+04 9.59040e+04 1.09728e+05 7.34400e+04 1.77120e+05\n",
            " 1.51200e+05 2.07360e+05 2.48832e+05 2.20320e+05 1.55520e+05 2.03904e+05\n",
            " 2.47104e+05 1.20960e+05 1.27872e+05 1.48608e+05 1.00224e+05 1.94400e+05\n",
            " 1.80576e+05 2.16000e+05 1.11456e+05 1.84896e+05 1.69344e+05 1.62432e+05\n",
            " 1.38240e+05 8.55360e+04 9.93600e+04 1.36512e+05 1.67616e+05 7.17120e+04\n",
            " 1.39104e+05 1.39968e+05 1.95264e+05 1.52064e+05 2.08224e+05 2.22048e+05\n",
            " 2.32416e+05 1.75392e+05 2.09088e+05 1.31328e+05 2.24640e+05 1.81440e+04\n",
            " 2.24640e+04 1.50336e+05 9.76320e+04 1.08000e+05 1.78848e+05 1.13184e+05\n",
            " 1.26144e+05 5.87520e+04 2.00448e+05 1.44288e+05 1.12320e+05 1.81440e+05\n",
            " 1.64160e+05 1.37376e+05 1.70208e+05 1.52928e+05 9.15840e+04 1.34784e+05\n",
            " 2.67840e+05 1.58112e+05 1.90944e+05 1.49472e+05 2.14272e+05 2.58336e+05\n",
            " 1.65024e+05 1.76256e+05 1.71072e+05 1.83168e+05 1.77984e+05 1.74528e+05\n",
            " 1.87488e+05 1.82304e+05 1.65888e+05 2.06496e+05 2.70432e+05 1.24416e+05\n",
            " 1.61568e+05 2.12544e+05 2.30688e+05 2.27232e+05 2.28096e+05 1.01088e+05\n",
            " 1.53792e+05 1.93536e+05 1.43424e+05 2.05632e+05 1.25280e+05 1.60704e+05\n",
            " 2.42784e+05 2.13408e+05 2.40192e+05 2.10816e+05 1.79712e+05 2.65248e+05\n",
            " 1.98720e+05 2.72160e+05 2.26368e+05 2.03040e+05 2.17728e+05 2.55744e+05\n",
            " 2.41056e+05 2.02176e+05 2.47968e+05 2.19456e+05 1.66752e+05 1.89216e+05\n",
            " 1.54656e+05 2.15136e+05 1.90080e+05 2.86848e+05 2.35008e+05 2.01312e+05\n",
            " 2.49696e+05 1.88352e+05 2.73888e+05 2.38464e+05 1.84032e+05 2.09952e+05\n",
            " 2.11680e+05 2.60928e+05 1.56384e+05 2.29824e+05 2.21184e+05 1.72800e+05\n",
            " 1.91808e+05 2.39328e+05 1.96992e+05 2.62656e+05 2.56608e+05 2.34144e+05\n",
            " 2.52288e+05 1.92672e+05 2.45376e+05 2.18592e+05 2.44512e+05 2.16864e+05\n",
            " 2.64384e+05 1.97856e+05 2.59200e+05 2.22912e+05 2.57472e+05 2.50560e+05\n",
            " 2.51424e+05 1.99584e+05 2.68704e+05 2.54880e+05 2.33280e+05 2.04768e+05\n",
            " 2.36736e+05 2.41920e+05 2.25504e+05 2.54016e+05 2.63520e+05 2.60064e+05\n",
            " 2.74752e+05 2.43648e+05 2.37600e+05 2.28960e+05 3.17088e+05 1.96128e+05\n",
            " 2.71296e+05 3.36096e+05 2.75616e+05 2.31552e+05 2.76480e+05 2.61792e+05\n",
            " 2.53152e+05 2.66112e+05 3.20544e+05 2.46240e+05 2.66976e+05 4.83840e+05\n",
            " 3.23136e+05 2.35872e+05 2.73024e+05 3.18816e+05 5.51232e+05 2.83392e+05\n",
            " 3.51648e+05 3.08448e+05 2.69568e+05 3.49056e+05 2.79072e+05 2.85984e+05\n",
            " 2.77344e+05 3.15360e+05 2.84256e+05 2.95488e+05 2.87712e+05 3.43008e+05\n",
            " 2.89440e+05 3.30912e+05 2.78208e+05 2.88576e+05 3.54240e+05 4.77792e+05\n",
            " 5.14080e+05 2.79936e+05 3.24864e+05 3.13632e+05 3.17952e+05 3.19680e+05\n",
            " 3.01536e+05 3.42144e+05 2.92032e+05 2.82528e+05 3.47328e+05 3.11040e+05\n",
            " 2.91168e+05 2.94624e+05 3.12768e+05 2.81664e+05 2.96352e+05 5.56416e+05\n",
            " 3.73248e+05 3.45600e+05 3.43872e+05 3.63744e+05 2.80800e+05 3.74112e+05\n",
            " 3.33504e+05 3.50784e+05 2.97216e+05 3.59424e+05 4.49280e+05 4.42368e+05\n",
            " 2.90304e+05 4.63104e+05 3.62016e+05 4.73472e+05 3.58560e+05 3.52512e+05\n",
            " 2.92896e+05 3.53376e+05 3.60288e+05 2.93760e+05 3.35232e+05 3.31776e+05\n",
            " 3.03264e+05 3.05856e+05 3.02400e+05 3.00672e+05 2.99808e+05 3.10176e+05\n",
            " 2.98944e+05 2.98080e+05 2.85120e+05 3.09312e+05 3.06720e+05 3.04128e+05\n",
            " 3.28320e+05 3.07584e+05 3.14496e+05 3.16224e+05 3.11904e+05 3.25728e+05\n",
            " 3.04992e+05 5.52096e+05 6.07392e+05 5.46912e+05 3.22272e+05 3.24000e+05\n",
            " 3.21408e+05 4.33728e+05 4.87296e+05 3.27456e+05 5.78880e+05 3.26592e+05\n",
            " 5.24448e+05 3.29184e+05 5.76288e+05 4.74336e+05 5.78016e+05 3.36960e+05\n",
            " 4.86432e+05]\n",
            "____________________________________________________________________________________________________\n",
            "CLASSI_COV_EXAME\n",
            "[False  True]\n",
            "____________________________________________________________________________________________________\n",
            "TEMP_UTI\n",
            "[  0.   3.  10.   9.  21.   4.  15.  12.   2.  17.   5.  18.   7.   1.\n",
            "  29.  14.   6.  38.  60.  13.  63.  23.  37.  48.  19.   8.  22.  11.\n",
            "  41.  16.  25.  26.  34.  27.  20.  43.  42.  28.  36.  32.  35.  52.\n",
            "  67.  24.  31.  72.  33.  51.  79.  30. 101.  49.  53.  46.  59.  57.\n",
            "  47.  66.  40.  64.  71.  54.  85.  45.  73.  88.  93. 102.  62.  68.\n",
            "  39.  61.  55. 133.  58. 177. 111.  50. 175. 106.  44.  75.  65.  83.\n",
            " 110.  87.  56. 103.  89.  77.  99.  98. 198.  70. 100. 108.  82. 146.\n",
            "  94.  95.  69.  74.  78.  90.  97. 107.  80. 104.  91. 126. 240. 131.\n",
            "  81. 124. 162. 129. 105.  76.  86. 278. 138.  84. 209. 109. 120. 156.\n",
            " 148. 115. 273. 153. 150.  96. 128. 114. 267. 118. 164. 113. 141. 163.\n",
            " 117. 130. 119. 147. 137. 374.  92. 142. 143. 116. 132. 187. 144. 157.\n",
            " 125. 134. 202. 213. 123. 151. 394. 375. 207. 182. 122. 331. 224. 168.\n",
            " 121. 155. 169. 170. 292. 160. 357. 203. 127. 404. 136. 216. 222. 135.\n",
            " 223. 255. 112. 259. 300. 212. 377. 139. 367. 185. 149. 159. 372. 186.\n",
            " 173. 201. 140. 193. 241. 161. 154. 166. 181. 158. 287. 197. 179. 184.\n",
            " 191. 189. 368. 279. 282. 225. 547. 242. 152. 195. 145. 190. 217. 196.\n",
            " 237. 419. 180. 200. 366. 408. 365.]\n",
            "____________________________________________________________________________________________________\n"
          ]
        }
      ]
    },
    {
      "cell_type": "markdown",
      "metadata": {
        "id": "9rThwvf-EWDU"
      },
      "source": [
        "## tipos"
      ]
    },
    {
      "cell_type": "code",
      "execution_count": 20,
      "metadata": {
        "colab": {
          "base_uri": "https://localhost:8080/"
        },
        "id": "1yOJ5flEEdUM",
        "outputId": "330ae5b5-757e-45eb-c0bf-23fb909ffc55"
      },
      "outputs": [
        {
          "output_type": "stream",
          "name": "stdout",
          "text": [
            "<class 'pandas.core.frame.DataFrame'>\n",
            "Int64Index: 1873729 entries, 0 to 1879943\n",
            "Data columns (total 13 columns):\n",
            " #   Column             Dtype  \n",
            "---  ------             -----  \n",
            " 0   NU_IDADE_N         int64  \n",
            " 1   FATOR_RISC         float64\n",
            " 2   VACINA_COV         float64\n",
            " 3   VACINA             float64\n",
            " 4   UTI                float64\n",
            " 5   EVOLUCAO           float64\n",
            " 6   CLASSI_FIN         int64  \n",
            " 7   ONDA               float64\n",
            " 8   FATOR_RISC_GRAVE   float64\n",
            " 9   COMORBIDADE_GRAVE  float64\n",
            " 10  TEMP_ULT_DOSE      float64\n",
            " 11  CLASSI_COV_EXAME   bool   \n",
            " 12  TEMP_UTI           float64\n",
            "dtypes: bool(1), float64(10), int64(2)\n",
            "memory usage: 187.6 MB\n"
          ]
        }
      ],
      "source": [
        "df.info()"
      ]
    },
    {
      "cell_type": "markdown",
      "metadata": {
        "id": "V0QQnfSjBR17"
      },
      "source": [
        "## Normalização"
      ]
    },
    {
      "cell_type": "code",
      "execution_count": 21,
      "metadata": {
        "colab": {
          "base_uri": "https://localhost:8080/"
        },
        "id": "74M0hYnDE_xB",
        "outputId": "fe638b5b-e4b0-4a41-86b1-c02dd1e86e12"
      },
      "outputs": [
        {
          "output_type": "execute_result",
          "data": {
            "text/plain": [
              "0          0.0\n",
              "1          0.0\n",
              "2          0.0\n",
              "3          0.0\n",
              "4          0.0\n",
              "          ... \n",
              "1879939    0.0\n",
              "1879940    0.0\n",
              "1879941    1.0\n",
              "1879942    0.0\n",
              "1879943    0.0\n",
              "Name: CLASSI_COV_EXAME, Length: 1873729, dtype: float64"
            ]
          },
          "metadata": {},
          "execution_count": 21
        }
      ],
      "source": [
        "# convert from boolean to float\n",
        "df['CLASSI_COV_EXAME'].astype('float64')"
      ]
    },
    {
      "cell_type": "code",
      "source": [
        "mediaULTDOSE = df['TEMP_ULT_DOSE'].mean()\n",
        "print(mediaULTDOSE)\n",
        "print(df['TEMP_ULT_DOSE'].std())\n",
        "print(df['TEMP_ULT_DOSE'].max())\n",
        "\n",
        "print()\n",
        "\n",
        "mediaUTI = df['TEMP_UTI'].mean()\n",
        "print(mediaUTI)\n",
        "print(df['TEMP_UTI'].std())\n",
        "print(df['TEMP_UTI'].max())"
      ],
      "metadata": {
        "colab": {
          "base_uri": "https://localhost:8080/"
        },
        "id": "n8_naBV2LnuU",
        "outputId": "f9a41f65-22c2-4e8e-c906-833c6da81c35"
      },
      "execution_count": 22,
      "outputs": [
        {
          "output_type": "stream",
          "name": "stdout",
          "text": [
            "5383272.163861476\n",
            "1913315.728152069\n",
            "6073920.0\n",
            "\n",
            "2.387395402430127\n",
            "7.478357731102409\n",
            "547.0\n"
          ]
        }
      ]
    },
    {
      "cell_type": "code",
      "source": [
        "sns.displot(df['TEMP_ULT_DOSE'][df['TEMP_ULT_DOSE'] < 10*maximo], kde = True,aspect = 2)\n",
        "plt.show()\n",
        "\n",
        "print()\n",
        "\n",
        "sns.displot(df['TEMP_UTI'], kde = True,aspect = 2)\n",
        "plt.show()\n",
        "\n",
        "\n",
        "sns.displot(df['TEMP_UTI'][df['TEMP_UTI'] <= 5], kde = True,aspect = 2)\n",
        "plt.show()"
      ],
      "metadata": {
        "colab": {
          "base_uri": "https://localhost:8080/",
          "height": 1000
        },
        "id": "mr7i2xkgRIpw",
        "outputId": "030e1f39-be1d-4a30-d7fb-795934eb81cc"
      },
      "execution_count": 23,
      "outputs": [
        {
          "output_type": "display_data",
          "data": {
            "text/plain": [
              "<Figure size 720x360 with 1 Axes>"
            ],
            "image/png": "[encoded data removed]"
          },
          "metadata": {
            "needs_background": "light"
          }
        },
        {
          "output_type": "stream",
          "name": "stdout",
          "text": [
            "\n"
          ]
        },
        {
          "output_type": "display_data",
          "data": {
            "text/plain": [
              "<Figure size 720x360 with 1 Axes>"
            ],
            "image/png": "[encoded data removed]"
          },
          "metadata": {
            "needs_background": "light"
          }
        },
        {
          "output_type": "display_data",
          "data": {
            "text/plain": [
              "<Figure size 720x360 with 1 Axes>"
            ],
            "image/png": "[encoded data removed]"
          },
          "metadata": {
            "needs_background": "light"
          }
        }
      ]
    },
    {
      "cell_type": "code",
      "source": [
        "df['TEMP_UTI']   = df['TEMP_UTI']/    mediaUTI\n",
        "df['TEMP_ULT_DOSE'] = df['TEMP_ULT_DOSE']/mediaULTDOSE\n",
        "df['NU_IDADE_N'] = df['NU_IDADE_N']/100"
      ],
      "metadata": {
        "id": "516efpd4M_h5"
      },
      "execution_count": 24,
      "outputs": []
    },
    {
      "cell_type": "code",
      "source": [
        "for col in df.columns:\n",
        "    print(col)\n",
        "    print(pd.isnull(df[col]).any())\n",
        "    print(\"_\"*100)"
      ],
      "metadata": {
        "colab": {
          "base_uri": "https://localhost:8080/"
        },
        "id": "3JTBjVuIZy1O",
        "outputId": "c8539610-5a87-4204-d76a-28032affaacd"
      },
      "execution_count": 25,
      "outputs": [
        {
          "output_type": "stream",
          "name": "stdout",
          "text": [
            "NU_IDADE_N\n",
            "False\n",
            "____________________________________________________________________________________________________\n",
            "FATOR_RISC\n",
            "False\n",
            "____________________________________________________________________________________________________\n",
            "VACINA_COV\n",
            "False\n",
            "____________________________________________________________________________________________________\n",
            "VACINA\n",
            "False\n",
            "____________________________________________________________________________________________________\n",
            "UTI\n",
            "False\n",
            "____________________________________________________________________________________________________\n",
            "EVOLUCAO\n",
            "False\n",
            "____________________________________________________________________________________________________\n",
            "CLASSI_FIN\n",
            "False\n",
            "____________________________________________________________________________________________________\n",
            "ONDA\n",
            "False\n",
            "____________________________________________________________________________________________________\n",
            "FATOR_RISC_GRAVE\n",
            "False\n",
            "____________________________________________________________________________________________________\n",
            "COMORBIDADE_GRAVE\n",
            "False\n",
            "____________________________________________________________________________________________________\n",
            "TEMP_ULT_DOSE\n",
            "False\n",
            "____________________________________________________________________________________________________\n",
            "CLASSI_COV_EXAME\n",
            "False\n",
            "____________________________________________________________________________________________________\n",
            "TEMP_UTI\n",
            "False\n",
            "____________________________________________________________________________________________________\n"
          ]
        }
      ]
    },
    {
      "cell_type": "markdown",
      "metadata": {
        "id": "j8v0TjG1nE2Y"
      },
      "source": [
        "# Modelo"
      ]
    },
    {
      "cell_type": "code",
      "source": [
        "df[\"EVOLUCAO\"].value_counts()"
      ],
      "metadata": {
        "colab": {
          "base_uri": "https://localhost:8080/"
        },
        "id": "BueeM2VMGtGB",
        "outputId": "9b1148a8-6bdc-4bdd-d681-b8bb6de87992"
      },
      "execution_count": 26,
      "outputs": [
        {
          "output_type": "execute_result",
          "data": {
            "text/plain": [
              "1.0    1243269\n",
              "0.0     630460\n",
              "Name: EVOLUCAO, dtype: int64"
            ]
          },
          "metadata": {},
          "execution_count": 26
        }
      ]
    },
    {
      "cell_type": "code",
      "execution_count": 27,
      "metadata": {
        "id": "D5tyXmdinEmJ"
      },
      "outputs": [],
      "source": [
        "class Model(nn.Module):\n",
        "    def __init__(self, input_dimension = 12,output_dimension = 2):\n",
        "        super(Model, self).__init__()\n",
        "        self.L1 = nn.Linear(input_dimension,50)\n",
        "        self.L2 = nn.Linear(50,20)\n",
        "        self.L3 = nn.Linear(20,10)\n",
        "        self.L4 = nn.Linear(10,output_dimension)\n",
        "        \n",
        "        \n",
        "\n",
        "    def forward(self,x):\n",
        "        x = F.relu( self.L1 (x) )\n",
        "        x = F.relu( self.L2 (x) )\n",
        "        x = F.relu( self.L3 (x) )\n",
        "        return F.softmax( self.L4 (x) )\n",
        "\n",
        "    def normalize(self,X,normUTI = 10,normULTDOSE = 5383272):\n",
        "        X['TEMP_UTI']   = X['TEMP_UTI']/    normUTI\n",
        "        X['TEMP_ULT_DOSE'] = X['TEMP_ULT_DOSE']/normULTDOSE\n",
        "        X['NU_IDADE_N'] = X['NU_IDADE_N']/100 "
      ]
    },
    {
      "cell_type": "markdown",
      "metadata": {
        "id": "88I9xDn5MYRd"
      },
      "source": [
        "# Treinamento"
      ]
    },
    {
      "cell_type": "markdown",
      "metadata": {
        "id": "44QmC-lCNcPT"
      },
      "source": [
        "## separar features e label"
      ]
    },
    {
      "cell_type": "markdown",
      "source": [
        "###Separa aproximadamente mesma quantidade para evitar esquecimento catastrófico"
      ],
      "metadata": {
        "id": "649NTvlBqn8H"
      }
    },
    {
      "cell_type": "code",
      "source": [
        "df[df[\"CLASSI_FIN\"] == 1]"
      ],
      "metadata": {
        "colab": {
          "base_uri": "https://localhost:8080/",
          "height": 488
        },
        "id": "WlmoLp4tEZWr",
        "outputId": "be7e8889-a3df-49a6-8469-03101cdd3a6f"
      },
      "execution_count": 28,
      "outputs": [
        {
          "output_type": "execute_result",
          "data": {
            "text/plain": [
              "         NU_IDADE_N  FATOR_RISC  VACINA_COV  VACINA  UTI  EVOLUCAO  \\\n",
              "7              0.79         1.0         0.0     0.5  0.0       0.0   \n",
              "8              0.61         1.0         0.0     0.5  0.0       1.0   \n",
              "10             0.60         1.0         0.0     0.5  1.0       0.0   \n",
              "15             0.32         0.0         0.0     0.5  0.5       1.0   \n",
              "17             0.43         0.0         0.0     0.5  1.0       1.0   \n",
              "...             ...         ...         ...     ...  ...       ...   \n",
              "1879939        0.72         1.0         1.0     0.5  1.0       0.0   \n",
              "1879940        0.75         1.0         1.0     0.0  0.0       1.0   \n",
              "1879941        0.63         1.0         1.0     0.5  0.0       1.0   \n",
              "1879942        0.41         0.0         1.0     0.5  0.0       1.0   \n",
              "1879943        0.81         1.0         1.0     0.5  0.0       1.0   \n",
              "\n",
              "         CLASSI_FIN  ONDA  FATOR_RISC_GRAVE  COMORBIDADE_GRAVE  TEMP_ULT_DOSE  \\\n",
              "7                 1   1.0               1.0                1.0       1.128295   \n",
              "8                 1   1.0               1.0                0.5       1.128295   \n",
              "10                1   1.0               1.0                1.0       1.128295   \n",
              "15                1   1.0               0.5                0.5       1.128295   \n",
              "17                1   1.0               0.5                0.5       1.128295   \n",
              "...             ...   ...               ...                ...            ...   \n",
              "1879939           1   5.0               1.0                1.0       0.037717   \n",
              "1879940           1   5.0               1.0                1.0       0.013000   \n",
              "1879941           1   5.0               1.0                1.0       0.005457   \n",
              "1879942           1   5.0               0.5                0.5       0.019260   \n",
              "1879943           1   5.0               1.0                1.0       0.046705   \n",
              "\n",
              "         CLASSI_COV_EXAME  TEMP_UTI  \n",
              "7                    True  0.000000  \n",
              "8                    True  0.000000  \n",
              "10                   True  0.000000  \n",
              "15                   True  0.000000  \n",
              "17                   True  4.188665  \n",
              "...                   ...       ...  \n",
              "1879939             False  0.000000  \n",
              "1879940             False  0.000000  \n",
              "1879941              True  0.000000  \n",
              "1879942             False  0.000000  \n",
              "1879943             False  0.000000  \n",
              "\n",
              "[1827126 rows x 13 columns]"
            ],
            "text/html": [
              "\n",
              "  <div id=\"df-0f6bae8f-738d-4c3d-acb6-c6314ee5000b\">\n",
              "    <div class=\"colab-df-container\">\n",
              "      <div>\n",
              "<style scoped>\n",
              "    .dataframe tbody tr th:only-of-type {\n",
              "        vertical-align: middle;\n",
              "    }\n",
              "\n",
              "    .dataframe tbody tr th {\n",
              "        vertical-align: top;\n",
              "    }\n",
              "\n",
              "    .dataframe thead th {\n",
              "        text-align: right;\n",
              "    }\n",
              "</style>\n",
              "<table border=\"1\" class=\"dataframe\">\n",
              "  <thead>\n",
              "    <tr style=\"text-align: right;\">\n",
              "      <th></th>\n",
              "      <th>NU_IDADE_N</th>\n",
              "      <th>FATOR_RISC</th>\n",
              "      <th>VACINA_COV</th>\n",
              "      <th>VACINA</th>\n",
              "      <th>UTI</th>\n",
              "      <th>EVOLUCAO</th>\n",
              "      <th>CLASSI_FIN</th>\n",
              "      <th>ONDA</th>\n",
              "      <th>FATOR_RISC_GRAVE</th>\n",
              "      <th>COMORBIDADE_GRAVE</th>\n",
              "      <th>TEMP_ULT_DOSE</th>\n",
              "      <th>CLASSI_COV_EXAME</th>\n",
              "      <th>TEMP_UTI</th>\n",
              "    </tr>\n",
              "  </thead>\n",
              "  <tbody>\n",
              "    <tr>\n",
              "      <th>7</th>\n",
              "      <td>0.79</td>\n",
              "      <td>1.0</td>\n",
              "      <td>0.0</td>\n",
              "      <td>0.5</td>\n",
              "      <td>0.0</td>\n",
              "      <td>0.0</td>\n",
              "      <td>1</td>\n",
              "      <td>1.0</td>\n",
              "      <td>1.0</td>\n",
              "      <td>1.0</td>\n",
              "      <td>1.128295</td>\n",
              "      <td>True</td>\n",
              "      <td>0.000000</td>\n",
              "    </tr>\n",
              "    <tr>\n",
              "      <th>8</th>\n",
              "      <td>0.61</td>\n",
              "      <td>1.0</td>\n",
              "      <td>0.0</td>\n",
              "      <td>0.5</td>\n",
              "      <td>0.0</td>\n",
              "      <td>1.0</td>\n",
              "      <td>1</td>\n",
              "      <td>1.0</td>\n",
              "      <td>1.0</td>\n",
              "      <td>0.5</td>\n",
              "      <td>1.128295</td>\n",
              "      <td>True</td>\n",
              "      <td>0.000000</td>\n",
              "    </tr>\n",
              "    <tr>\n",
              "      <th>10</th>\n",
              "      <td>0.60</td>\n",
              "      <td>1.0</td>\n",
              "      <td>0.0</td>\n",
              "      <td>0.5</td>\n",
              "      <td>1.0</td>\n",
              "      <td>0.0</td>\n",
              "      <td>1</td>\n",
              "      <td>1.0</td>\n",
              "      <td>1.0</td>\n",
              "      <td>1.0</td>\n",
              "      <td>1.128295</td>\n",
              "      <td>True</td>\n",
              "      <td>0.000000</td>\n",
              "    </tr>\n",
              "    <tr>\n",
              "      <th>15</th>\n",
              "      <td>0.32</td>\n",
              "      <td>0.0</td>\n",
              "      <td>0.0</td>\n",
              "      <td>0.5</td>\n",
              "      <td>0.5</td>\n",
              "      <td>1.0</td>\n",
              "      <td>1</td>\n",
              "      <td>1.0</td>\n",
              "      <td>0.5</td>\n",
              "      <td>0.5</td>\n",
              "      <td>1.128295</td>\n",
              "      <td>True</td>\n",
              "      <td>0.000000</td>\n",
              "    </tr>\n",
              "    <tr>\n",
              "      <th>17</th>\n",
              "      <td>0.43</td>\n",
              "      <td>0.0</td>\n",
              "      <td>0.0</td>\n",
              "      <td>0.5</td>\n",
              "      <td>1.0</td>\n",
              "      <td>1.0</td>\n",
              "      <td>1</td>\n",
              "      <td>1.0</td>\n",
              "      <td>0.5</td>\n",
              "      <td>0.5</td>\n",
              "      <td>1.128295</td>\n",
              "      <td>True</td>\n",
              "      <td>4.188665</td>\n",
              "    </tr>\n",
              "    <tr>\n",
              "      <th>...</th>\n",
              "      <td>...</td>\n",
              "      <td>...</td>\n",
              "      <td>...</td>\n",
              "      <td>...</td>\n",
              "      <td>...</td>\n",
              "      <td>...</td>\n",
              "      <td>...</td>\n",
              "      <td>...</td>\n",
              "      <td>...</td>\n",
              "      <td>...</td>\n",
              "      <td>...</td>\n",
              "      <td>...</td>\n",
              "      <td>...</td>\n",
              "    </tr>\n",
              "    <tr>\n",
              "      <th>1879939</th>\n",
              "      <td>0.72</td>\n",
              "      <td>1.0</td>\n",
              "      <td>1.0</td>\n",
              "      <td>0.5</td>\n",
              "      <td>1.0</td>\n",
              "      <td>0.0</td>\n",
              "      <td>1</td>\n",
              "      <td>5.0</td>\n",
              "      <td>1.0</td>\n",
              "      <td>1.0</td>\n",
              "      <td>0.037717</td>\n",
              "      <td>False</td>\n",
              "      <td>0.000000</td>\n",
              "    </tr>\n",
              "    <tr>\n",
              "      <th>1879940</th>\n",
              "      <td>0.75</td>\n",
              "      <td>1.0</td>\n",
              "      <td>1.0</td>\n",
              "      <td>0.0</td>\n",
              "      <td>0.0</td>\n",
              "      <td>1.0</td>\n",
              "      <td>1</td>\n",
              "      <td>5.0</td>\n",
              "      <td>1.0</td>\n",
              "      <td>1.0</td>\n",
              "      <td>0.013000</td>\n",
              "      <td>False</td>\n",
              "      <td>0.000000</td>\n",
              "    </tr>\n",
              "    <tr>\n",
              "      <th>1879941</th>\n",
              "      <td>0.63</td>\n",
              "      <td>1.0</td>\n",
              "      <td>1.0</td>\n",
              "      <td>0.5</td>\n",
              "      <td>0.0</td>\n",
              "      <td>1.0</td>\n",
              "      <td>1</td>\n",
              "      <td>5.0</td>\n",
              "      <td>1.0</td>\n",
              "      <td>1.0</td>\n",
              "      <td>0.005457</td>\n",
              "      <td>True</td>\n",
              "      <td>0.000000</td>\n",
              "    </tr>\n",
              "    <tr>\n",
              "      <th>1879942</th>\n",
              "      <td>0.41</td>\n",
              "      <td>0.0</td>\n",
              "      <td>1.0</td>\n",
              "      <td>0.5</td>\n",
              "      <td>0.0</td>\n",
              "      <td>1.0</td>\n",
              "      <td>1</td>\n",
              "      <td>5.0</td>\n",
              "      <td>0.5</td>\n",
              "      <td>0.5</td>\n",
              "      <td>0.019260</td>\n",
              "      <td>False</td>\n",
              "      <td>0.000000</td>\n",
              "    </tr>\n",
              "    <tr>\n",
              "      <th>1879943</th>\n",
              "      <td>0.81</td>\n",
              "      <td>1.0</td>\n",
              "      <td>1.0</td>\n",
              "      <td>0.5</td>\n",
              "      <td>0.0</td>\n",
              "      <td>1.0</td>\n",
              "      <td>1</td>\n",
              "      <td>5.0</td>\n",
              "      <td>1.0</td>\n",
              "      <td>1.0</td>\n",
              "      <td>0.046705</td>\n",
              "      <td>False</td>\n",
              "      <td>0.000000</td>\n",
              "    </tr>\n",
              "  </tbody>\n",
              "</table>\n",
              "<p>1827126 rows × 13 columns</p>\n",
              "</div>\n",
              "      <button class=\"colab-df-convert\" onclick=\"convertToInteractive('df-0f6bae8f-738d-4c3d-acb6-c6314ee5000b')\"\n",
              "              title=\"Convert this dataframe to an interactive table.\"\n",
              "              style=\"display:none;\">\n",
              "        \n",
              "  <svg xmlns=\"http://www.w3.org/2000/svg\" height=\"24px\"viewBox=\"0 0 24 24\"\n",
              "       width=\"24px\">\n",
              "    <path d=\"M0 0h24v24H0V0z\" fill=\"none\"/>\n",
              "    <path d=\"M18.56 5.44l.94 2.06.94-2.06 2.06-.94-2.06-.94-.94-2.06-.94 2.06-2.06.94zm-11 1L8.5 8.5l.94-2.06 2.06-.94-2.06-.94L8.5 2.5l-.94 2.06-2.06.94zm10 10l.94 2.06.94-2.06 2.06-.94-2.06-.94-.94-2.06-.94 2.06-2.06.94z\"/><path d=\"M17.41 7.96l-1.37-1.37c-.4-.4-.92-.59-1.43-.59-.52 0-1.04.2-1.43.59L10.3 9.45l-7.72 7.72c-.78.78-.78 2.05 0 2.83L4 21.41c.39.39.9.59 1.41.59.51 0 1.02-.2 1.41-.59l7.78-7.78 2.81-2.81c.8-.78.8-2.07 0-2.86zM5.41 20L4 18.59l7.72-7.72 1.47 1.35L5.41 20z\"/>\n",
              "  </svg>\n",
              "      </button>\n",
              "      \n",
              "  <style>\n",
              "    .colab-df-container {\n",
              "      display:flex;\n",
              "      flex-wrap:wrap;\n",
              "      gap: 12px;\n",
              "    }\n",
              "\n",
              "    .colab-df-convert {\n",
              "      background-color: #E8F0FE;\n",
              "      border: none;\n",
              "      border-radius: 50%;\n",
              "      cursor: pointer;\n",
              "      display: none;\n",
              "      fill: #1967D2;\n",
              "      height: 32px;\n",
              "      padding: 0 0 0 0;\n",
              "      width: 32px;\n",
              "    }\n",
              "\n",
              "    .colab-df-convert:hover {\n",
              "      background-color: #E2EBFA;\n",
              "      box-shadow: 0px 1px 2px rgba(60, 64, 67, 0.3), 0px 1px 3px 1px rgba(60, 64, 67, 0.15);\n",
              "      fill: #174EA6;\n",
              "    }\n",
              "\n",
              "    [theme=dark] .colab-df-convert {\n",
              "      background-color: #3B4455;\n",
              "      fill: #D2E3FC;\n",
              "    }\n",
              "\n",
              "    [theme=dark] .colab-df-convert:hover {\n",
              "      background-color: #434B5C;\n",
              "      box-shadow: 0px 1px 3px 1px rgba(0, 0, 0, 0.15);\n",
              "      filter: drop-shadow(0px 1px 2px rgba(0, 0, 0, 0.3));\n",
              "      fill: #FFFFFF;\n",
              "    }\n",
              "  </style>\n",
              "\n",
              "      <script>\n",
              "        const buttonEl =\n",
              "          document.querySelector('#df-0f6bae8f-738d-4c3d-acb6-c6314ee5000b button.colab-df-convert');\n",
              "        buttonEl.style.display =\n",
              "          google.colab.kernel.accessAllowed ? 'block' : 'none';\n",
              "\n",
              "        async function convertToInteractive(key) {\n",
              "          const element = document.querySelector('#df-0f6bae8f-738d-4c3d-acb6-c6314ee5000b');\n",
              "          const dataTable =\n",
              "            await google.colab.kernel.invokeFunction('convertToInteractive',\n",
              "                                                     [key], {});\n",
              "          if (!dataTable) return;\n",
              "\n",
              "          const docLinkHtml = 'Like what you see? Visit the ' +\n",
              "            '<a target=\"_blank\" href=https://colab.research.google.com/notebooks/data_table.ipynb>data table notebook</a>'\n",
              "            + ' to learn more about interactive tables.';\n",
              "          element.innerHTML = '';\n",
              "          dataTable['output_type'] = 'display_data';\n",
              "          await google.colab.output.renderOutput(dataTable, element);\n",
              "          const docLink = document.createElement('div');\n",
              "          docLink.innerHTML = docLinkHtml;\n",
              "          element.appendChild(docLink);\n",
              "        }\n",
              "      </script>\n",
              "    </div>\n",
              "  </div>\n",
              "  "
            ]
          },
          "metadata": {},
          "execution_count": 28
        }
      ]
    },
    {
      "cell_type": "code",
      "source": [
        "N0covid = len(df[df[\"CLASSI_FIN\"] == 0])\n",
        "df_equilibrado = (df[df[\"CLASSI_FIN\"] == 1].sample(2*N0covid)).append(df[df[\"CLASSI_FIN\"] == 0])"
      ],
      "metadata": {
        "id": "8-KG_PrOqm1E"
      },
      "execution_count": 29,
      "outputs": []
    },
    {
      "cell_type": "code",
      "execution_count": 30,
      "metadata": {
        "id": "jcFBjdMpMZhj"
      },
      "outputs": [],
      "source": [
        "features,labels = df_equilibrado.drop(columns = [\"CLASSI_FIN\",\"EVOLUCAO\",\"TEMP_UTI\"]), df_equilibrado[\"CLASSI_FIN\"]\n",
        "features_train,features_test, labels_train, labels_test = train_test_split(features, labels, random_state=42, shuffle=True)"
      ]
    },
    {
      "cell_type": "code",
      "execution_count": 31,
      "metadata": {
        "colab": {
          "base_uri": "https://localhost:8080/"
        },
        "id": "-AGybZyzEoVl",
        "outputId": "0a7b869f-59ee-4aaf-9fc4-351211a46bbd"
      },
      "outputs": [
        {
          "output_type": "stream",
          "name": "stdout",
          "text": [
            "<class 'pandas.core.frame.DataFrame'>\n",
            "Int64Index: 104856 entries, 1242370 to 1380769\n",
            "Data columns (total 10 columns):\n",
            " #   Column             Non-Null Count   Dtype  \n",
            "---  ------             --------------   -----  \n",
            " 0   NU_IDADE_N         104856 non-null  float64\n",
            " 1   FATOR_RISC         104856 non-null  float64\n",
            " 2   VACINA_COV         104856 non-null  float64\n",
            " 3   VACINA             104856 non-null  float64\n",
            " 4   UTI                104856 non-null  float64\n",
            " 5   ONDA               104856 non-null  float64\n",
            " 6   FATOR_RISC_GRAVE   104856 non-null  float64\n",
            " 7   COMORBIDADE_GRAVE  104856 non-null  float64\n",
            " 8   TEMP_ULT_DOSE      104856 non-null  float64\n",
            " 9   CLASSI_COV_EXAME   104856 non-null  bool   \n",
            "dtypes: bool(1), float64(9)\n",
            "memory usage: 8.1 MB\n"
          ]
        }
      ],
      "source": [
        "features_train.info()"
      ]
    },
    {
      "cell_type": "markdown",
      "metadata": {
        "id": "HJbTzE7DnQvW"
      },
      "source": [
        "## otimização"
      ]
    },
    {
      "cell_type": "code",
      "execution_count": 32,
      "metadata": {
        "id": "nWGA5_cHMy1l",
        "colab": {
          "base_uri": "https://localhost:8080/"
        },
        "outputId": "eddfd042-1ae0-47c0-9216-695e1ab7fe0d"
      },
      "outputs": [
        {
          "output_type": "stream",
          "name": "stdout",
          "text": [
            "y_train:  tensor([1, 1, 1,  ..., 0, 0, 0])\n",
            "Epoch  1 |  loss:  0.7227473855018616\n",
            "Epoch  2 |  loss:  0.7136915922164917\n"
          ]
        },
        {
          "output_type": "stream",
          "name": "stderr",
          "text": [
            "/usr/local/lib/python3.7/dist-packages/ipykernel_launcher.py:15: UserWarning: Implicit dimension choice for softmax has been deprecated. Change the call to include dim=X as an argument.\n",
            "  from ipykernel import kernelapp as app\n"
          ]
        },
        {
          "output_type": "stream",
          "name": "stdout",
          "text": [
            "Epoch  3 |  loss:  0.7084002494812012\n",
            "Epoch  4 |  loss:  0.7049852013587952\n",
            "Epoch  5 |  loss:  0.7006953954696655\n",
            "Epoch  6 |  loss:  0.6956295967102051\n",
            "Epoch  7 |  loss:  0.689993143081665\n",
            "Epoch  8 |  loss:  0.6835351586341858\n",
            "Epoch  9 |  loss:  0.6762439608573914\n",
            "Epoch  10 |  loss:  0.6682252287864685\n",
            "Epoch  11 |  loss:  0.6594606041908264\n",
            "Epoch  12 |  loss:  0.649978756904602\n",
            "Epoch  13 |  loss:  0.6399266719818115\n",
            "Epoch  14 |  loss:  0.6293627619743347\n",
            "Epoch  15 |  loss:  0.618457555770874\n",
            "Epoch  16 |  loss:  0.6074599623680115\n",
            "Epoch  17 |  loss:  0.5965360999107361\n",
            "Epoch  18 |  loss:  0.5857111811637878\n",
            "Epoch  19 |  loss:  0.5745174288749695\n",
            "Epoch  20 |  loss:  0.5624130368232727\n",
            "Epoch  21 |  loss:  0.5491973161697388\n",
            "Epoch  22 |  loss:  0.5353370904922485\n",
            "Epoch  23 |  loss:  0.5224562883377075\n",
            "Epoch  24 |  loss:  0.5119944214820862\n",
            "Epoch  25 |  loss:  0.5019621849060059\n",
            "Epoch  26 |  loss:  0.4919005036354065\n",
            "Epoch  27 |  loss:  0.4833349585533142\n",
            "Epoch  28 |  loss:  0.47664207220077515\n",
            "Epoch  29 |  loss:  0.47057756781578064\n",
            "Epoch  30 |  loss:  0.4645906388759613\n",
            "Epoch  31 |  loss:  0.4596036672592163\n",
            "Epoch  32 |  loss:  0.45586156845092773\n",
            "Epoch  33 |  loss:  0.45244789123535156\n",
            "Epoch  34 |  loss:  0.44905221462249756\n",
            "Epoch  35 |  loss:  0.4461032450199127\n",
            "Epoch  36 |  loss:  0.4437202215194702\n",
            "Epoch  37 |  loss:  0.44160962104797363\n",
            "Epoch  38 |  loss:  0.4395422339439392\n",
            "Epoch  39 |  loss:  0.43767017126083374\n",
            "Epoch  40 |  loss:  0.43604522943496704\n",
            "Epoch  41 |  loss:  0.4344254434108734\n",
            "Epoch  42 |  loss:  0.4329237937927246\n",
            "Epoch  43 |  loss:  0.43199947476387024\n",
            "Epoch  44 |  loss:  0.43125781416893005\n",
            "Epoch  45 |  loss:  0.4304169714450836\n",
            "Epoch  46 |  loss:  0.4296853840351105\n",
            "Epoch  47 |  loss:  0.4285738170146942\n",
            "Epoch  48 |  loss:  0.4274962842464447\n",
            "Epoch  49 |  loss:  0.42663922905921936\n",
            "Epoch  50 |  loss:  0.42599889636039734\n",
            "Epoch  51 |  loss:  0.4256250858306885\n",
            "Epoch  52 |  loss:  0.4251280725002289\n",
            "Epoch  53 |  loss:  0.42474493384361267\n",
            "Epoch  54 |  loss:  0.4241696000099182\n",
            "Epoch  55 |  loss:  0.4236014783382416\n",
            "Epoch  56 |  loss:  0.422973096370697\n",
            "Epoch  57 |  loss:  0.42231664061546326\n",
            "Epoch  58 |  loss:  0.42173585295677185\n",
            "Epoch  59 |  loss:  0.42116227746009827\n",
            "Epoch  60 |  loss:  0.42074263095855713\n",
            "Epoch  61 |  loss:  0.42034298181533813\n",
            "Epoch  62 |  loss:  0.42006033658981323\n",
            "Epoch  63 |  loss:  0.41973191499710083\n",
            "Epoch  64 |  loss:  0.4193976819515228\n",
            "Epoch  65 |  loss:  0.41903600096702576\n",
            "Epoch  66 |  loss:  0.4186910092830658\n",
            "Epoch  67 |  loss:  0.41837599873542786\n",
            "Epoch  68 |  loss:  0.41805964708328247\n",
            "Epoch  69 |  loss:  0.4177572727203369\n",
            "Epoch  70 |  loss:  0.4174206852912903\n",
            "Epoch  71 |  loss:  0.4170990586280823\n",
            "Epoch  72 |  loss:  0.41677406430244446\n",
            "Epoch  73 |  loss:  0.4165022671222687\n",
            "Epoch  74 |  loss:  0.41626250743865967\n",
            "Epoch  75 |  loss:  0.4160454273223877\n",
            "Epoch  76 |  loss:  0.4158114492893219\n",
            "Epoch  77 |  loss:  0.4155581593513489\n",
            "Epoch  78 |  loss:  0.4152981638908386\n",
            "Epoch  79 |  loss:  0.4150444269180298\n",
            "Epoch  80 |  loss:  0.4148105978965759\n",
            "Epoch  81 |  loss:  0.4145844578742981\n",
            "Epoch  82 |  loss:  0.41435346007347107\n",
            "Epoch  83 |  loss:  0.4141009747982025\n",
            "Epoch  84 |  loss:  0.41387346386909485\n",
            "Epoch  85 |  loss:  0.41366496682167053\n",
            "Epoch  86 |  loss:  0.4134790003299713\n",
            "Epoch  87 |  loss:  0.41329482197761536\n",
            "Epoch  88 |  loss:  0.4131074845790863\n",
            "Epoch  89 |  loss:  0.4129120707511902\n",
            "Epoch  90 |  loss:  0.4127194881439209\n",
            "Epoch  91 |  loss:  0.41253042221069336\n",
            "Epoch  92 |  loss:  0.41234734654426575\n",
            "Epoch  93 |  loss:  0.41216182708740234\n",
            "Epoch  94 |  loss:  0.41197139024734497\n",
            "Epoch  95 |  loss:  0.41177207231521606\n",
            "Epoch  96 |  loss:  0.411568820476532\n",
            "Epoch  97 |  loss:  0.41136375069618225\n",
            "Epoch  98 |  loss:  0.4111606478691101\n",
            "Epoch  99 |  loss:  0.41096195578575134\n",
            "Epoch  100 |  loss:  0.4107651114463806\n",
            "Epoch  101 |  loss:  0.41057121753692627\n",
            "Epoch  102 |  loss:  0.4103817045688629\n",
            "Epoch  103 |  loss:  0.41020214557647705\n",
            "Epoch  104 |  loss:  0.4100258946418762\n",
            "Epoch  105 |  loss:  0.40984779596328735\n",
            "Epoch  106 |  loss:  0.4096715748310089\n",
            "Epoch  107 |  loss:  0.4095030426979065\n",
            "Epoch  108 |  loss:  0.40933436155319214\n",
            "Epoch  109 |  loss:  0.40916138887405396\n",
            "Epoch  110 |  loss:  0.40898945927619934\n",
            "Epoch  111 |  loss:  0.408821165561676\n",
            "Epoch  112 |  loss:  0.4086533784866333\n",
            "Epoch  113 |  loss:  0.40848293900489807\n",
            "Epoch  114 |  loss:  0.40831258893013\n",
            "Epoch  115 |  loss:  0.40814340114593506\n",
            "Epoch  116 |  loss:  0.4079742729663849\n",
            "Epoch  117 |  loss:  0.4078053832054138\n",
            "Epoch  118 |  loss:  0.40763965249061584\n",
            "Epoch  119 |  loss:  0.4074733555316925\n",
            "Epoch  120 |  loss:  0.4073043465614319\n",
            "Epoch  121 |  loss:  0.4071345329284668\n",
            "Epoch  122 |  loss:  0.40696442127227783\n",
            "Epoch  123 |  loss:  0.406791627407074\n",
            "Epoch  124 |  loss:  0.40661177039146423\n",
            "Epoch  125 |  loss:  0.406429260969162\n",
            "Epoch  126 |  loss:  0.40624886751174927\n",
            "Epoch  127 |  loss:  0.4060693681240082\n",
            "Epoch  128 |  loss:  0.4058896601200104\n",
            "Epoch  129 |  loss:  0.40571343898773193\n",
            "Epoch  130 |  loss:  0.40553805232048035\n",
            "Epoch  131 |  loss:  0.40536239743232727\n",
            "Epoch  132 |  loss:  0.40518611669540405\n",
            "Epoch  133 |  loss:  0.405009388923645\n",
            "Epoch  134 |  loss:  0.4048313498497009\n",
            "Epoch  135 |  loss:  0.4046536087989807\n",
            "Epoch  136 |  loss:  0.4044777750968933\n",
            "Epoch  137 |  loss:  0.40430179238319397\n",
            "Epoch  138 |  loss:  0.40412598848342896\n",
            "Epoch  139 |  loss:  0.4039526581764221\n",
            "Epoch  140 |  loss:  0.40378397703170776\n",
            "Epoch  141 |  loss:  0.403618723154068\n",
            "Epoch  142 |  loss:  0.4034636318683624\n",
            "Epoch  143 |  loss:  0.403369277715683\n",
            "Epoch  144 |  loss:  0.403580904006958\n",
            "Epoch  145 |  loss:  0.40466374158859253\n",
            "Epoch  146 |  loss:  0.40571945905685425\n",
            "Epoch  147 |  loss:  0.40307772159576416\n",
            "Epoch  148 |  loss:  0.40366289019584656\n",
            "Epoch  149 |  loss:  0.4042903780937195\n",
            "Epoch  150 |  loss:  0.40241992473602295\n",
            "Epoch  151 |  loss:  0.4042465090751648\n",
            "Epoch  152 |  loss:  0.40297114849090576\n",
            "Epoch  153 |  loss:  0.40277138352394104\n",
            "Epoch  154 |  loss:  0.4032232165336609\n",
            "Epoch  155 |  loss:  0.4018741250038147\n",
            "Epoch  156 |  loss:  0.40281224250793457\n",
            "Epoch  157 |  loss:  0.4016381800174713\n",
            "Epoch  158 |  loss:  0.40236902236938477\n",
            "Epoch  159 |  loss:  0.4017488360404968\n",
            "Epoch  160 |  loss:  0.40164923667907715\n",
            "Epoch  161 |  loss:  0.40180879831314087\n",
            "Epoch  162 |  loss:  0.40107277035713196\n",
            "Epoch  163 |  loss:  0.4015387296676636\n",
            "Epoch  164 |  loss:  0.4008864760398865\n",
            "Epoch  165 |  loss:  0.40108099579811096\n",
            "Epoch  166 |  loss:  0.40090635418891907\n",
            "Epoch  167 |  loss:  0.4005547761917114\n",
            "Epoch  168 |  loss:  0.4008115231990814\n",
            "Epoch  169 |  loss:  0.40031445026397705\n",
            "Epoch  170 |  loss:  0.4003390371799469\n",
            "Epoch  171 |  loss:  0.400309681892395\n",
            "Epoch  172 |  loss:  0.3999166786670685\n",
            "Epoch  173 |  loss:  0.4000273644924164\n",
            "Epoch  174 |  loss:  0.3998592793941498\n",
            "Epoch  175 |  loss:  0.39959168434143066\n",
            "Epoch  176 |  loss:  0.39967021346092224\n",
            "Epoch  177 |  loss:  0.3995162546634674\n",
            "Epoch  178 |  loss:  0.3992786705493927\n",
            "Epoch  179 |  loss:  0.39929550886154175\n",
            "Epoch  180 |  loss:  0.3992105722427368\n",
            "Epoch  181 |  loss:  0.39898765087127686\n",
            "Epoch  182 |  loss:  0.39893022179603577\n",
            "Epoch  183 |  loss:  0.39891183376312256\n",
            "Epoch  184 |  loss:  0.398747980594635\n",
            "Epoch  185 |  loss:  0.39860424399375916\n",
            "Epoch  186 |  loss:  0.3985748887062073\n",
            "Epoch  187 |  loss:  0.3985176980495453\n",
            "Epoch  188 |  loss:  0.39837801456451416\n",
            "Epoch  189 |  loss:  0.39825931191444397\n",
            "Epoch  190 |  loss:  0.3982136845588684\n",
            "Epoch  191 |  loss:  0.3981674909591675\n",
            "Epoch  192 |  loss:  0.39806196093559265\n",
            "Epoch  193 |  loss:  0.39794448018074036\n",
            "Epoch  194 |  loss:  0.39786699414253235\n",
            "Epoch  195 |  loss:  0.3978216350078583\n",
            "Epoch  196 |  loss:  0.39776936173439026\n",
            "Epoch  197 |  loss:  0.39768627285957336\n",
            "Epoch  198 |  loss:  0.39759254455566406\n",
            "Epoch  199 |  loss:  0.39750707149505615\n",
            "Epoch  200 |  loss:  0.3974398374557495\n"
          ]
        }
      ],
      "source": [
        "model = Model(features_train.shape[1])\n",
        "optimizer = torch.optim.Adam(model.parameters(), lr=0.005)\n",
        "loss_fn = nn.CrossEntropyLoss()#nn.NLLLoss()#\n",
        "epochs = 200#55#600\n",
        "\n",
        "\n",
        "feature_float = torch.from_numpy(features_train.values.astype(\"float64\"))\n",
        "input_dimension =  feature_float.shape[1]\n",
        "output_dimension = 2\n",
        "\n",
        "x_train, y_train = Variable(feature_float).float(), Variable(torch.tensor(labels_train.values)).long()\n",
        "print(\"y_train: \",y_train)\n",
        "\n",
        "\n",
        "for epoch in range(1, epochs+1):\n",
        "    \n",
        "    y_pred = model(x_train)\n",
        "    loss = loss_fn(y_pred, y_train)\n",
        "    \n",
        "    print (\"Epoch \",epoch,\"|  loss: \", loss.item(),)#\"  |  accuracy: \", accuracy_score(labels_train, np.argmax(y_pred.detach().numpy(), axis=1)))\n",
        "    \n",
        "    # Zero gradients\n",
        "    optimizer.zero_grad()\n",
        "    loss.backward() # Gradients\n",
        "    optimizer.step() # Update"
      ]
    },
    {
      "cell_type": "markdown",
      "metadata": {
        "id": "57wid2RjnUBy"
      },
      "source": [
        "## avaliação do modelo"
      ]
    },
    {
      "cell_type": "code",
      "execution_count": 33,
      "metadata": {
        "id": "AuFJXVqjNVk8",
        "colab": {
          "base_uri": "https://localhost:8080/"
        },
        "outputId": "6da48145-baef-4638-a86f-fed824bbb761"
      },
      "outputs": [
        {
          "output_type": "stream",
          "name": "stdout",
          "text": [
            "Train set\n",
            "The loss in train set is:  0.39738795161247253\n",
            "The accuracy in train set is:  0.9111448081177996\n",
            "\n",
            "confusion matrix: \n",
            "[[29489  5420]\n",
            " [ 3897 66050]]\n",
            "\n",
            " ____________________________________________________________________________________________________ \n",
            "\n",
            "Validation set\n",
            "The loss in test set is:  0.39584964513778687\n",
            "The accuracy in test set is:   0.9123394272308528\n",
            "\n",
            "confusion matrix: \n",
            "[[ 9880  1814]\n",
            " [ 1250 22009]]\n",
            "\n",
            "\n",
            "\n",
            "\n"
          ]
        },
        {
          "output_type": "stream",
          "name": "stderr",
          "text": [
            "/usr/local/lib/python3.7/dist-packages/ipykernel_launcher.py:15: UserWarning: Implicit dimension choice for softmax has been deprecated. Change the call to include dim=X as an argument.\n",
            "  from ipykernel import kernelapp as app\n",
            "/usr/local/lib/python3.7/dist-packages/ipykernel_launcher.py:15: UserWarning: Implicit dimension choice for softmax has been deprecated. Change the call to include dim=X as an argument.\n",
            "  from ipykernel import kernelapp as app\n"
          ]
        }
      ],
      "source": [
        "print(\"Train set\")\n",
        "\n",
        "pred = model(x_train)\n",
        "print (\"The loss in train set is: \", loss_fn(pred,y_train).item())\n",
        "print (\"The accuracy in train set is: \", accuracy_score(labels_train, np.argmax(pred.detach().numpy(), axis=1)))\n",
        "\n",
        "print(\"\\nconfusion matrix: \")\n",
        "print(confusion_matrix(labels_train , np.argmax(pred.detach().numpy(),axis=1)))\n",
        "\n",
        "print(\"\\n\",\"_\"*100,\"\\n\")\n",
        "\n",
        "print(\"Validation set\")\n",
        "\n",
        "y_test = Variable(torch.tensor(labels_test.values)).long()\n",
        "x_test = Variable(torch.from_numpy(features_test.values.astype(\"float64\"))).float()\n",
        "\n",
        "pred = model(x_test)\n",
        "\n",
        "print (\"The loss in test set is: \", loss_fn(pred,y_test).item())\n",
        "print (\"The accuracy in test set is:  \", accuracy_score(labels_test, np.argmax(pred.detach().numpy(),axis=1)))\n",
        "\n",
        "print(\"\\nconfusion matrix: \")\n",
        "print(confusion_matrix(labels_test , np.argmax(pred.detach().numpy(),axis=1)))\n",
        "\n",
        "print(\"\\n\\n\\n\")\n"
      ]
    },
    {
      "cell_type": "code",
      "source": [
        ""
      ],
      "metadata": {
        "id": "PBj9rl94wXPt"
      },
      "execution_count": 33,
      "outputs": []
    },
    {
      "cell_type": "markdown",
      "source": [
        "# set não visto"
      ],
      "metadata": {
        "id": "YhnlbEN8Bvgr"
      }
    },
    {
      "cell_type": "markdown",
      "source": [
        "Este poderia ser considerado o test set e o usado acima sendo o validation set."
      ],
      "metadata": {
        "id": "S8G5evcrGbxM"
      }
    },
    {
      "cell_type": "code",
      "source": [
        "df_deseq = df.drop(index = df_equilibrado.index)"
      ],
      "metadata": {
        "id": "TKORMGNP01Ul"
      },
      "execution_count": 34,
      "outputs": []
    },
    {
      "cell_type": "code",
      "source": [
        "features,labels = df_deseq.drop(columns = [\"CLASSI_FIN\",\"EVOLUCAO\",\"TEMP_UTI\"]), df_deseq[\"CLASSI_FIN\"]\n",
        "\n",
        "X, Y = Variable(torch.from_numpy(features.values.astype(\"float64\"))).float(), Variable(torch.tensor(labels.values)).long()\n",
        "\n"
      ],
      "metadata": {
        "id": "_L32PmLcCGYt"
      },
      "execution_count": 38,
      "outputs": []
    },
    {
      "cell_type": "code",
      "source": [
        "pred = model(X)\n",
        "loss = loss_fn(pred, Y)\n",
        "print()\n",
        "print (\"The loss in not used set is:      \", loss_fn(pred,Y).item())\n",
        "print (\"The accuracy in not used set is:  \", accuracy_score(labels, np.argmax(pred.detach().numpy(),axis=1)))\n",
        "\n",
        "print(confusion_matrix(Y , np.argmax(pred.detach().numpy(),axis=1)))"
      ],
      "metadata": {
        "id": "p3XZA-rFFP81"
      },
      "execution_count": null,
      "outputs": []
    },
    {
      "cell_type": "code",
      "source": [
        ""
      ],
      "metadata": {
        "id": "gKH7ML4Gy4ki"
      },
      "execution_count": null,
      "outputs": []
    }
  ],
  "metadata": {
    "colab": {
      "collapsed_sections": [],
      "name": "SUSsargClassifier.ipynb",
      "provenance": []
    },
    "kernelspec": {
      "display_name": "Python 3",
      "name": "python3"
    },
    "language_info": {
      "name": "python"
    }
  },
  "nbformat": 4,
  "nbformat_minor": 0
}