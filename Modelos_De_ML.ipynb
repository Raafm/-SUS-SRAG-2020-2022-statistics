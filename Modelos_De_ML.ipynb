{
  "cells": [
    {
      "cell_type": "markdown",
      "metadata": {
        "id": "yEhazYtWmJSo"
      },
      "source": [
        "# imports e downloads"
      ]
    },
    {
      "cell_type": "code",
      "execution_count": 79,
      "metadata": {
        "id": "04SxPQSolgPG"
      },
      "outputs": [],
      "source": [
        "import numpy as np\n",
        "import pandas as pd\n",
        "import matplotlib.pyplot as plt\n",
        "import seaborn as sns\n",
        "\n",
        "import torch\n",
        "from torch import nn\n",
        "from torch.autograd import Variable\n",
        "from torch.utils.data import DataLoader,Dataset\n",
        "\n",
        "from sklearn.model_selection import train_test_split\n",
        "from sklearn.metrics import accuracy_score, confusion_matrix, classification_report\n",
        "\n",
        "from sklearn.linear_model import LogisticRegression\n",
        "from sklearn.neighbors import KNeighborsClassifier\n",
        "from sklearn.ensemble import RandomForestClassifier\n",
        "from sklearn.svm import SVC\n",
        "from sklearn.model_selection import cross_val_score\n",
        "from sklearn.tree import DecisionTreeClassifier\n",
        "from xgboost import XGBClassifier\n",
        "\n",
        "import torch.nn.functional as F"
      ]
    },
    {
      "cell_type": "code",
      "execution_count": 80,
      "metadata": {
        "id": "whr7oNHQo2cI",
        "colab": {
          "base_uri": "https://localhost:8080/"
        },
        "outputId": "613d87f6-19fa-40b7-e0d5-3ab1beabc79e"
      },
      "outputs": [
        {
          "output_type": "stream",
          "name": "stdout",
          "text": [
            "Drive already mounted at /content/drive; to attempt to forcibly remount, call drive.mount(\"/content/drive\", force_remount=True).\n"
          ]
        }
      ],
      "source": [
        "from google.colab import drive\n",
        "drive.mount('/content/drive')"
      ]
    },
    {
      "cell_type": "code",
      "execution_count": 81,
      "metadata": {
        "colab": {
          "base_uri": "https://localhost:8080/",
          "height": 428
        },
        "id": "xrwds3J1oznn",
        "outputId": "1fe42404-0b2a-4aa4-996c-936d536b574f"
      },
      "outputs": [
        {
          "output_type": "stream",
          "name": "stderr",
          "text": [
            "/usr/local/lib/python3.7/dist-packages/IPython/core/interactiveshell.py:2882: DtypeWarning: Columns (15,16,17,50) have mixed types.Specify dtype option on import or set low_memory=False.\n",
            "  exec(code_obj, self.user_global_ns, self.user_ns)\n"
          ]
        },
        {
          "output_type": "execute_result",
          "data": {
            "text/plain": [
              "         Unnamed: 0    NU_IDADE_N    FATOR_RISC    CARDIOPATI          ASMA  \\\n",
              "count  1.879944e+06  1.879944e+06  1.879944e+06  1.879944e+06  1.879944e+06   \n",
              "mean   1.582723e+06  5.730485e+01  1.278114e+00  5.343546e+00  6.427031e+00   \n",
              "std    8.754860e+05  1.924869e+01  4.480698e-01  3.833657e+00  3.404388e+00   \n",
              "min    0.000000e+00  0.000000e+00  1.000000e+00  1.000000e+00  1.000000e+00   \n",
              "25%    8.394822e+05  4.500000e+01  1.000000e+00  1.000000e+00  2.000000e+00   \n",
              "50%    1.611074e+06  5.800000e+01  1.000000e+00  9.000000e+00  9.000000e+00   \n",
              "75%    2.332903e+06  7.100000e+01  2.000000e+00  9.000000e+00  9.000000e+00   \n",
              "max    3.107771e+06  1.000000e+02  2.000000e+00  9.000000e+00  9.000000e+00   \n",
              "\n",
              "         PNEUMOPATI      DIABETES    IMUNODEPRE      OBESIDADE      OBES_IMC  \\\n",
              "count  1.879944e+06  1.879944e+06  1.879944e+06  732999.000000  30931.000000   \n",
              "mean   6.397565e+00  5.668007e+00  6.443313e+00       2.007842     35.323879   \n",
              "std    3.419750e+00  3.739671e+00  3.396157e+00       1.281525      7.777341   \n",
              "min    1.000000e+00  1.000000e+00  1.000000e+00       1.000000     10.000000   \n",
              "25%    2.000000e+00  2.000000e+00  2.000000e+00       2.000000     30.000000   \n",
              "50%    9.000000e+00  9.000000e+00  9.000000e+00       2.000000     34.000000   \n",
              "75%    9.000000e+00  9.000000e+00  9.000000e+00       2.000000     39.000000   \n",
              "max    9.000000e+00  9.000000e+00  9.000000e+00       9.000000     80.000000   \n",
              "\n",
              "       ...  ANO_DT_NOTIFIC  ANO_DT_SIN_PRI       DIA_PRI       DIA_NOT  \\\n",
              "count  ...    1.879944e+06    1.879944e+06  1.879944e+06  1.879944e+06   \n",
              "mean   ...    2.020716e+03    2.020694e+03  4.043286e+02  4.161294e+02   \n",
              "std    ...    5.528338e-01    5.534101e-01  1.645432e+02  1.648940e+02   \n",
              "min    ...    2.020000e+03    2.020000e+03  1.000000e+00  1.000000e+00   \n",
              "25%    ...    2.020000e+03    2.020000e+03  2.790000e+02  2.910000e+02   \n",
              "50%    ...    2.021000e+03    2.021000e+03  4.300000e+02  4.420000e+02   \n",
              "75%    ...    2.021000e+03    2.021000e+03  5.060000e+02  5.190000e+02   \n",
              "max    ...    2.022000e+03    2.022000e+03  8.020000e+02  8.090000e+02   \n",
              "\n",
              "               ONDA     OBES_MORB  FATOR_RISC_GRAVE  COMORBIDADES  \\\n",
              "count  1.879944e+06  1.879944e+06      1.879944e+06  1.879944e+06   \n",
              "mean   2.728895e+00  8.881200e+00      3.479453e+00  1.400625e+00   \n",
              "std    1.277382e+00  9.200586e-01      3.668284e+00  4.900253e-01   \n",
              "min    0.000000e+00  1.000000e+00      1.000000e+00  1.000000e+00   \n",
              "25%    1.227273e+00  9.000000e+00      1.000000e+00  1.000000e+00   \n",
              "50%    3.000000e+00  9.000000e+00      1.000000e+00  1.000000e+00   \n",
              "75%    4.000000e+00  9.000000e+00      9.000000e+00  2.000000e+00   \n",
              "max    5.000000e+00  9.000000e+00      9.000000e+00  2.000000e+00   \n",
              "\n",
              "       COMORBIDADE_GRAVE  TEMP_ULT_DOSE  \n",
              "count       1.879944e+06  217229.000000  \n",
              "mean        4.735294e+00   83955.007554  \n",
              "std         3.932084e+00   78411.982446  \n",
              "min         1.000000e+00       0.000000  \n",
              "25%         1.000000e+00   16416.000000  \n",
              "50%         2.000000e+00   61344.000000  \n",
              "75%         9.000000e+00  130464.000000  \n",
              "max         9.000000e+00  607392.000000  \n",
              "\n",
              "[8 rows x 40 columns]"
            ],
            "text/html": [
              "\n",
              "  <div id=\"df-e16c3c4d-b613-4806-87cf-bd8dc7f505d8\">\n",
              "    <div class=\"colab-df-container\">\n",
              "      <div>\n",
              "<style scoped>\n",
              "    .dataframe tbody tr th:only-of-type {\n",
              "        vertical-align: middle;\n",
              "    }\n",
              "\n",
              "    .dataframe tbody tr th {\n",
              "        vertical-align: top;\n",
              "    }\n",
              "\n",
              "    .dataframe thead th {\n",
              "        text-align: right;\n",
              "    }\n",
              "</style>\n",
              "<table border=\"1\" class=\"dataframe\">\n",
              "  <thead>\n",
              "    <tr style=\"text-align: right;\">\n",
              "      <th></th>\n",
              "      <th>Unnamed: 0</th>\n",
              "      <th>NU_IDADE_N</th>\n",
              "      <th>FATOR_RISC</th>\n",
              "      <th>CARDIOPATI</th>\n",
              "      <th>ASMA</th>\n",
              "      <th>PNEUMOPATI</th>\n",
              "      <th>DIABETES</th>\n",
              "      <th>IMUNODEPRE</th>\n",
              "      <th>OBESIDADE</th>\n",
              "      <th>OBES_IMC</th>\n",
              "      <th>...</th>\n",
              "      <th>ANO_DT_NOTIFIC</th>\n",
              "      <th>ANO_DT_SIN_PRI</th>\n",
              "      <th>DIA_PRI</th>\n",
              "      <th>DIA_NOT</th>\n",
              "      <th>ONDA</th>\n",
              "      <th>OBES_MORB</th>\n",
              "      <th>FATOR_RISC_GRAVE</th>\n",
              "      <th>COMORBIDADES</th>\n",
              "      <th>COMORBIDADE_GRAVE</th>\n",
              "      <th>TEMP_ULT_DOSE</th>\n",
              "    </tr>\n",
              "  </thead>\n",
              "  <tbody>\n",
              "    <tr>\n",
              "      <th>count</th>\n",
              "      <td>1.879944e+06</td>\n",
              "      <td>1.879944e+06</td>\n",
              "      <td>1.879944e+06</td>\n",
              "      <td>1.879944e+06</td>\n",
              "      <td>1.879944e+06</td>\n",
              "      <td>1.879944e+06</td>\n",
              "      <td>1.879944e+06</td>\n",
              "      <td>1.879944e+06</td>\n",
              "      <td>732999.000000</td>\n",
              "      <td>30931.000000</td>\n",
              "      <td>...</td>\n",
              "      <td>1.879944e+06</td>\n",
              "      <td>1.879944e+06</td>\n",
              "      <td>1.879944e+06</td>\n",
              "      <td>1.879944e+06</td>\n",
              "      <td>1.879944e+06</td>\n",
              "      <td>1.879944e+06</td>\n",
              "      <td>1.879944e+06</td>\n",
              "      <td>1.879944e+06</td>\n",
              "      <td>1.879944e+06</td>\n",
              "      <td>217229.000000</td>\n",
              "    </tr>\n",
              "    <tr>\n",
              "      <th>mean</th>\n",
              "      <td>1.582723e+06</td>\n",
              "      <td>5.730485e+01</td>\n",
              "      <td>1.278114e+00</td>\n",
              "      <td>5.343546e+00</td>\n",
              "      <td>6.427031e+00</td>\n",
              "      <td>6.397565e+00</td>\n",
              "      <td>5.668007e+00</td>\n",
              "      <td>6.443313e+00</td>\n",
              "      <td>2.007842</td>\n",
              "      <td>35.323879</td>\n",
              "      <td>...</td>\n",
              "      <td>2.020716e+03</td>\n",
              "      <td>2.020694e+03</td>\n",
              "      <td>4.043286e+02</td>\n",
              "      <td>4.161294e+02</td>\n",
              "      <td>2.728895e+00</td>\n",
              "      <td>8.881200e+00</td>\n",
              "      <td>3.479453e+00</td>\n",
              "      <td>1.400625e+00</td>\n",
              "      <td>4.735294e+00</td>\n",
              "      <td>83955.007554</td>\n",
              "    </tr>\n",
              "    <tr>\n",
              "      <th>std</th>\n",
              "      <td>8.754860e+05</td>\n",
              "      <td>1.924869e+01</td>\n",
              "      <td>4.480698e-01</td>\n",
              "      <td>3.833657e+00</td>\n",
              "      <td>3.404388e+00</td>\n",
              "      <td>3.419750e+00</td>\n",
              "      <td>3.739671e+00</td>\n",
              "      <td>3.396157e+00</td>\n",
              "      <td>1.281525</td>\n",
              "      <td>7.777341</td>\n",
              "      <td>...</td>\n",
              "      <td>5.528338e-01</td>\n",
              "      <td>5.534101e-01</td>\n",
              "      <td>1.645432e+02</td>\n",
              "      <td>1.648940e+02</td>\n",
              "      <td>1.277382e+00</td>\n",
              "      <td>9.200586e-01</td>\n",
              "      <td>3.668284e+00</td>\n",
              "      <td>4.900253e-01</td>\n",
              "      <td>3.932084e+00</td>\n",
              "      <td>78411.982446</td>\n",
              "    </tr>\n",
              "    <tr>\n",
              "      <th>min</th>\n",
              "      <td>0.000000e+00</td>\n",
              "      <td>0.000000e+00</td>\n",
              "      <td>1.000000e+00</td>\n",
              "      <td>1.000000e+00</td>\n",
              "      <td>1.000000e+00</td>\n",
              "      <td>1.000000e+00</td>\n",
              "      <td>1.000000e+00</td>\n",
              "      <td>1.000000e+00</td>\n",
              "      <td>1.000000</td>\n",
              "      <td>10.000000</td>\n",
              "      <td>...</td>\n",
              "      <td>2.020000e+03</td>\n",
              "      <td>2.020000e+03</td>\n",
              "      <td>1.000000e+00</td>\n",
              "      <td>1.000000e+00</td>\n",
              "      <td>0.000000e+00</td>\n",
              "      <td>1.000000e+00</td>\n",
              "      <td>1.000000e+00</td>\n",
              "      <td>1.000000e+00</td>\n",
              "      <td>1.000000e+00</td>\n",
              "      <td>0.000000</td>\n",
              "    </tr>\n",
              "    <tr>\n",
              "      <th>25%</th>\n",
              "      <td>8.394822e+05</td>\n",
              "      <td>4.500000e+01</td>\n",
              "      <td>1.000000e+00</td>\n",
              "      <td>1.000000e+00</td>\n",
              "      <td>2.000000e+00</td>\n",
              "      <td>2.000000e+00</td>\n",
              "      <td>2.000000e+00</td>\n",
              "      <td>2.000000e+00</td>\n",
              "      <td>2.000000</td>\n",
              "      <td>30.000000</td>\n",
              "      <td>...</td>\n",
              "      <td>2.020000e+03</td>\n",
              "      <td>2.020000e+03</td>\n",
              "      <td>2.790000e+02</td>\n",
              "      <td>2.910000e+02</td>\n",
              "      <td>1.227273e+00</td>\n",
              "      <td>9.000000e+00</td>\n",
              "      <td>1.000000e+00</td>\n",
              "      <td>1.000000e+00</td>\n",
              "      <td>1.000000e+00</td>\n",
              "      <td>16416.000000</td>\n",
              "    </tr>\n",
              "    <tr>\n",
              "      <th>50%</th>\n",
              "      <td>1.611074e+06</td>\n",
              "      <td>5.800000e+01</td>\n",
              "      <td>1.000000e+00</td>\n",
              "      <td>9.000000e+00</td>\n",
              "      <td>9.000000e+00</td>\n",
              "      <td>9.000000e+00</td>\n",
              "      <td>9.000000e+00</td>\n",
              "      <td>9.000000e+00</td>\n",
              "      <td>2.000000</td>\n",
              "      <td>34.000000</td>\n",
              "      <td>...</td>\n",
              "      <td>2.021000e+03</td>\n",
              "      <td>2.021000e+03</td>\n",
              "      <td>4.300000e+02</td>\n",
              "      <td>4.420000e+02</td>\n",
              "      <td>3.000000e+00</td>\n",
              "      <td>9.000000e+00</td>\n",
              "      <td>1.000000e+00</td>\n",
              "      <td>1.000000e+00</td>\n",
              "      <td>2.000000e+00</td>\n",
              "      <td>61344.000000</td>\n",
              "    </tr>\n",
              "    <tr>\n",
              "      <th>75%</th>\n",
              "      <td>2.332903e+06</td>\n",
              "      <td>7.100000e+01</td>\n",
              "      <td>2.000000e+00</td>\n",
              "      <td>9.000000e+00</td>\n",
              "      <td>9.000000e+00</td>\n",
              "      <td>9.000000e+00</td>\n",
              "      <td>9.000000e+00</td>\n",
              "      <td>9.000000e+00</td>\n",
              "      <td>2.000000</td>\n",
              "      <td>39.000000</td>\n",
              "      <td>...</td>\n",
              "      <td>2.021000e+03</td>\n",
              "      <td>2.021000e+03</td>\n",
              "      <td>5.060000e+02</td>\n",
              "      <td>5.190000e+02</td>\n",
              "      <td>4.000000e+00</td>\n",
              "      <td>9.000000e+00</td>\n",
              "      <td>9.000000e+00</td>\n",
              "      <td>2.000000e+00</td>\n",
              "      <td>9.000000e+00</td>\n",
              "      <td>130464.000000</td>\n",
              "    </tr>\n",
              "    <tr>\n",
              "      <th>max</th>\n",
              "      <td>3.107771e+06</td>\n",
              "      <td>1.000000e+02</td>\n",
              "      <td>2.000000e+00</td>\n",
              "      <td>9.000000e+00</td>\n",
              "      <td>9.000000e+00</td>\n",
              "      <td>9.000000e+00</td>\n",
              "      <td>9.000000e+00</td>\n",
              "      <td>9.000000e+00</td>\n",
              "      <td>9.000000</td>\n",
              "      <td>80.000000</td>\n",
              "      <td>...</td>\n",
              "      <td>2.022000e+03</td>\n",
              "      <td>2.022000e+03</td>\n",
              "      <td>8.020000e+02</td>\n",
              "      <td>8.090000e+02</td>\n",
              "      <td>5.000000e+00</td>\n",
              "      <td>9.000000e+00</td>\n",
              "      <td>9.000000e+00</td>\n",
              "      <td>2.000000e+00</td>\n",
              "      <td>9.000000e+00</td>\n",
              "      <td>607392.000000</td>\n",
              "    </tr>\n",
              "  </tbody>\n",
              "</table>\n",
              "<p>8 rows × 40 columns</p>\n",
              "</div>\n",
              "      <button class=\"colab-df-convert\" onclick=\"convertToInteractive('df-e16c3c4d-b613-4806-87cf-bd8dc7f505d8')\"\n",
              "              title=\"Convert this dataframe to an interactive table.\"\n",
              "              style=\"display:none;\">\n",
              "        \n",
              "  <svg xmlns=\"http://www.w3.org/2000/svg\" height=\"24px\"viewBox=\"0 0 24 24\"\n",
              "       width=\"24px\">\n",
              "    <path d=\"M0 0h24v24H0V0z\" fill=\"none\"/>\n",
              "    <path d=\"M18.56 5.44l.94 2.06.94-2.06 2.06-.94-2.06-.94-.94-2.06-.94 2.06-2.06.94zm-11 1L8.5 8.5l.94-2.06 2.06-.94-2.06-.94L8.5 2.5l-.94 2.06-2.06.94zm10 10l.94 2.06.94-2.06 2.06-.94-2.06-.94-.94-2.06-.94 2.06-2.06.94z\"/><path d=\"M17.41 7.96l-1.37-1.37c-.4-.4-.92-.59-1.43-.59-.52 0-1.04.2-1.43.59L10.3 9.45l-7.72 7.72c-.78.78-.78 2.05 0 2.83L4 21.41c.39.39.9.59 1.41.59.51 0 1.02-.2 1.41-.59l7.78-7.78 2.81-2.81c.8-.78.8-2.07 0-2.86zM5.41 20L4 18.59l7.72-7.72 1.47 1.35L5.41 20z\"/>\n",
              "  </svg>\n",
              "      </button>\n",
              "      \n",
              "  <style>\n",
              "    .colab-df-container {\n",
              "      display:flex;\n",
              "      flex-wrap:wrap;\n",
              "      gap: 12px;\n",
              "    }\n",
              "\n",
              "    .colab-df-convert {\n",
              "      background-color: #E8F0FE;\n",
              "      border: none;\n",
              "      border-radius: 50%;\n",
              "      cursor: pointer;\n",
              "      display: none;\n",
              "      fill: #1967D2;\n",
              "      height: 32px;\n",
              "      padding: 0 0 0 0;\n",
              "      width: 32px;\n",
              "    }\n",
              "\n",
              "    .colab-df-convert:hover {\n",
              "      background-color: #E2EBFA;\n",
              "      box-shadow: 0px 1px 2px rgba(60, 64, 67, 0.3), 0px 1px 3px 1px rgba(60, 64, 67, 0.15);\n",
              "      fill: #174EA6;\n",
              "    }\n",
              "\n",
              "    [theme=dark] .colab-df-convert {\n",
              "      background-color: #3B4455;\n",
              "      fill: #D2E3FC;\n",
              "    }\n",
              "\n",
              "    [theme=dark] .colab-df-convert:hover {\n",
              "      background-color: #434B5C;\n",
              "      box-shadow: 0px 1px 3px 1px rgba(0, 0, 0, 0.15);\n",
              "      filter: drop-shadow(0px 1px 2px rgba(0, 0, 0, 0.3));\n",
              "      fill: #FFFFFF;\n",
              "    }\n",
              "  </style>\n",
              "\n",
              "      <script>\n",
              "        const buttonEl =\n",
              "          document.querySelector('#df-e16c3c4d-b613-4806-87cf-bd8dc7f505d8 button.colab-df-convert');\n",
              "        buttonEl.style.display =\n",
              "          google.colab.kernel.accessAllowed ? 'block' : 'none';\n",
              "\n",
              "        async function convertToInteractive(key) {\n",
              "          const element = document.querySelector('#df-e16c3c4d-b613-4806-87cf-bd8dc7f505d8');\n",
              "          const dataTable =\n",
              "            await google.colab.kernel.invokeFunction('convertToInteractive',\n",
              "                                                     [key], {});\n",
              "          if (!dataTable) return;\n",
              "\n",
              "          const docLinkHtml = 'Like what you see? Visit the ' +\n",
              "            '<a target=\"_blank\" href=https://colab.research.google.com/notebooks/data_table.ipynb>data table notebook</a>'\n",
              "            + ' to learn more about interactive tables.';\n",
              "          element.innerHTML = '';\n",
              "          dataTable['output_type'] = 'display_data';\n",
              "          await google.colab.output.renderOutput(dataTable, element);\n",
              "          const docLink = document.createElement('div');\n",
              "          docLink.innerHTML = docLinkHtml;\n",
              "          element.appendChild(docLink);\n",
              "        }\n",
              "      </script>\n",
              "    </div>\n",
              "  </div>\n",
              "  "
            ]
          },
          "metadata": {},
          "execution_count": 81
        }
      ],
      "source": [
        "df = pd.read_csv(\"/content/drive/MyDrive/BasesSUS/full_base.csv\")\n",
        "df.describe()"
      ]
    },
    {
      "cell_type": "markdown",
      "metadata": {
        "id": "EJm5KjN097yQ"
      },
      "source": [
        "# tratamento"
      ]
    },
    {
      "cell_type": "markdown",
      "metadata": {
        "id": "3gAnv2sGEZmX"
      },
      "source": [
        "## filtrando colunas"
      ]
    },
    {
      "cell_type": "code",
      "execution_count": 82,
      "metadata": {
        "id": "ngRl6wRYp7hK"
      },
      "outputs": [],
      "source": [
        "colunas_apagar = ['ANO_DOSE_1_COV', 'ANO_DOSE_2_COV', 'ANO_DT_ENTUTI', 'ANO_DT_INTERNA',  'ANO_DT_NOTIFIC', 'ANO_DT_SIN_PRI', \n",
        "                  'DIA_PRI', 'DIA_NOT','DT_SIN_PRI', 'DT_NOTIFIC', 'DT_NASC',\n",
        "                'DOSE_1_COV', 'DOSE_2_COV', 'DOSE_REF', 'DT_UT_DOSE',\n",
        "                 'TOMO_RES', 'RES_AN', 'PCR_RESUL', 'PCR_SARS2', 'COMORBIDADES','DT_EVOLUCA',\n",
        "                   'CARDIOPATI', 'ASMA','PNEUMOPATI', 'DT_INTERNA', 'OBES_MORB',\n",
        "                'DIABETES', 'IMUNODEPRE', 'OBESIDADE', 'OBES_IMC','ULT_DOSE',\n",
        "                'POS_AN_FLU', 'RES_IGG', 'RES_IGM', 'RES_IGA', 'SEM_NOT',#'DT_ENTUTI', 'DT_SAIDUTI',\n",
        "                'SEM_PRI','Unnamed: 0','HOSPITAL',]\n",
        "df.drop(columns = colunas_apagar, inplace = True)"
      ]
    },
    {
      "cell_type": "code",
      "execution_count": 83,
      "metadata": {
        "colab": {
          "base_uri": "https://localhost:8080/"
        },
        "id": "KGEsSaFjpss5",
        "outputId": "cecb0b8a-bea0-4e0c-d1db-36bb1a9d9edd"
      },
      "outputs": [
        {
          "output_type": "execute_result",
          "data": {
            "text/plain": [
              "Index(['NU_IDADE_N', 'FATOR_RISC', 'VACINA_COV', 'VACINA', 'DT_ENTUTI',\n",
              "       'DT_SAIDUTI', 'UTI', 'EVOLUCAO', 'CLASSI_FIN', 'ONDA',\n",
              "       'FATOR_RISC_GRAVE', 'COMORBIDADE_GRAVE', 'TEMP_ULT_DOSE',\n",
              "       'CLASSI_COV_EXAME'],\n",
              "      dtype='object')"
            ]
          },
          "metadata": {},
          "execution_count": 83
        }
      ],
      "source": [
        "df.columns"
      ]
    },
    {
      "cell_type": "markdown",
      "source": [
        "## tempo na UTI"
      ],
      "metadata": {
        "id": "OwOuEgXeaSzl"
      }
    },
    {
      "cell_type": "code",
      "source": [
        "df[(pd.isnull(df[\"DT_ENTUTI\"]) == False) & (pd.isnull(df[\"DT_SAIDUTI\"]) == False)  ][[\"DT_ENTUTI\", \"DT_SAIDUTI\"]]"
      ],
      "metadata": {
        "colab": {
          "base_uri": "https://localhost:8080/",
          "height": 424
        },
        "id": "38kPvS9UVh5B",
        "outputId": "bc221e01-693b-4200-b86f-7b82e9c54dff"
      },
      "execution_count": 84,
      "outputs": [
        {
          "output_type": "execute_result",
          "data": {
            "text/plain": [
              "          DT_ENTUTI  DT_SAIDUTI\n",
              "12       2020-02-10  2020-02-13\n",
              "17       2020-03-28  2020-04-07\n",
              "21       2020-04-01  2020-04-10\n",
              "27       2020-03-22  2020-04-12\n",
              "34       2020-04-09  2020-04-13\n",
              "...             ...         ...\n",
              "1879923  2022-02-16  2022-03-04\n",
              "1879926  2022-02-22  2022-02-27\n",
              "1879928  2022-03-03  2022-03-07\n",
              "1879930  2022-02-25  2022-02-27\n",
              "1879935  2022-02-04  2022-02-06\n",
              "\n",
              "[382766 rows x 2 columns]"
            ],
            "text/html": [
              "\n",
              "  <div id=\"df-08f66670-4740-4f77-957d-8f421f77cc43\">\n",
              "    <div class=\"colab-df-container\">\n",
              "      <div>\n",
              "<style scoped>\n",
              "    .dataframe tbody tr th:only-of-type {\n",
              "        vertical-align: middle;\n",
              "    }\n",
              "\n",
              "    .dataframe tbody tr th {\n",
              "        vertical-align: top;\n",
              "    }\n",
              "\n",
              "    .dataframe thead th {\n",
              "        text-align: right;\n",
              "    }\n",
              "</style>\n",
              "<table border=\"1\" class=\"dataframe\">\n",
              "  <thead>\n",
              "    <tr style=\"text-align: right;\">\n",
              "      <th></th>\n",
              "      <th>DT_ENTUTI</th>\n",
              "      <th>DT_SAIDUTI</th>\n",
              "    </tr>\n",
              "  </thead>\n",
              "  <tbody>\n",
              "    <tr>\n",
              "      <th>12</th>\n",
              "      <td>2020-02-10</td>\n",
              "      <td>2020-02-13</td>\n",
              "    </tr>\n",
              "    <tr>\n",
              "      <th>17</th>\n",
              "      <td>2020-03-28</td>\n",
              "      <td>2020-04-07</td>\n",
              "    </tr>\n",
              "    <tr>\n",
              "      <th>21</th>\n",
              "      <td>2020-04-01</td>\n",
              "      <td>2020-04-10</td>\n",
              "    </tr>\n",
              "    <tr>\n",
              "      <th>27</th>\n",
              "      <td>2020-03-22</td>\n",
              "      <td>2020-04-12</td>\n",
              "    </tr>\n",
              "    <tr>\n",
              "      <th>34</th>\n",
              "      <td>2020-04-09</td>\n",
              "      <td>2020-04-13</td>\n",
              "    </tr>\n",
              "    <tr>\n",
              "      <th>...</th>\n",
              "      <td>...</td>\n",
              "      <td>...</td>\n",
              "    </tr>\n",
              "    <tr>\n",
              "      <th>1879923</th>\n",
              "      <td>2022-02-16</td>\n",
              "      <td>2022-03-04</td>\n",
              "    </tr>\n",
              "    <tr>\n",
              "      <th>1879926</th>\n",
              "      <td>2022-02-22</td>\n",
              "      <td>2022-02-27</td>\n",
              "    </tr>\n",
              "    <tr>\n",
              "      <th>1879928</th>\n",
              "      <td>2022-03-03</td>\n",
              "      <td>2022-03-07</td>\n",
              "    </tr>\n",
              "    <tr>\n",
              "      <th>1879930</th>\n",
              "      <td>2022-02-25</td>\n",
              "      <td>2022-02-27</td>\n",
              "    </tr>\n",
              "    <tr>\n",
              "      <th>1879935</th>\n",
              "      <td>2022-02-04</td>\n",
              "      <td>2022-02-06</td>\n",
              "    </tr>\n",
              "  </tbody>\n",
              "</table>\n",
              "<p>382766 rows × 2 columns</p>\n",
              "</div>\n",
              "      <button class=\"colab-df-convert\" onclick=\"convertToInteractive('df-08f66670-4740-4f77-957d-8f421f77cc43')\"\n",
              "              title=\"Convert this dataframe to an interactive table.\"\n",
              "              style=\"display:none;\">\n",
              "        \n",
              "  <svg xmlns=\"http://www.w3.org/2000/svg\" height=\"24px\"viewBox=\"0 0 24 24\"\n",
              "       width=\"24px\">\n",
              "    <path d=\"M0 0h24v24H0V0z\" fill=\"none\"/>\n",
              "    <path d=\"M18.56 5.44l.94 2.06.94-2.06 2.06-.94-2.06-.94-.94-2.06-.94 2.06-2.06.94zm-11 1L8.5 8.5l.94-2.06 2.06-.94-2.06-.94L8.5 2.5l-.94 2.06-2.06.94zm10 10l.94 2.06.94-2.06 2.06-.94-2.06-.94-.94-2.06-.94 2.06-2.06.94z\"/><path d=\"M17.41 7.96l-1.37-1.37c-.4-.4-.92-.59-1.43-.59-.52 0-1.04.2-1.43.59L10.3 9.45l-7.72 7.72c-.78.78-.78 2.05 0 2.83L4 21.41c.39.39.9.59 1.41.59.51 0 1.02-.2 1.41-.59l7.78-7.78 2.81-2.81c.8-.78.8-2.07 0-2.86zM5.41 20L4 18.59l7.72-7.72 1.47 1.35L5.41 20z\"/>\n",
              "  </svg>\n",
              "      </button>\n",
              "      \n",
              "  <style>\n",
              "    .colab-df-container {\n",
              "      display:flex;\n",
              "      flex-wrap:wrap;\n",
              "      gap: 12px;\n",
              "    }\n",
              "\n",
              "    .colab-df-convert {\n",
              "      background-color: #E8F0FE;\n",
              "      border: none;\n",
              "      border-radius: 50%;\n",
              "      cursor: pointer;\n",
              "      display: none;\n",
              "      fill: #1967D2;\n",
              "      height: 32px;\n",
              "      padding: 0 0 0 0;\n",
              "      width: 32px;\n",
              "    }\n",
              "\n",
              "    .colab-df-convert:hover {\n",
              "      background-color: #E2EBFA;\n",
              "      box-shadow: 0px 1px 2px rgba(60, 64, 67, 0.3), 0px 1px 3px 1px rgba(60, 64, 67, 0.15);\n",
              "      fill: #174EA6;\n",
              "    }\n",
              "\n",
              "    [theme=dark] .colab-df-convert {\n",
              "      background-color: #3B4455;\n",
              "      fill: #D2E3FC;\n",
              "    }\n",
              "\n",
              "    [theme=dark] .colab-df-convert:hover {\n",
              "      background-color: #434B5C;\n",
              "      box-shadow: 0px 1px 3px 1px rgba(0, 0, 0, 0.15);\n",
              "      filter: drop-shadow(0px 1px 2px rgba(0, 0, 0, 0.3));\n",
              "      fill: #FFFFFF;\n",
              "    }\n",
              "  </style>\n",
              "\n",
              "      <script>\n",
              "        const buttonEl =\n",
              "          document.querySelector('#df-08f66670-4740-4f77-957d-8f421f77cc43 button.colab-df-convert');\n",
              "        buttonEl.style.display =\n",
              "          google.colab.kernel.accessAllowed ? 'block' : 'none';\n",
              "\n",
              "        async function convertToInteractive(key) {\n",
              "          const element = document.querySelector('#df-08f66670-4740-4f77-957d-8f421f77cc43');\n",
              "          const dataTable =\n",
              "            await google.colab.kernel.invokeFunction('convertToInteractive',\n",
              "                                                     [key], {});\n",
              "          if (!dataTable) return;\n",
              "\n",
              "          const docLinkHtml = 'Like what you see? Visit the ' +\n",
              "            '<a target=\"_blank\" href=https://colab.research.google.com/notebooks/data_table.ipynb>data table notebook</a>'\n",
              "            + ' to learn more about interactive tables.';\n",
              "          element.innerHTML = '';\n",
              "          dataTable['output_type'] = 'display_data';\n",
              "          await google.colab.output.renderOutput(dataTable, element);\n",
              "          const docLink = document.createElement('div');\n",
              "          docLink.innerHTML = docLinkHtml;\n",
              "          element.appendChild(docLink);\n",
              "        }\n",
              "      </script>\n",
              "    </div>\n",
              "  </div>\n",
              "  "
            ]
          },
          "metadata": {},
          "execution_count": 84
        }
      ]
    },
    {
      "cell_type": "code",
      "source": [
        "df[\"DT_SAIDUTI\"] = pd.to_datetime(df[\"DT_SAIDUTI\"] )\n",
        "df[\"DT_ENTUTI\"]  = pd.to_datetime(df[\"DT_ENTUTI\"] )"
      ],
      "metadata": {
        "id": "EyQp3T_vX43-"
      },
      "execution_count": 85,
      "outputs": []
    },
    {
      "cell_type": "code",
      "source": [
        "df[\"TEMP_UTI\"] = np.where((pd.isnull(df[\"DT_ENTUTI\"]) == False) & (pd.isnull(df[\"DT_SAIDUTI\"]) == False),  (df[\"DT_SAIDUTI\"] -df[\"DT_ENTUTI\"]).dt.days , 0)\n",
        "df[\"TEMP_UTI\"]"
      ],
      "metadata": {
        "colab": {
          "base_uri": "https://localhost:8080/"
        },
        "id": "qPBENRvsWdT3",
        "outputId": "3940312b-91bc-4a29-fc4b-e20c4d056651"
      },
      "execution_count": 86,
      "outputs": [
        {
          "output_type": "execute_result",
          "data": {
            "text/plain": [
              "0          0.0\n",
              "1          0.0\n",
              "2          0.0\n",
              "3          0.0\n",
              "4          0.0\n",
              "          ... \n",
              "1879939    0.0\n",
              "1879940    0.0\n",
              "1879941    0.0\n",
              "1879942    0.0\n",
              "1879943    0.0\n",
              "Name: TEMP_UTI, Length: 1879944, dtype: float64"
            ]
          },
          "metadata": {},
          "execution_count": 86
        }
      ]
    },
    {
      "cell_type": "code",
      "source": [
        "df[\"TEMP_UTI\"].max()"
      ],
      "metadata": {
        "colab": {
          "base_uri": "https://localhost:8080/"
        },
        "id": "QmeRkyYMOH4c",
        "outputId": "14c0398c-8edb-4c82-9d49-4402921edca4"
      },
      "execution_count": 87,
      "outputs": [
        {
          "output_type": "execute_result",
          "data": {
            "text/plain": [
              "547.0"
            ]
          },
          "metadata": {},
          "execution_count": 87
        }
      ]
    },
    {
      "cell_type": "code",
      "source": [
        "df.drop(inplace = True, columns = [ \"DT_ENTUTI\",\"DT_SAIDUTI\"])"
      ],
      "metadata": {
        "id": "QsiIZlH3aYZj"
      },
      "execution_count": 88,
      "outputs": []
    },
    {
      "cell_type": "markdown",
      "metadata": {
        "id": "0jUZxrmI_Cad"
      },
      "source": [
        "## considerando o tempo da última dose"
      ]
    },
    {
      "cell_type": "code",
      "execution_count": 89,
      "metadata": {
        "colab": {
          "base_uri": "https://localhost:8080/"
        },
        "id": "Gf6n6I268MTh",
        "outputId": "6975d584-cb44-4d0c-81c8-dd3df58a65b2"
      },
      "outputs": [
        {
          "output_type": "execute_result",
          "data": {
            "text/plain": [
              "6073920.0    1662715\n",
              "0.0             4504\n",
              "864.0           3978\n",
              "6048.0          3326\n",
              "1728.0          3234\n",
              "              ...   \n",
              "463104.0           1\n",
              "362016.0           1\n",
              "358560.0           1\n",
              "352512.0           1\n",
              "486432.0           1\n",
              "Name: TEMP_ULT_DOSE, Length: 427, dtype: int64"
            ]
          },
          "metadata": {},
          "execution_count": 89
        }
      ],
      "source": [
        "maximo = df['TEMP_ULT_DOSE'].max()\n",
        "df['TEMP_ULT_DOSE'] = np.where(pd.isnull(df['TEMP_ULT_DOSE']), maximo*10 , df['TEMP_ULT_DOSE'])\n",
        "df['TEMP_ULT_DOSE'] .value_counts()"
      ]
    },
    {
      "cell_type": "markdown",
      "metadata": {
        "id": "yLqR2LxF_JX4"
      },
      "source": [
        "## checando que não há NaN"
      ]
    },
    {
      "cell_type": "code",
      "execution_count": 90,
      "metadata": {
        "id": "yMecFQ7g6RvC"
      },
      "outputs": [],
      "source": [
        "for col in df.columns:\n",
        "    if pd.isnull(df[col]).any():\n",
        "        print(col)\n",
        "        "
      ]
    },
    {
      "cell_type": "code",
      "execution_count": 91,
      "metadata": {
        "colab": {
          "base_uri": "https://localhost:8080/",
          "height": 364
        },
        "id": "p1ig97vE-tzt",
        "outputId": "839a85aa-30d2-47d8-a856-e307478e160e"
      },
      "outputs": [
        {
          "output_type": "execute_result",
          "data": {
            "text/plain": [
              "         NU_IDADE_N    FATOR_RISC    VACINA_COV        VACINA           UTI  \\\n",
              "count  1.879944e+06  1.879944e+06  1.879944e+06  1.879944e+06  1.879944e+06   \n",
              "mean   5.730485e+01  1.278114e+00  3.744180e+00  6.030286e+00  2.589062e+00   \n",
              "std    1.924869e+01  4.480698e-01  3.213671e+00  3.571100e+00  2.532279e+00   \n",
              "min    0.000000e+00  1.000000e+00  1.000000e+00  1.000000e+00  1.000000e+00   \n",
              "25%    4.500000e+01  1.000000e+00  2.000000e+00  2.000000e+00  1.000000e+00   \n",
              "50%    5.800000e+01  1.000000e+00  2.000000e+00  9.000000e+00  2.000000e+00   \n",
              "75%    7.100000e+01  2.000000e+00  9.000000e+00  9.000000e+00  2.000000e+00   \n",
              "max    1.000000e+02  2.000000e+00  9.000000e+00  9.000000e+00  9.000000e+00   \n",
              "\n",
              "           EVOLUCAO    CLASSI_FIN          ONDA  FATOR_RISC_GRAVE  \\\n",
              "count  1.879944e+06  1.879944e+06  1.879944e+06      1.879944e+06   \n",
              "mean   1.341973e+00  4.920063e+00  2.728895e+00      3.479453e+00   \n",
              "std    4.812894e-01  5.072553e-01  1.277382e+00      3.668284e+00   \n",
              "min    1.000000e+00  1.000000e+00  0.000000e+00      1.000000e+00   \n",
              "25%    1.000000e+00  5.000000e+00  1.227273e+00      1.000000e+00   \n",
              "50%    1.000000e+00  5.000000e+00  3.000000e+00      1.000000e+00   \n",
              "75%    2.000000e+00  5.000000e+00  4.000000e+00      9.000000e+00   \n",
              "max    3.000000e+00  5.000000e+00  5.000000e+00      9.000000e+00   \n",
              "\n",
              "       COMORBIDADE_GRAVE  TEMP_ULT_DOSE      TEMP_UTI  \n",
              "count       1.879944e+06   1.879944e+06  1.879944e+06  \n",
              "mean        4.735294e+00   5.381775e+06  2.398824e+00  \n",
              "std         3.932084e+00   1.915091e+06  7.540767e+00  \n",
              "min         1.000000e+00   0.000000e+00  0.000000e+00  \n",
              "25%         1.000000e+00   6.073920e+06  0.000000e+00  \n",
              "50%         2.000000e+00   6.073920e+06  0.000000e+00  \n",
              "75%         9.000000e+00   6.073920e+06  0.000000e+00  \n",
              "max         9.000000e+00   6.073920e+06  5.470000e+02  "
            ],
            "text/html": [
              "\n",
              "  <div id=\"df-683ef63d-5d5e-4577-8370-2d374420a093\">\n",
              "    <div class=\"colab-df-container\">\n",
              "      <div>\n",
              "<style scoped>\n",
              "    .dataframe tbody tr th:only-of-type {\n",
              "        vertical-align: middle;\n",
              "    }\n",
              "\n",
              "    .dataframe tbody tr th {\n",
              "        vertical-align: top;\n",
              "    }\n",
              "\n",
              "    .dataframe thead th {\n",
              "        text-align: right;\n",
              "    }\n",
              "</style>\n",
              "<table border=\"1\" class=\"dataframe\">\n",
              "  <thead>\n",
              "    <tr style=\"text-align: right;\">\n",
              "      <th></th>\n",
              "      <th>NU_IDADE_N</th>\n",
              "      <th>FATOR_RISC</th>\n",
              "      <th>VACINA_COV</th>\n",
              "      <th>VACINA</th>\n",
              "      <th>UTI</th>\n",
              "      <th>EVOLUCAO</th>\n",
              "      <th>CLASSI_FIN</th>\n",
              "      <th>ONDA</th>\n",
              "      <th>FATOR_RISC_GRAVE</th>\n",
              "      <th>COMORBIDADE_GRAVE</th>\n",
              "      <th>TEMP_ULT_DOSE</th>\n",
              "      <th>TEMP_UTI</th>\n",
              "    </tr>\n",
              "  </thead>\n",
              "  <tbody>\n",
              "    <tr>\n",
              "      <th>count</th>\n",
              "      <td>1.879944e+06</td>\n",
              "      <td>1.879944e+06</td>\n",
              "      <td>1.879944e+06</td>\n",
              "      <td>1.879944e+06</td>\n",
              "      <td>1.879944e+06</td>\n",
              "      <td>1.879944e+06</td>\n",
              "      <td>1.879944e+06</td>\n",
              "      <td>1.879944e+06</td>\n",
              "      <td>1.879944e+06</td>\n",
              "      <td>1.879944e+06</td>\n",
              "      <td>1.879944e+06</td>\n",
              "      <td>1.879944e+06</td>\n",
              "    </tr>\n",
              "    <tr>\n",
              "      <th>mean</th>\n",
              "      <td>5.730485e+01</td>\n",
              "      <td>1.278114e+00</td>\n",
              "      <td>3.744180e+00</td>\n",
              "      <td>6.030286e+00</td>\n",
              "      <td>2.589062e+00</td>\n",
              "      <td>1.341973e+00</td>\n",
              "      <td>4.920063e+00</td>\n",
              "      <td>2.728895e+00</td>\n",
              "      <td>3.479453e+00</td>\n",
              "      <td>4.735294e+00</td>\n",
              "      <td>5.381775e+06</td>\n",
              "      <td>2.398824e+00</td>\n",
              "    </tr>\n",
              "    <tr>\n",
              "      <th>std</th>\n",
              "      <td>1.924869e+01</td>\n",
              "      <td>4.480698e-01</td>\n",
              "      <td>3.213671e+00</td>\n",
              "      <td>3.571100e+00</td>\n",
              "      <td>2.532279e+00</td>\n",
              "      <td>4.812894e-01</td>\n",
              "      <td>5.072553e-01</td>\n",
              "      <td>1.277382e+00</td>\n",
              "      <td>3.668284e+00</td>\n",
              "      <td>3.932084e+00</td>\n",
              "      <td>1.915091e+06</td>\n",
              "      <td>7.540767e+00</td>\n",
              "    </tr>\n",
              "    <tr>\n",
              "      <th>min</th>\n",
              "      <td>0.000000e+00</td>\n",
              "      <td>1.000000e+00</td>\n",
              "      <td>1.000000e+00</td>\n",
              "      <td>1.000000e+00</td>\n",
              "      <td>1.000000e+00</td>\n",
              "      <td>1.000000e+00</td>\n",
              "      <td>1.000000e+00</td>\n",
              "      <td>0.000000e+00</td>\n",
              "      <td>1.000000e+00</td>\n",
              "      <td>1.000000e+00</td>\n",
              "      <td>0.000000e+00</td>\n",
              "      <td>0.000000e+00</td>\n",
              "    </tr>\n",
              "    <tr>\n",
              "      <th>25%</th>\n",
              "      <td>4.500000e+01</td>\n",
              "      <td>1.000000e+00</td>\n",
              "      <td>2.000000e+00</td>\n",
              "      <td>2.000000e+00</td>\n",
              "      <td>1.000000e+00</td>\n",
              "      <td>1.000000e+00</td>\n",
              "      <td>5.000000e+00</td>\n",
              "      <td>1.227273e+00</td>\n",
              "      <td>1.000000e+00</td>\n",
              "      <td>1.000000e+00</td>\n",
              "      <td>6.073920e+06</td>\n",
              "      <td>0.000000e+00</td>\n",
              "    </tr>\n",
              "    <tr>\n",
              "      <th>50%</th>\n",
              "      <td>5.800000e+01</td>\n",
              "      <td>1.000000e+00</td>\n",
              "      <td>2.000000e+00</td>\n",
              "      <td>9.000000e+00</td>\n",
              "      <td>2.000000e+00</td>\n",
              "      <td>1.000000e+00</td>\n",
              "      <td>5.000000e+00</td>\n",
              "      <td>3.000000e+00</td>\n",
              "      <td>1.000000e+00</td>\n",
              "      <td>2.000000e+00</td>\n",
              "      <td>6.073920e+06</td>\n",
              "      <td>0.000000e+00</td>\n",
              "    </tr>\n",
              "    <tr>\n",
              "      <th>75%</th>\n",
              "      <td>7.100000e+01</td>\n",
              "      <td>2.000000e+00</td>\n",
              "      <td>9.000000e+00</td>\n",
              "      <td>9.000000e+00</td>\n",
              "      <td>2.000000e+00</td>\n",
              "      <td>2.000000e+00</td>\n",
              "      <td>5.000000e+00</td>\n",
              "      <td>4.000000e+00</td>\n",
              "      <td>9.000000e+00</td>\n",
              "      <td>9.000000e+00</td>\n",
              "      <td>6.073920e+06</td>\n",
              "      <td>0.000000e+00</td>\n",
              "    </tr>\n",
              "    <tr>\n",
              "      <th>max</th>\n",
              "      <td>1.000000e+02</td>\n",
              "      <td>2.000000e+00</td>\n",
              "      <td>9.000000e+00</td>\n",
              "      <td>9.000000e+00</td>\n",
              "      <td>9.000000e+00</td>\n",
              "      <td>3.000000e+00</td>\n",
              "      <td>5.000000e+00</td>\n",
              "      <td>5.000000e+00</td>\n",
              "      <td>9.000000e+00</td>\n",
              "      <td>9.000000e+00</td>\n",
              "      <td>6.073920e+06</td>\n",
              "      <td>5.470000e+02</td>\n",
              "    </tr>\n",
              "  </tbody>\n",
              "</table>\n",
              "</div>\n",
              "      <button class=\"colab-df-convert\" onclick=\"convertToInteractive('df-683ef63d-5d5e-4577-8370-2d374420a093')\"\n",
              "              title=\"Convert this dataframe to an interactive table.\"\n",
              "              style=\"display:none;\">\n",
              "        \n",
              "  <svg xmlns=\"http://www.w3.org/2000/svg\" height=\"24px\"viewBox=\"0 0 24 24\"\n",
              "       width=\"24px\">\n",
              "    <path d=\"M0 0h24v24H0V0z\" fill=\"none\"/>\n",
              "    <path d=\"M18.56 5.44l.94 2.06.94-2.06 2.06-.94-2.06-.94-.94-2.06-.94 2.06-2.06.94zm-11 1L8.5 8.5l.94-2.06 2.06-.94-2.06-.94L8.5 2.5l-.94 2.06-2.06.94zm10 10l.94 2.06.94-2.06 2.06-.94-2.06-.94-.94-2.06-.94 2.06-2.06.94z\"/><path d=\"M17.41 7.96l-1.37-1.37c-.4-.4-.92-.59-1.43-.59-.52 0-1.04.2-1.43.59L10.3 9.45l-7.72 7.72c-.78.78-.78 2.05 0 2.83L4 21.41c.39.39.9.59 1.41.59.51 0 1.02-.2 1.41-.59l7.78-7.78 2.81-2.81c.8-.78.8-2.07 0-2.86zM5.41 20L4 18.59l7.72-7.72 1.47 1.35L5.41 20z\"/>\n",
              "  </svg>\n",
              "      </button>\n",
              "      \n",
              "  <style>\n",
              "    .colab-df-container {\n",
              "      display:flex;\n",
              "      flex-wrap:wrap;\n",
              "      gap: 12px;\n",
              "    }\n",
              "\n",
              "    .colab-df-convert {\n",
              "      background-color: #E8F0FE;\n",
              "      border: none;\n",
              "      border-radius: 50%;\n",
              "      cursor: pointer;\n",
              "      display: none;\n",
              "      fill: #1967D2;\n",
              "      height: 32px;\n",
              "      padding: 0 0 0 0;\n",
              "      width: 32px;\n",
              "    }\n",
              "\n",
              "    .colab-df-convert:hover {\n",
              "      background-color: #E2EBFA;\n",
              "      box-shadow: 0px 1px 2px rgba(60, 64, 67, 0.3), 0px 1px 3px 1px rgba(60, 64, 67, 0.15);\n",
              "      fill: #174EA6;\n",
              "    }\n",
              "\n",
              "    [theme=dark] .colab-df-convert {\n",
              "      background-color: #3B4455;\n",
              "      fill: #D2E3FC;\n",
              "    }\n",
              "\n",
              "    [theme=dark] .colab-df-convert:hover {\n",
              "      background-color: #434B5C;\n",
              "      box-shadow: 0px 1px 3px 1px rgba(0, 0, 0, 0.15);\n",
              "      filter: drop-shadow(0px 1px 2px rgba(0, 0, 0, 0.3));\n",
              "      fill: #FFFFFF;\n",
              "    }\n",
              "  </style>\n",
              "\n",
              "      <script>\n",
              "        const buttonEl =\n",
              "          document.querySelector('#df-683ef63d-5d5e-4577-8370-2d374420a093 button.colab-df-convert');\n",
              "        buttonEl.style.display =\n",
              "          google.colab.kernel.accessAllowed ? 'block' : 'none';\n",
              "\n",
              "        async function convertToInteractive(key) {\n",
              "          const element = document.querySelector('#df-683ef63d-5d5e-4577-8370-2d374420a093');\n",
              "          const dataTable =\n",
              "            await google.colab.kernel.invokeFunction('convertToInteractive',\n",
              "                                                     [key], {});\n",
              "          if (!dataTable) return;\n",
              "\n",
              "          const docLinkHtml = 'Like what you see? Visit the ' +\n",
              "            '<a target=\"_blank\" href=https://colab.research.google.com/notebooks/data_table.ipynb>data table notebook</a>'\n",
              "            + ' to learn more about interactive tables.';\n",
              "          element.innerHTML = '';\n",
              "          dataTable['output_type'] = 'display_data';\n",
              "          await google.colab.output.renderOutput(dataTable, element);\n",
              "          const docLink = document.createElement('div');\n",
              "          docLink.innerHTML = docLinkHtml;\n",
              "          element.appendChild(docLink);\n",
              "        }\n",
              "      </script>\n",
              "    </div>\n",
              "  </div>\n",
              "  "
            ]
          },
          "metadata": {},
          "execution_count": 91
        }
      ],
      "source": [
        "df.describe()"
      ]
    },
    {
      "cell_type": "code",
      "execution_count": 92,
      "metadata": {
        "id": "2wmjJgnaH7EI"
      },
      "outputs": [],
      "source": [
        "df.drop(df[df[\"EVOLUCAO\"] == 3].index,inplace = True)"
      ]
    },
    {
      "cell_type": "code",
      "source": [
        "df[\"EVOLUCAO\"].value_counts()"
      ],
      "metadata": {
        "colab": {
          "base_uri": "https://localhost:8080/"
        },
        "id": "SSI6RpYPGbZT",
        "outputId": "44b3c66d-232d-4735-fca4-7368c2e13d3d"
      },
      "execution_count": 93,
      "outputs": [
        {
          "output_type": "execute_result",
          "data": {
            "text/plain": [
              "1.0    1243269\n",
              "2.0     630460\n",
              "Name: EVOLUCAO, dtype: int64"
            ]
          },
          "metadata": {},
          "execution_count": 93
        }
      ]
    },
    {
      "cell_type": "markdown",
      "source": [
        "## incertezas\n",
        "\n"
      ],
      "metadata": {
        "id": "hg3UeJ_hLr3q"
      }
    },
    {
      "cell_type": "code",
      "source": [
        "df[\"FATOR_RISC\"]    = np.where(df[\"FATOR_RISC\"]  == 2,  0, df[\"FATOR_RISC\"] )\n",
        "df[\"EVOLUCAO\"]      = np.where(  df[\"EVOLUCAO\"]  == 2,  0, df[\"EVOLUCAO\"] )\n",
        "df[\"CLASSI_FIN\"]   = np.where(df[\"CLASSI_FIN\"] == 5,  1,       0) #1 is covid and 0 is rest"
      ],
      "metadata": {
        "id": "0P2NTjoTTxzE"
      },
      "execution_count": 94,
      "outputs": []
    },
    {
      "cell_type": "code",
      "source": [
        "df[\"UTI\"]                = np.where(df[\"UTI\"]               == 2,  0,  df[\"UTI\"]             )\n",
        "df[\"VACINA\"]             = np.where(df[\"VACINA\"]            == 2,  0,  df[\"VACINA\"]          )\n",
        "df[\"VACINA_COV\"]         = np.where(df[\"VACINA_COV\"]        == 2,  0,  df[\"VACINA_COV\"]      )\n",
        "df[\"FATOR_RISC_GRAVE\"]   = np.where(df[\"FATOR_RISC_GRAVE\"]  == 2,  0, df[\"FATOR_RISC_GRAVE\"] )\n",
        "df[\"COMORBIDADE_GRAVE\"]  = np.where(df[\"COMORBIDADE_GRAVE\"] == 2,  0, df[\"COMORBIDADE_GRAVE\"])"
      ],
      "metadata": {
        "id": "q4gELsW3PQ9K"
      },
      "execution_count": 95,
      "outputs": []
    },
    {
      "cell_type": "code",
      "source": [
        "df[\"UTI\"]                = np.where(df[\"UTI\"]               == 9,  0.5,  df[\"UTI\"]             )\n",
        "df[\"VACINA\"]             = np.where(df[\"VACINA\"]            == 9,  0.5,  df[\"VACINA\"]          )\n",
        "df[\"VACINA_COV\"]         = np.where(df[\"VACINA_COV\"]        == 9,  0.5,  df[\"VACINA_COV\"]      )\n",
        "df[\"FATOR_RISC_GRAVE\"]   = np.where(df[\"FATOR_RISC_GRAVE\"]  == 9,  0.5, df[\"FATOR_RISC_GRAVE\"] )\n",
        "df[\"COMORBIDADE_GRAVE\"]  = np.where(df[\"COMORBIDADE_GRAVE\"] == 9,  0.5, df[\"COMORBIDADE_GRAVE\"])"
      ],
      "metadata": {
        "id": "GNJIibXHMyZF"
      },
      "execution_count": 96,
      "outputs": []
    },
    {
      "cell_type": "code",
      "source": [
        "for col in df.columns:\n",
        "    print(col)\n",
        "    print(df[col].unique())\n",
        "    print(\"_\"*100)"
      ],
      "metadata": {
        "colab": {
          "base_uri": "https://localhost:8080/"
        },
        "id": "VTDhktHsLzxR",
        "outputId": "ef7d112e-10be-4d41-9016-c55d1f2fd11f"
      },
      "execution_count": 97,
      "outputs": [
        {
          "output_type": "stream",
          "name": "stdout",
          "text": [
            "NU_IDADE_N\n",
            "[  7   9  29  32   6   1  13  79  61  60   2  11  49  63  43  23  40  47\n",
            "  57  72  53  92  69  67  81  80  52  33  82  70  48  68  84  37  25  55\n",
            "  54  77  65  35  31  85  78  76  87  74  58  94  93  66  34  44  45  73\n",
            "  51  62  59  21  71  36  83  88   3  75  39  64  28  46  41  50  38  90\n",
            "  86  56  24 100  42  89  91  30  96  27  26  10  20  19   8   5  15  22\n",
            "  12  18   0   4  16  99  95  14  97  98  17]\n",
            "____________________________________________________________________________________________________\n",
            "FATOR_RISC\n",
            "[1. 0.]\n",
            "____________________________________________________________________________________________________\n",
            "VACINA_COV\n",
            "[0.  0.5 1. ]\n",
            "____________________________________________________________________________________________________\n",
            "VACINA\n",
            "[0.  0.5 1. ]\n",
            "____________________________________________________________________________________________________\n",
            "UTI\n",
            "[0.  0.5 1. ]\n",
            "____________________________________________________________________________________________________\n",
            "EVOLUCAO\n",
            "[1. 0.]\n",
            "____________________________________________________________________________________________________\n",
            "CLASSI_FIN\n",
            "[0 1]\n",
            "____________________________________________________________________________________________________\n",
            "ONDA\n",
            "[0.08955224 0.37313433 0.95522388 1.         0.17910448 0.31343284\n",
            " 0.55223881 0.56716418 0.1641791  0.98507463 0.86567164 1.04545455\n",
            " 1.02272727 1.11363636 1.38636364 1.31818182 1.18181818 1.15909091\n",
            " 1.27272727 1.47727273 1.22727273 1.06818182 1.09090909 1.61363636\n",
            " 1.40909091 1.34090909 1.25       1.20454545 1.29545455 1.63636364\n",
            " 1.13636364 1.36363636 1.43181818 1.59090909 1.68181818 1.90909091\n",
            " 1.5        1.95454545 1.81818182 1.54545455 1.45454545 1.88636364\n",
            " 1.86363636 2.         1.65909091 1.56818182 1.84090909 1.97727273\n",
            " 1.72727273 1.75       1.70454545 1.93181818 1.52272727 1.79545455\n",
            " 1.77272727 0.10447761 0.97014925 0.79104478 0.85074627 0.80597015\n",
            " 0.70149254 0.32835821 0.13432836 0.89552239 0.94029851 0.28358209\n",
            " 0.53731343 0.88059701 0.82089552 0.8358209  0.65671642 0.46268657\n",
            " 0.3880597  0.76119403 0.91044776 0.41791045 0.07462687 0.49253731\n",
            " 0.7761194  0.44776119 0.64179104 0.52238806 0.25373134 0.58208955\n",
            " 0.73134328 0.71641791 0.92537313 0.29850746 0.62686567 0.67164179\n",
            " 0.68656716 0.6119403  0.02985075 0.59701493 0.34328358 0.\n",
            " 0.74626866 0.04477612 0.19402985 0.23880597 0.01492537 0.47761194\n",
            " 0.43283582 0.20895522 0.26865672 0.50746269 0.14925373 0.11940299\n",
            " 0.40298507 0.05970149 0.35820896 0.2238806  3.         4.\n",
            " 4.01724138 4.17241379 4.05172414 4.34482759 4.18965517 4.55172414\n",
            " 4.36206897 4.20689655 4.39655172 4.5862069  4.37931034 4.63793103\n",
            " 4.44827586 4.51724138 4.10344828 4.96551724 5.         4.48275862\n",
            " 4.77586207 4.75862069 4.84482759 4.79310345 4.25862069 4.22413793\n",
            " 4.81034483 4.72413793 4.0862069  4.32758621 4.43103448 4.87931034\n",
            " 4.03448276 4.31034483 4.65517241 4.12068966 4.27586207 4.24137931\n",
            " 4.29310345 4.67241379 4.06896552 4.70689655 4.86206897 4.82758621\n",
            " 4.74137931 4.46551724 4.94827586 4.89655172 4.13793103 4.5\n",
            " 4.60344828 4.53448276 4.62068966 4.9137931  4.93103448 4.4137931\n",
            " 4.98275862 4.15517241 4.68965517 4.56896552]\n",
            "____________________________________________________________________________________________________\n",
            "FATOR_RISC_GRAVE\n",
            "[1.  0.5 0. ]\n",
            "____________________________________________________________________________________________________\n",
            "COMORBIDADE_GRAVE\n",
            "[1.  0.5 0. ]\n",
            "____________________________________________________________________________________________________\n",
            "TEMP_ULT_DOSE\n",
            "[6.07392e+06 1.46880e+04 9.50400e+03 4.32000e+03 3.45600e+03 8.64000e+03\n",
            " 1.72800e+04 1.98720e+04 1.03680e+04 2.33280e+04 1.55520e+04 8.64000e+02\n",
            " 1.72800e+03 7.77600e+03 6.04800e+03 1.12320e+04 2.76480e+04 0.00000e+00\n",
            " 6.91200e+03 4.75200e+04 1.20960e+04 2.07360e+04 3.19680e+04 2.59200e+04\n",
            " 3.11040e+04 4.83840e+04 6.99840e+04 5.18400e+03 4.32000e+04 5.52960e+04\n",
            " 1.64160e+04 1.38240e+04 2.41920e+04 3.71520e+04 6.39360e+04 7.86240e+04\n",
            " 3.80160e+04 5.70240e+04 5.09760e+04 2.50560e+04 1.29600e+04 3.28320e+04\n",
            " 5.61600e+04 3.62880e+04 6.65280e+04 2.85120e+04 6.30720e+04 3.36960e+04\n",
            " 2.59200e+03 5.96160e+04 5.44320e+04 3.02400e+04 4.49280e+04 7.94880e+04\n",
            " 8.64000e+04 3.45600e+04 7.60320e+04 9.24480e+04 4.66560e+04 2.16000e+04\n",
            " 2.93760e+04 4.06080e+04 2.67840e+04 8.38080e+04 8.03520e+04 5.18400e+04\n",
            " 1.14912e+05 8.81280e+04 6.13440e+04 4.92480e+04 4.23360e+04 8.29440e+04\n",
            " 1.90080e+04 6.82560e+04 1.10592e+05 7.77600e+04 1.07136e+05 1.01952e+05\n",
            " 7.25760e+04 8.46720e+04 5.01120e+04 8.72640e+04 1.45152e+05 8.12160e+04\n",
            " 8.20800e+04 1.23552e+05 7.08480e+04 3.97440e+04 6.22080e+04 1.15776e+05\n",
            " 1.16640e+05 1.20096e+05 5.27040e+04 6.73920e+04 1.04544e+05 4.14720e+04\n",
            " 9.67680e+04 9.41760e+04 6.91200e+04 3.54240e+04 1.33920e+05 9.33120e+04\n",
            " 1.18368e+05 1.21824e+05 1.30464e+05 1.05408e+05 5.35680e+04 6.04800e+04\n",
            " 1.06272e+05 1.22688e+05 1.03680e+05 4.40640e+04 1.02816e+05 1.29600e+05\n",
            " 1.14048e+05 6.48000e+04 1.32192e+05 3.88800e+04 7.51680e+04 1.63296e+05\n",
            " 1.46016e+05 1.17504e+05 1.28736e+05 1.33056e+05 1.35648e+05 9.84960e+04\n",
            " 1.57248e+05 1.85760e+05 1.58976e+05 1.41696e+05 1.47744e+05 1.08864e+05\n",
            " 7.43040e+04 1.71936e+05 7.68960e+04 1.86624e+05 1.27008e+05 4.57920e+04\n",
            " 9.50400e+04 5.78880e+04 8.98560e+04 1.40832e+05 1.19232e+05 2.23776e+05\n",
            " 1.59840e+05 9.07200e+04 1.46880e+05 1.42560e+05 6.56640e+04 1.68480e+05\n",
            " 1.73664e+05 8.89920e+04 9.59040e+04 1.09728e+05 7.34400e+04 1.77120e+05\n",
            " 1.51200e+05 2.07360e+05 2.48832e+05 2.20320e+05 1.55520e+05 2.03904e+05\n",
            " 2.47104e+05 1.20960e+05 1.27872e+05 1.48608e+05 1.00224e+05 1.94400e+05\n",
            " 1.80576e+05 2.16000e+05 1.11456e+05 1.84896e+05 1.69344e+05 1.62432e+05\n",
            " 1.38240e+05 8.55360e+04 9.93600e+04 1.36512e+05 1.67616e+05 7.17120e+04\n",
            " 1.39104e+05 1.39968e+05 1.95264e+05 1.52064e+05 2.08224e+05 2.22048e+05\n",
            " 2.32416e+05 1.75392e+05 2.09088e+05 1.31328e+05 2.24640e+05 1.81440e+04\n",
            " 2.24640e+04 1.50336e+05 9.76320e+04 1.08000e+05 1.78848e+05 1.13184e+05\n",
            " 1.26144e+05 5.87520e+04 2.00448e+05 1.44288e+05 1.12320e+05 1.81440e+05\n",
            " 1.64160e+05 1.37376e+05 1.70208e+05 1.52928e+05 9.15840e+04 1.34784e+05\n",
            " 2.67840e+05 1.58112e+05 1.90944e+05 1.49472e+05 2.14272e+05 2.58336e+05\n",
            " 1.65024e+05 1.76256e+05 1.71072e+05 1.83168e+05 1.77984e+05 1.74528e+05\n",
            " 1.87488e+05 1.82304e+05 1.65888e+05 2.06496e+05 2.70432e+05 1.24416e+05\n",
            " 1.61568e+05 2.12544e+05 2.30688e+05 2.27232e+05 2.28096e+05 1.01088e+05\n",
            " 1.53792e+05 1.93536e+05 1.43424e+05 2.05632e+05 1.25280e+05 1.60704e+05\n",
            " 2.42784e+05 2.13408e+05 2.40192e+05 2.10816e+05 1.79712e+05 2.65248e+05\n",
            " 1.98720e+05 2.72160e+05 2.26368e+05 2.03040e+05 2.17728e+05 2.55744e+05\n",
            " 2.41056e+05 2.02176e+05 2.47968e+05 2.19456e+05 1.66752e+05 1.89216e+05\n",
            " 1.54656e+05 2.15136e+05 1.90080e+05 2.86848e+05 2.35008e+05 2.01312e+05\n",
            " 2.49696e+05 1.88352e+05 2.73888e+05 2.38464e+05 1.84032e+05 2.09952e+05\n",
            " 2.11680e+05 2.60928e+05 1.56384e+05 2.29824e+05 2.21184e+05 1.72800e+05\n",
            " 1.91808e+05 2.39328e+05 1.96992e+05 2.62656e+05 2.56608e+05 2.34144e+05\n",
            " 2.52288e+05 1.92672e+05 2.45376e+05 2.18592e+05 2.44512e+05 2.16864e+05\n",
            " 2.64384e+05 1.97856e+05 2.59200e+05 2.22912e+05 2.57472e+05 2.50560e+05\n",
            " 2.51424e+05 1.99584e+05 2.68704e+05 2.54880e+05 2.33280e+05 2.04768e+05\n",
            " 2.36736e+05 2.41920e+05 2.25504e+05 2.54016e+05 2.63520e+05 2.60064e+05\n",
            " 2.74752e+05 2.43648e+05 2.37600e+05 2.28960e+05 3.17088e+05 1.96128e+05\n",
            " 2.71296e+05 3.36096e+05 2.75616e+05 2.31552e+05 2.76480e+05 2.61792e+05\n",
            " 2.53152e+05 2.66112e+05 3.20544e+05 2.46240e+05 2.66976e+05 4.83840e+05\n",
            " 3.23136e+05 2.35872e+05 2.73024e+05 3.18816e+05 5.51232e+05 2.83392e+05\n",
            " 3.51648e+05 3.08448e+05 2.69568e+05 3.49056e+05 2.79072e+05 2.85984e+05\n",
            " 2.77344e+05 3.15360e+05 2.84256e+05 2.95488e+05 2.87712e+05 3.43008e+05\n",
            " 2.89440e+05 3.30912e+05 2.78208e+05 2.88576e+05 3.54240e+05 4.77792e+05\n",
            " 5.14080e+05 2.79936e+05 3.24864e+05 3.13632e+05 3.17952e+05 3.19680e+05\n",
            " 3.01536e+05 3.42144e+05 2.92032e+05 2.82528e+05 3.47328e+05 3.11040e+05\n",
            " 2.91168e+05 2.94624e+05 3.12768e+05 2.81664e+05 2.96352e+05 5.56416e+05\n",
            " 3.73248e+05 3.45600e+05 3.43872e+05 3.63744e+05 2.80800e+05 3.74112e+05\n",
            " 3.33504e+05 3.50784e+05 2.97216e+05 3.59424e+05 4.49280e+05 4.42368e+05\n",
            " 2.90304e+05 4.63104e+05 3.62016e+05 4.73472e+05 3.58560e+05 3.52512e+05\n",
            " 2.92896e+05 3.53376e+05 3.60288e+05 2.93760e+05 3.35232e+05 3.31776e+05\n",
            " 3.03264e+05 3.05856e+05 3.02400e+05 3.00672e+05 2.99808e+05 3.10176e+05\n",
            " 2.98944e+05 2.98080e+05 2.85120e+05 3.09312e+05 3.06720e+05 3.04128e+05\n",
            " 3.28320e+05 3.07584e+05 3.14496e+05 3.16224e+05 3.11904e+05 3.25728e+05\n",
            " 3.04992e+05 5.52096e+05 6.07392e+05 5.46912e+05 3.22272e+05 3.24000e+05\n",
            " 3.21408e+05 4.33728e+05 4.87296e+05 3.27456e+05 5.78880e+05 3.26592e+05\n",
            " 5.24448e+05 3.29184e+05 5.76288e+05 4.74336e+05 5.78016e+05 3.36960e+05\n",
            " 4.86432e+05]\n",
            "____________________________________________________________________________________________________\n",
            "CLASSI_COV_EXAME\n",
            "[False  True]\n",
            "____________________________________________________________________________________________________\n",
            "TEMP_UTI\n",
            "[  0.   3.  10.   9.  21.   4.  15.  12.   2.  17.   5.  18.   7.   1.\n",
            "  29.  14.   6.  38.  60.  13.  63.  23.  37.  48.  19.   8.  22.  11.\n",
            "  41.  16.  25.  26.  34.  27.  20.  43.  42.  28.  36.  32.  35.  52.\n",
            "  67.  24.  31.  72.  33.  51.  79.  30. 101.  49.  53.  46.  59.  57.\n",
            "  47.  66.  40.  64.  71.  54.  85.  45.  73.  88.  93. 102.  62.  68.\n",
            "  39.  61.  55. 133.  58. 177. 111.  50. 175. 106.  44.  75.  65.  83.\n",
            " 110.  87.  56. 103.  89.  77.  99.  98. 198.  70. 100. 108.  82. 146.\n",
            "  94.  95.  69.  74.  78.  90.  97. 107.  80. 104.  91. 126. 240. 131.\n",
            "  81. 124. 162. 129. 105.  76.  86. 278. 138.  84. 209. 109. 120. 156.\n",
            " 148. 115. 273. 153. 150.  96. 128. 114. 267. 118. 164. 113. 141. 163.\n",
            " 117. 130. 119. 147. 137. 374.  92. 142. 143. 116. 132. 187. 144. 157.\n",
            " 125. 134. 202. 213. 123. 151. 394. 375. 207. 182. 122. 331. 224. 168.\n",
            " 121. 155. 169. 170. 292. 160. 357. 203. 127. 404. 136. 216. 222. 135.\n",
            " 223. 255. 112. 259. 300. 212. 377. 139. 367. 185. 149. 159. 372. 186.\n",
            " 173. 201. 140. 193. 241. 161. 154. 166. 181. 158. 287. 197. 179. 184.\n",
            " 191. 189. 368. 279. 282. 225. 547. 242. 152. 195. 145. 190. 217. 196.\n",
            " 237. 419. 180. 200. 366. 408. 365.]\n",
            "____________________________________________________________________________________________________\n"
          ]
        }
      ]
    },
    {
      "cell_type": "markdown",
      "metadata": {
        "id": "9rThwvf-EWDU"
      },
      "source": [
        "## tipos"
      ]
    },
    {
      "cell_type": "code",
      "execution_count": 98,
      "metadata": {
        "colab": {
          "base_uri": "https://localhost:8080/"
        },
        "id": "1yOJ5flEEdUM",
        "outputId": "f675efc2-bcce-4748-af9f-d19b09d75bb9"
      },
      "outputs": [
        {
          "output_type": "stream",
          "name": "stdout",
          "text": [
            "<class 'pandas.core.frame.DataFrame'>\n",
            "Int64Index: 1873729 entries, 0 to 1879943\n",
            "Data columns (total 13 columns):\n",
            " #   Column             Dtype  \n",
            "---  ------             -----  \n",
            " 0   NU_IDADE_N         int64  \n",
            " 1   FATOR_RISC         float64\n",
            " 2   VACINA_COV         float64\n",
            " 3   VACINA             float64\n",
            " 4   UTI                float64\n",
            " 5   EVOLUCAO           float64\n",
            " 6   CLASSI_FIN         int64  \n",
            " 7   ONDA               float64\n",
            " 8   FATOR_RISC_GRAVE   float64\n",
            " 9   COMORBIDADE_GRAVE  float64\n",
            " 10  TEMP_ULT_DOSE      float64\n",
            " 11  CLASSI_COV_EXAME   bool   \n",
            " 12  TEMP_UTI           float64\n",
            "dtypes: bool(1), float64(10), int64(2)\n",
            "memory usage: 187.6 MB\n"
          ]
        }
      ],
      "source": [
        "df.info()"
      ]
    },
    {
      "cell_type": "markdown",
      "metadata": {
        "id": "V0QQnfSjBR17"
      },
      "source": [
        "## Normalização"
      ]
    },
    {
      "cell_type": "code",
      "execution_count": 99,
      "metadata": {
        "colab": {
          "base_uri": "https://localhost:8080/"
        },
        "id": "74M0hYnDE_xB",
        "outputId": "0f07e8a3-33ca-4636-8ced-17feccea2fbc"
      },
      "outputs": [
        {
          "output_type": "execute_result",
          "data": {
            "text/plain": [
              "0          0.0\n",
              "1          0.0\n",
              "2          0.0\n",
              "3          0.0\n",
              "4          0.0\n",
              "          ... \n",
              "1879939    0.0\n",
              "1879940    0.0\n",
              "1879941    1.0\n",
              "1879942    0.0\n",
              "1879943    0.0\n",
              "Name: CLASSI_COV_EXAME, Length: 1873729, dtype: float64"
            ]
          },
          "metadata": {},
          "execution_count": 99
        }
      ],
      "source": [
        "# convert from boolean to float\n",
        "df['CLASSI_COV_EXAME'].astype('float64')"
      ]
    },
    {
      "cell_type": "code",
      "source": [
        "mediaULTDOSE = df['TEMP_ULT_DOSE'].mean()\n",
        "print(mediaULTDOSE)\n",
        "print(df['TEMP_ULT_DOSE'].std())\n",
        "print(df['TEMP_ULT_DOSE'].max())\n",
        "\n",
        "print()\n",
        "\n",
        "mediaUTI = df['TEMP_UTI'].mean()\n",
        "print(mediaUTI)\n",
        "print(df['TEMP_UTI'].std())\n",
        "print(df['TEMP_UTI'].max())"
      ],
      "metadata": {
        "colab": {
          "base_uri": "https://localhost:8080/"
        },
        "id": "n8_naBV2LnuU",
        "outputId": "a8fb75ab-40b4-409e-8daf-c5ee39b281b0"
      },
      "execution_count": 100,
      "outputs": [
        {
          "output_type": "stream",
          "name": "stdout",
          "text": [
            "5383272.163861476\n",
            "1913315.728152069\n",
            "6073920.0\n",
            "\n",
            "2.387395402430127\n",
            "7.478357731102409\n",
            "547.0\n"
          ]
        }
      ]
    },
    {
      "cell_type": "code",
      "source": [
        "sns.displot(df['TEMP_ULT_DOSE'][df['TEMP_ULT_DOSE'] < 10*maximo], kde = True,aspect = 2)\n",
        "plt.show()\n",
        "\n",
        "print()\n",
        "\n",
        "sns.displot(df['TEMP_UTI'], kde = True,aspect = 2)\n",
        "plt.show()\n",
        "\n",
        "\n",
        "sns.displot(df['TEMP_UTI'][df['TEMP_UTI'] <= 5], kde = True,aspect = 2)\n",
        "plt.show()"
      ],
      "metadata": {
        "colab": {
          "base_uri": "https://localhost:8080/",
          "height": 1000
        },
        "id": "mr7i2xkgRIpw",
        "outputId": "bdca07e9-4d25-41b7-8b0f-c8c6d28938ec"
      },
      "execution_count": 101,
      "outputs": [
        {
          "output_type": "display_data",
          "data": {
            "text/plain": [
              "<Figure size 720x360 with 1 Axes>"
            ],
            "image/png": "[encoded data removed]"
          },
          "metadata": {
            "needs_background": "light"
          }
        },
        {
          "output_type": "stream",
          "name": "stdout",
          "text": [
            "\n"
          ]
        },
        {
          "output_type": "display_data",
          "data": {
            "text/plain": [
              "<Figure size 720x360 with 1 Axes>"
            ],
            "image/png": "[encoded data removed]"
          },
          "metadata": {
            "needs_background": "light"
          }
        },
        {
          "output_type": "display_data",
          "data": {
            "text/plain": [
              "<Figure size 720x360 with 1 Axes>"
            ],
            "image/png": "[encoded data removed]"
          },
          "metadata": {
            "needs_background": "light"
          }
        }
      ]
    },
    {
      "cell_type": "code",
      "source": [
        "df['TEMP_UTI']   = df['TEMP_UTI']/    df['TEMP_UTI'].max()\n",
        "df['TEMP_ULT_DOSE'] = df['TEMP_ULT_DOSE']/ df['TEMP_ULT_DOSE'].max()\n",
        "df['NU_IDADE_N'] = df['NU_IDADE_N']/ df['NU_IDADE_N'].max()"
      ],
      "metadata": {
        "id": "516efpd4M_h5"
      },
      "execution_count": 102,
      "outputs": []
    },
    {
      "cell_type": "markdown",
      "metadata": {
        "id": "j8v0TjG1nE2Y"
      },
      "source": [
        "# Modelo"
      ]
    },
    {
      "cell_type": "code",
      "source": [
        "df[\"EVOLUCAO\"].value_counts()"
      ],
      "metadata": {
        "colab": {
          "base_uri": "https://localhost:8080/"
        },
        "id": "BueeM2VMGtGB",
        "outputId": "55ba3dcf-5eac-4ed3-8574-2c1296423676"
      },
      "execution_count": 103,
      "outputs": [
        {
          "output_type": "execute_result",
          "data": {
            "text/plain": [
              "1.0    1243269\n",
              "0.0     630460\n",
              "Name: EVOLUCAO, dtype: int64"
            ]
          },
          "metadata": {},
          "execution_count": 103
        }
      ]
    },
    {
      "cell_type": "markdown",
      "metadata": {
        "id": "44QmC-lCNcPT"
      },
      "source": [
        "## separar features e label"
      ]
    },
    {
      "cell_type": "markdown",
      "source": [
        "###Separa aproximadamente mesma quantidade para evitar esquecimento catastrófico"
      ],
      "metadata": {
        "id": "649NTvlBqn8H"
      }
    },
    {
      "cell_type": "code",
      "source": [
        "df[df[\"CLASSI_FIN\"] == 1]"
      ],
      "metadata": {
        "colab": {
          "base_uri": "https://localhost:8080/",
          "height": 488
        },
        "id": "WlmoLp4tEZWr",
        "outputId": "a294285e-7cba-44cf-8746-0497f6395353"
      },
      "execution_count": 104,
      "outputs": [
        {
          "output_type": "execute_result",
          "data": {
            "text/plain": [
              "         NU_IDADE_N  FATOR_RISC  VACINA_COV  VACINA  UTI  EVOLUCAO  \\\n",
              "7              0.79         1.0         0.0     0.5  0.0       0.0   \n",
              "8              0.61         1.0         0.0     0.5  0.0       1.0   \n",
              "10             0.60         1.0         0.0     0.5  1.0       0.0   \n",
              "15             0.32         0.0         0.0     0.5  0.5       1.0   \n",
              "17             0.43         0.0         0.0     0.5  1.0       1.0   \n",
              "...             ...         ...         ...     ...  ...       ...   \n",
              "1879939        0.72         1.0         1.0     0.5  1.0       0.0   \n",
              "1879940        0.75         1.0         1.0     0.0  0.0       1.0   \n",
              "1879941        0.63         1.0         1.0     0.5  0.0       1.0   \n",
              "1879942        0.41         0.0         1.0     0.5  0.0       1.0   \n",
              "1879943        0.81         1.0         1.0     0.5  0.0       1.0   \n",
              "\n",
              "         CLASSI_FIN  ONDA  FATOR_RISC_GRAVE  COMORBIDADE_GRAVE  TEMP_ULT_DOSE  \\\n",
              "7                 1   1.0               1.0                1.0       1.000000   \n",
              "8                 1   1.0               1.0                0.5       1.000000   \n",
              "10                1   1.0               1.0                1.0       1.000000   \n",
              "15                1   1.0               0.5                0.5       1.000000   \n",
              "17                1   1.0               0.5                0.5       1.000000   \n",
              "...             ...   ...               ...                ...            ...   \n",
              "1879939           1   5.0               1.0                1.0       0.033428   \n",
              "1879940           1   5.0               1.0                1.0       0.011522   \n",
              "1879941           1   5.0               1.0                1.0       0.004836   \n",
              "1879942           1   5.0               0.5                0.5       0.017070   \n",
              "1879943           1   5.0               1.0                1.0       0.041394   \n",
              "\n",
              "         CLASSI_COV_EXAME  TEMP_UTI  \n",
              "7                    True  0.000000  \n",
              "8                    True  0.000000  \n",
              "10                   True  0.000000  \n",
              "15                   True  0.000000  \n",
              "17                   True  0.018282  \n",
              "...                   ...       ...  \n",
              "1879939             False  0.000000  \n",
              "1879940             False  0.000000  \n",
              "1879941              True  0.000000  \n",
              "1879942             False  0.000000  \n",
              "1879943             False  0.000000  \n",
              "\n",
              "[1827126 rows x 13 columns]"
            ],
            "text/html": [
              "\n",
              "  <div id=\"df-af8a9c9f-8997-4358-83be-9f5608f01dc0\">\n",
              "    <div class=\"colab-df-container\">\n",
              "      <div>\n",
              "<style scoped>\n",
              "    .dataframe tbody tr th:only-of-type {\n",
              "        vertical-align: middle;\n",
              "    }\n",
              "\n",
              "    .dataframe tbody tr th {\n",
              "        vertical-align: top;\n",
              "    }\n",
              "\n",
              "    .dataframe thead th {\n",
              "        text-align: right;\n",
              "    }\n",
              "</style>\n",
              "<table border=\"1\" class=\"dataframe\">\n",
              "  <thead>\n",
              "    <tr style=\"text-align: right;\">\n",
              "      <th></th>\n",
              "      <th>NU_IDADE_N</th>\n",
              "      <th>FATOR_RISC</th>\n",
              "      <th>VACINA_COV</th>\n",
              "      <th>VACINA</th>\n",
              "      <th>UTI</th>\n",
              "      <th>EVOLUCAO</th>\n",
              "      <th>CLASSI_FIN</th>\n",
              "      <th>ONDA</th>\n",
              "      <th>FATOR_RISC_GRAVE</th>\n",
              "      <th>COMORBIDADE_GRAVE</th>\n",
              "      <th>TEMP_ULT_DOSE</th>\n",
              "      <th>CLASSI_COV_EXAME</th>\n",
              "      <th>TEMP_UTI</th>\n",
              "    </tr>\n",
              "  </thead>\n",
              "  <tbody>\n",
              "    <tr>\n",
              "      <th>7</th>\n",
              "      <td>0.79</td>\n",
              "      <td>1.0</td>\n",
              "      <td>0.0</td>\n",
              "      <td>0.5</td>\n",
              "      <td>0.0</td>\n",
              "      <td>0.0</td>\n",
              "      <td>1</td>\n",
              "      <td>1.0</td>\n",
              "      <td>1.0</td>\n",
              "      <td>1.0</td>\n",
              "      <td>1.000000</td>\n",
              "      <td>True</td>\n",
              "      <td>0.000000</td>\n",
              "    </tr>\n",
              "    <tr>\n",
              "      <th>8</th>\n",
              "      <td>0.61</td>\n",
              "      <td>1.0</td>\n",
              "      <td>0.0</td>\n",
              "      <td>0.5</td>\n",
              "      <td>0.0</td>\n",
              "      <td>1.0</td>\n",
              "      <td>1</td>\n",
              "      <td>1.0</td>\n",
              "      <td>1.0</td>\n",
              "      <td>0.5</td>\n",
              "      <td>1.000000</td>\n",
              "      <td>True</td>\n",
              "      <td>0.000000</td>\n",
              "    </tr>\n",
              "    <tr>\n",
              "      <th>10</th>\n",
              "      <td>0.60</td>\n",
              "      <td>1.0</td>\n",
              "      <td>0.0</td>\n",
              "      <td>0.5</td>\n",
              "      <td>1.0</td>\n",
              "      <td>0.0</td>\n",
              "      <td>1</td>\n",
              "      <td>1.0</td>\n",
              "      <td>1.0</td>\n",
              "      <td>1.0</td>\n",
              "      <td>1.000000</td>\n",
              "      <td>True</td>\n",
              "      <td>0.000000</td>\n",
              "    </tr>\n",
              "    <tr>\n",
              "      <th>15</th>\n",
              "      <td>0.32</td>\n",
              "      <td>0.0</td>\n",
              "      <td>0.0</td>\n",
              "      <td>0.5</td>\n",
              "      <td>0.5</td>\n",
              "      <td>1.0</td>\n",
              "      <td>1</td>\n",
              "      <td>1.0</td>\n",
              "      <td>0.5</td>\n",
              "      <td>0.5</td>\n",
              "      <td>1.000000</td>\n",
              "      <td>True</td>\n",
              "      <td>0.000000</td>\n",
              "    </tr>\n",
              "    <tr>\n",
              "      <th>17</th>\n",
              "      <td>0.43</td>\n",
              "      <td>0.0</td>\n",
              "      <td>0.0</td>\n",
              "      <td>0.5</td>\n",
              "      <td>1.0</td>\n",
              "      <td>1.0</td>\n",
              "      <td>1</td>\n",
              "      <td>1.0</td>\n",
              "      <td>0.5</td>\n",
              "      <td>0.5</td>\n",
              "      <td>1.000000</td>\n",
              "      <td>True</td>\n",
              "      <td>0.018282</td>\n",
              "    </tr>\n",
              "    <tr>\n",
              "      <th>...</th>\n",
              "      <td>...</td>\n",
              "      <td>...</td>\n",
              "      <td>...</td>\n",
              "      <td>...</td>\n",
              "      <td>...</td>\n",
              "      <td>...</td>\n",
              "      <td>...</td>\n",
              "      <td>...</td>\n",
              "      <td>...</td>\n",
              "      <td>...</td>\n",
              "      <td>...</td>\n",
              "      <td>...</td>\n",
              "      <td>...</td>\n",
              "    </tr>\n",
              "    <tr>\n",
              "      <th>1879939</th>\n",
              "      <td>0.72</td>\n",
              "      <td>1.0</td>\n",
              "      <td>1.0</td>\n",
              "      <td>0.5</td>\n",
              "      <td>1.0</td>\n",
              "      <td>0.0</td>\n",
              "      <td>1</td>\n",
              "      <td>5.0</td>\n",
              "      <td>1.0</td>\n",
              "      <td>1.0</td>\n",
              "      <td>0.033428</td>\n",
              "      <td>False</td>\n",
              "      <td>0.000000</td>\n",
              "    </tr>\n",
              "    <tr>\n",
              "      <th>1879940</th>\n",
              "      <td>0.75</td>\n",
              "      <td>1.0</td>\n",
              "      <td>1.0</td>\n",
              "      <td>0.0</td>\n",
              "      <td>0.0</td>\n",
              "      <td>1.0</td>\n",
              "      <td>1</td>\n",
              "      <td>5.0</td>\n",
              "      <td>1.0</td>\n",
              "      <td>1.0</td>\n",
              "      <td>0.011522</td>\n",
              "      <td>False</td>\n",
              "      <td>0.000000</td>\n",
              "    </tr>\n",
              "    <tr>\n",
              "      <th>1879941</th>\n",
              "      <td>0.63</td>\n",
              "      <td>1.0</td>\n",
              "      <td>1.0</td>\n",
              "      <td>0.5</td>\n",
              "      <td>0.0</td>\n",
              "      <td>1.0</td>\n",
              "      <td>1</td>\n",
              "      <td>5.0</td>\n",
              "      <td>1.0</td>\n",
              "      <td>1.0</td>\n",
              "      <td>0.004836</td>\n",
              "      <td>True</td>\n",
              "      <td>0.000000</td>\n",
              "    </tr>\n",
              "    <tr>\n",
              "      <th>1879942</th>\n",
              "      <td>0.41</td>\n",
              "      <td>0.0</td>\n",
              "      <td>1.0</td>\n",
              "      <td>0.5</td>\n",
              "      <td>0.0</td>\n",
              "      <td>1.0</td>\n",
              "      <td>1</td>\n",
              "      <td>5.0</td>\n",
              "      <td>0.5</td>\n",
              "      <td>0.5</td>\n",
              "      <td>0.017070</td>\n",
              "      <td>False</td>\n",
              "      <td>0.000000</td>\n",
              "    </tr>\n",
              "    <tr>\n",
              "      <th>1879943</th>\n",
              "      <td>0.81</td>\n",
              "      <td>1.0</td>\n",
              "      <td>1.0</td>\n",
              "      <td>0.5</td>\n",
              "      <td>0.0</td>\n",
              "      <td>1.0</td>\n",
              "      <td>1</td>\n",
              "      <td>5.0</td>\n",
              "      <td>1.0</td>\n",
              "      <td>1.0</td>\n",
              "      <td>0.041394</td>\n",
              "      <td>False</td>\n",
              "      <td>0.000000</td>\n",
              "    </tr>\n",
              "  </tbody>\n",
              "</table>\n",
              "<p>1827126 rows × 13 columns</p>\n",
              "</div>\n",
              "      <button class=\"colab-df-convert\" onclick=\"convertToInteractive('df-af8a9c9f-8997-4358-83be-9f5608f01dc0')\"\n",
              "              title=\"Convert this dataframe to an interactive table.\"\n",
              "              style=\"display:none;\">\n",
              "        \n",
              "  <svg xmlns=\"http://www.w3.org/2000/svg\" height=\"24px\"viewBox=\"0 0 24 24\"\n",
              "       width=\"24px\">\n",
              "    <path d=\"M0 0h24v24H0V0z\" fill=\"none\"/>\n",
              "    <path d=\"M18.56 5.44l.94 2.06.94-2.06 2.06-.94-2.06-.94-.94-2.06-.94 2.06-2.06.94zm-11 1L8.5 8.5l.94-2.06 2.06-.94-2.06-.94L8.5 2.5l-.94 2.06-2.06.94zm10 10l.94 2.06.94-2.06 2.06-.94-2.06-.94-.94-2.06-.94 2.06-2.06.94z\"/><path d=\"M17.41 7.96l-1.37-1.37c-.4-.4-.92-.59-1.43-.59-.52 0-1.04.2-1.43.59L10.3 9.45l-7.72 7.72c-.78.78-.78 2.05 0 2.83L4 21.41c.39.39.9.59 1.41.59.51 0 1.02-.2 1.41-.59l7.78-7.78 2.81-2.81c.8-.78.8-2.07 0-2.86zM5.41 20L4 18.59l7.72-7.72 1.47 1.35L5.41 20z\"/>\n",
              "  </svg>\n",
              "      </button>\n",
              "      \n",
              "  <style>\n",
              "    .colab-df-container {\n",
              "      display:flex;\n",
              "      flex-wrap:wrap;\n",
              "      gap: 12px;\n",
              "    }\n",
              "\n",
              "    .colab-df-convert {\n",
              "      background-color: #E8F0FE;\n",
              "      border: none;\n",
              "      border-radius: 50%;\n",
              "      cursor: pointer;\n",
              "      display: none;\n",
              "      fill: #1967D2;\n",
              "      height: 32px;\n",
              "      padding: 0 0 0 0;\n",
              "      width: 32px;\n",
              "    }\n",
              "\n",
              "    .colab-df-convert:hover {\n",
              "      background-color: #E2EBFA;\n",
              "      box-shadow: 0px 1px 2px rgba(60, 64, 67, 0.3), 0px 1px 3px 1px rgba(60, 64, 67, 0.15);\n",
              "      fill: #174EA6;\n",
              "    }\n",
              "\n",
              "    [theme=dark] .colab-df-convert {\n",
              "      background-color: #3B4455;\n",
              "      fill: #D2E3FC;\n",
              "    }\n",
              "\n",
              "    [theme=dark] .colab-df-convert:hover {\n",
              "      background-color: #434B5C;\n",
              "      box-shadow: 0px 1px 3px 1px rgba(0, 0, 0, 0.15);\n",
              "      filter: drop-shadow(0px 1px 2px rgba(0, 0, 0, 0.3));\n",
              "      fill: #FFFFFF;\n",
              "    }\n",
              "  </style>\n",
              "\n",
              "      <script>\n",
              "        const buttonEl =\n",
              "          document.querySelector('#df-af8a9c9f-8997-4358-83be-9f5608f01dc0 button.colab-df-convert');\n",
              "        buttonEl.style.display =\n",
              "          google.colab.kernel.accessAllowed ? 'block' : 'none';\n",
              "\n",
              "        async function convertToInteractive(key) {\n",
              "          const element = document.querySelector('#df-af8a9c9f-8997-4358-83be-9f5608f01dc0');\n",
              "          const dataTable =\n",
              "            await google.colab.kernel.invokeFunction('convertToInteractive',\n",
              "                                                     [key], {});\n",
              "          if (!dataTable) return;\n",
              "\n",
              "          const docLinkHtml = 'Like what you see? Visit the ' +\n",
              "            '<a target=\"_blank\" href=https://colab.research.google.com/notebooks/data_table.ipynb>data table notebook</a>'\n",
              "            + ' to learn more about interactive tables.';\n",
              "          element.innerHTML = '';\n",
              "          dataTable['output_type'] = 'display_data';\n",
              "          await google.colab.output.renderOutput(dataTable, element);\n",
              "          const docLink = document.createElement('div');\n",
              "          docLink.innerHTML = docLinkHtml;\n",
              "          element.appendChild(docLink);\n",
              "        }\n",
              "      </script>\n",
              "    </div>\n",
              "  </div>\n",
              "  "
            ]
          },
          "metadata": {},
          "execution_count": 104
        }
      ]
    },
    {
      "cell_type": "code",
      "source": [
        "N0covid = len(df[df[\"CLASSI_FIN\"] == 0])\n",
        "df_equilibrado = (df[df[\"CLASSI_FIN\"] == 1].sample(2*N0covid)).append(df[df[\"CLASSI_FIN\"] == 0])"
      ],
      "metadata": {
        "id": "8-KG_PrOqm1E"
      },
      "execution_count": 105,
      "outputs": []
    },
    {
      "cell_type": "code",
      "execution_count": 106,
      "metadata": {
        "id": "jcFBjdMpMZhj"
      },
      "outputs": [],
      "source": [
        "features,labels = df_equilibrado.drop(columns = [\"CLASSI_FIN\",\"EVOLUCAO\",\"TEMP_UTI\"]), df_equilibrado[\"CLASSI_FIN\"]\n",
        "features_train,features_test, labels_train, labels_test = train_test_split(features, labels, random_state=42, shuffle=True)"
      ]
    },
    {
      "cell_type": "code",
      "execution_count": 107,
      "metadata": {
        "colab": {
          "base_uri": "https://localhost:8080/"
        },
        "id": "-AGybZyzEoVl",
        "outputId": "ad6fbca7-688f-45b1-bdfb-ada2183d2e8a"
      },
      "outputs": [
        {
          "output_type": "stream",
          "name": "stdout",
          "text": [
            "<class 'pandas.core.frame.DataFrame'>\n",
            "Int64Index: 104856 entries, 1479312 to 1380769\n",
            "Data columns (total 10 columns):\n",
            " #   Column             Non-Null Count   Dtype  \n",
            "---  ------             --------------   -----  \n",
            " 0   NU_IDADE_N         104856 non-null  float64\n",
            " 1   FATOR_RISC         104856 non-null  float64\n",
            " 2   VACINA_COV         104856 non-null  float64\n",
            " 3   VACINA             104856 non-null  float64\n",
            " 4   UTI                104856 non-null  float64\n",
            " 5   ONDA               104856 non-null  float64\n",
            " 6   FATOR_RISC_GRAVE   104856 non-null  float64\n",
            " 7   COMORBIDADE_GRAVE  104856 non-null  float64\n",
            " 8   TEMP_ULT_DOSE      104856 non-null  float64\n",
            " 9   CLASSI_COV_EXAME   104856 non-null  bool   \n",
            "dtypes: bool(1), float64(9)\n",
            "memory usage: 8.1 MB\n"
          ]
        }
      ],
      "source": [
        "features_train.info()"
      ]
    },
    {
      "cell_type": "markdown",
      "source": [
        "# Modelos de Machine Learning Utilizados "
      ],
      "metadata": {
        "id": "IkBBBMy0-MtY"
      }
    },
    {
      "cell_type": "markdown",
      "source": [
        "We use two different methods to know the accuracy of our models, accuracy_score and cross_val_score, however due to the way both are implemented we will get different results, because:\n",
        "\n",
        "They're going to be different because in cross_val_score, you obtain an accuracy for each of your folds and average them. For each CV fold, your training and tests set are different; so, you obtain different accuracy values for each of them, and it enables you to calculate standard deviation of your accuracies, which is enclosed in parentheses in your image. accuracy_score of sklearn.metrics library calculates the accuracy based on the inputs y_pred and y_true. For example, if you input your entire training set, you'll get accuracy of your entire training set, which is of course slightly different than your CV score."
      ],
      "metadata": {
        "id": "aSBOawIYcwB-"
      }
    },
    {
      "cell_type": "code",
      "source": [
        "def getResults(x_test, y_test, model):\n",
        "  predicted = model.predict(x_test)\n",
        "  print(\"Acurácia = \", accuracy_score(y_test, predicted),\"\\n\\n\\n\")\n",
        "  cm = confusion_matrix(y_test, predicted)\n",
        "  sns.heatmap(cm, center=True)\n",
        "  plt.show()\n",
        "  print(pd.DataFrame(\n",
        "    confusion_matrix(y_test, predicted),\n",
        "    columns=['Predicted Not Survival', 'Predicted Survival'],\n",
        "    index=['True Not Survival', 'True Survival']\n",
        "  ))\n",
        "  report = classification_report(y_test, predicted)\n",
        "  print(report)"
      ],
      "metadata": {
        "id": "xIqN8rgZcvSn"
      },
      "execution_count": 108,
      "outputs": []
    },
    {
      "cell_type": "markdown",
      "source": [
        "## Regressão Logistica"
      ],
      "metadata": {
        "id": "3af5_N2w-3lw"
      }
    },
    {
      "cell_type": "code",
      "source": [
        "lr = LogisticRegression(max_iter = 2000)\n",
        "lr.fit(features_train,labels_train)\n",
        "\n",
        "print('-'*40 + 'Treino' + '-'*40)\n",
        "print()\n",
        "\n",
        "# Utilizando validação cruzada \n",
        "cv  = cross_val_score(lr,features_train,labels_train)\n",
        "print(f'Acuracia modelo de teste, utilizando validação cruzada: {cv.mean()}')\n",
        "\n",
        "# Método convencional \n",
        "getResults(features_train,labels_train,lr)\n",
        "\n",
        "print('-'*40 + 'Teste' + '-'*40)\n",
        "\n",
        "cv = cross_val_score(lr,features_test,labels_test)\n",
        "print(f'Acuracia modelo de treino, utilizando validação cruzada: {cv.mean()}')\n",
        "\n",
        "lr.fit(features_test,labels_test)\n",
        "\n",
        "getResults(features_test,labels_test,lr)"
      ],
      "metadata": {
        "colab": {
          "base_uri": "https://localhost:8080/",
          "height": 1000
        },
        "id": "wXD7HkM59Ylh",
        "outputId": "5bd7b8bf-a3b8-4d22-a322-e281fd3c9e75"
      },
      "execution_count": 109,
      "outputs": [
        {
          "output_type": "stream",
          "name": "stdout",
          "text": [
            "----------------------------------------Treino----------------------------------------\n",
            "\n",
            "Acuracia modelo de teste, utilizando validação cruzada: 0.8689726754801297\n",
            "Acurácia =  0.8690871290150302 \n",
            "\n",
            "\n",
            "\n"
          ]
        },
        {
          "output_type": "display_data",
          "data": {
            "text/plain": [
              "<Figure size 432x288 with 2 Axes>"
            ],
            "image/png": "[encoded data removed]"
          },
          "metadata": {
            "needs_background": "light"
          }
        },
        {
          "output_type": "stream",
          "name": "stdout",
          "text": [
            "                   Predicted Not Survival  Predicted Survival\n",
            "True Not Survival                   29350                5559\n",
            "True Survival                        8168               61779\n",
            "              precision    recall  f1-score   support\n",
            "\n",
            "           0       0.78      0.84      0.81     34909\n",
            "           1       0.92      0.88      0.90     69947\n",
            "\n",
            "    accuracy                           0.87    104856\n",
            "   macro avg       0.85      0.86      0.86    104856\n",
            "weighted avg       0.87      0.87      0.87    104856\n",
            "\n",
            "----------------------------------------Teste----------------------------------------\n",
            "Acuracia modelo de treino, utilizando validação cruzada: 0.8714846904123\n",
            "Acurácia =  0.8713701255972306 \n",
            "\n",
            "\n",
            "\n"
          ]
        },
        {
          "output_type": "display_data",
          "data": {
            "text/plain": [
              "<Figure size 432x288 with 2 Axes>"
            ],
            "image/png": "[encoded data removed]"
          },
          "metadata": {
            "needs_background": "light"
          }
        },
        {
          "output_type": "stream",
          "name": "stdout",
          "text": [
            "                   Predicted Not Survival  Predicted Survival\n",
            "True Not Survival                    9939                1755\n",
            "True Survival                        2741               20518\n",
            "              precision    recall  f1-score   support\n",
            "\n",
            "           0       0.78      0.85      0.82     11694\n",
            "           1       0.92      0.88      0.90     23259\n",
            "\n",
            "    accuracy                           0.87     34953\n",
            "   macro avg       0.85      0.87      0.86     34953\n",
            "weighted avg       0.88      0.87      0.87     34953\n",
            "\n"
          ]
        }
      ]
    },
    {
      "cell_type": "markdown",
      "source": [
        "### Importância das features"
      ],
      "metadata": {
        "id": "EhdmF4QyKvuT"
      }
    },
    {
      "cell_type": "code",
      "source": [
        "importance= lr.coef_[0]\n",
        "importance"
      ],
      "metadata": {
        "colab": {
          "base_uri": "https://localhost:8080/"
        },
        "id": "-AXS02U7_lAP",
        "outputId": "9e4ae649-52da-4c95-c9ba-d830eaecf170"
      },
      "execution_count": 110,
      "outputs": [
        {
          "output_type": "execute_result",
          "data": {
            "text/plain": [
              "array([ 4.11923423, -0.53827822,  1.14289258, -0.60384321,  0.15041175,\n",
              "       -0.35619141, -0.67866718,  0.17237231,  1.44956614,  4.29768868])"
            ]
          },
          "metadata": {},
          "execution_count": 110
        }
      ]
    },
    {
      "cell_type": "code",
      "source": [
        "feature_names = features.columns.to_list()\n",
        "feature_names[0] = 'IDADE'\n",
        "feature_names[7] = 'COMORB_GRAVE'\n",
        "feature_names"
      ],
      "metadata": {
        "colab": {
          "base_uri": "https://localhost:8080/"
        },
        "id": "MMSjUgjdEQeh",
        "outputId": "c0c128c8-ce5c-4d6b-ecce-9c7bf1055ad8"
      },
      "execution_count": 111,
      "outputs": [
        {
          "output_type": "execute_result",
          "data": {
            "text/plain": [
              "['IDADE',\n",
              " 'FATOR_RISC',\n",
              " 'VACINA_COV',\n",
              " 'VACINA',\n",
              " 'UTI',\n",
              " 'ONDA',\n",
              " 'FATOR_RISC_GRAVE',\n",
              " 'COMORB_GRAVE',\n",
              " 'TEMP_ULT_DOSE',\n",
              " 'CLASSI_COV_EXAME']"
            ]
          },
          "metadata": {},
          "execution_count": 111
        }
      ]
    },
    {
      "cell_type": "code",
      "source": [
        "importance = list(zip(feature_names,importance))\n",
        "importance.sort(key = lambda tupla: tupla[1])\n",
        "importance = np.array(importance)\n",
        "importance"
      ],
      "metadata": {
        "colab": {
          "base_uri": "https://localhost:8080/"
        },
        "id": "2HPReXWgB2KG",
        "outputId": "51d4cbbd-fe33-4494-c932-fa5302db33dd"
      },
      "execution_count": 112,
      "outputs": [
        {
          "output_type": "execute_result",
          "data": {
            "text/plain": [
              "array([['FATOR_RISC_GRAVE', '-0.678667184812809'],\n",
              "       ['VACINA', '-0.6038432066288258'],\n",
              "       ['FATOR_RISC', '-0.5382782204625703'],\n",
              "       ['ONDA', '-0.3561914117242957'],\n",
              "       ['UTI', '0.15041175275304122'],\n",
              "       ['COMORB_GRAVE', '0.17237231144910586'],\n",
              "       ['VACINA_COV', '1.1428925818737259'],\n",
              "       ['TEMP_ULT_DOSE', '1.4495661384385101'],\n",
              "       ['IDADE', '4.119234234473527'],\n",
              "       ['CLASSI_COV_EXAME', '4.297688677087353']], dtype='<U32')"
            ]
          },
          "metadata": {},
          "execution_count": 112
        }
      ]
    },
    {
      "cell_type": "code",
      "source": [
        "pd.DataFrame(\n",
        "    {\n",
        "        'variable': feature_names,\n",
        "        'coefficient': lr.coef_[0]\n",
        "    }\n",
        ").round(2).style.bar(color = ['red','blue'], align = 'zero')\n"
      ],
      "metadata": {
        "colab": {
          "base_uri": "https://localhost:8080/",
          "height": 363
        },
        "id": "cpTsN7iv_y_e",
        "outputId": "dccb08a9-b7a3-4b1f-accf-c006e72e8a13"
      },
      "execution_count": 113,
      "outputs": [
        {
          "output_type": "execute_result",
          "data": {
            "text/plain": [
              "<pandas.io.formats.style.Styler at 0x7f7fbd15e210>"
            ],
            "text/html": [
              "<style type=\"text/css\">\n",
              "#T_63d90_row0_col1 {\n",
              "  width: 10em;\n",
              "  height: 80%;\n",
              "  background: linear-gradient(90deg, transparent 50.0%, blue 50.0%, blue 97.9%, transparent 97.9%);\n",
              "}\n",
              "#T_63d90_row1_col1 {\n",
              "  width: 10em;\n",
              "  height: 80%;\n",
              "  background: linear-gradient(90deg, transparent 43.7%, red 43.7%, red 50.0%, transparent 50.0%);\n",
              "}\n",
              "#T_63d90_row2_col1 {\n",
              "  width: 10em;\n",
              "  height: 80%;\n",
              "  background: linear-gradient(90deg, transparent 50.0%, blue 50.0%, blue 63.3%, transparent 63.3%);\n",
              "}\n",
              "#T_63d90_row3_col1 {\n",
              "  width: 10em;\n",
              "  height: 80%;\n",
              "  background: linear-gradient(90deg, transparent 43.0%, red 43.0%, red 50.0%, transparent 50.0%);\n",
              "}\n",
              "#T_63d90_row4_col1 {\n",
              "  width: 10em;\n",
              "  height: 80%;\n",
              "  background: linear-gradient(90deg, transparent 50.0%, blue 50.0%, blue 51.7%, transparent 51.7%);\n",
              "}\n",
              "#T_63d90_row5_col1 {\n",
              "  width: 10em;\n",
              "  height: 80%;\n",
              "  background: linear-gradient(90deg, transparent 45.8%, red 45.8%, red 50.0%, transparent 50.0%);\n",
              "}\n",
              "#T_63d90_row6_col1 {\n",
              "  width: 10em;\n",
              "  height: 80%;\n",
              "  background: linear-gradient(90deg, transparent 42.1%, red 42.1%, red 50.0%, transparent 50.0%);\n",
              "}\n",
              "#T_63d90_row7_col1 {\n",
              "  width: 10em;\n",
              "  height: 80%;\n",
              "  background: linear-gradient(90deg, transparent 50.0%, blue 50.0%, blue 52.0%, transparent 52.0%);\n",
              "}\n",
              "#T_63d90_row8_col1 {\n",
              "  width: 10em;\n",
              "  height: 80%;\n",
              "  background: linear-gradient(90deg, transparent 50.0%, blue 50.0%, blue 66.9%, transparent 66.9%);\n",
              "}\n",
              "#T_63d90_row9_col1 {\n",
              "  width: 10em;\n",
              "  height: 80%;\n",
              "  background: linear-gradient(90deg, transparent 50.0%, blue 50.0%, blue 100.0%, transparent 100.0%);\n",
              "}\n",
              "</style>\n",
              "<table id=\"T_63d90_\" class=\"dataframe\">\n",
              "  <thead>\n",
              "    <tr>\n",
              "      <th class=\"blank level0\" >&nbsp;</th>\n",
              "      <th class=\"col_heading level0 col0\" >variable</th>\n",
              "      <th class=\"col_heading level0 col1\" >coefficient</th>\n",
              "    </tr>\n",
              "  </thead>\n",
              "  <tbody>\n",
              "    <tr>\n",
              "      <th id=\"T_63d90_level0_row0\" class=\"row_heading level0 row0\" >0</th>\n",
              "      <td id=\"T_63d90_row0_col0\" class=\"data row0 col0\" >IDADE</td>\n",
              "      <td id=\"T_63d90_row0_col1\" class=\"data row0 col1\" >4.120000</td>\n",
              "    </tr>\n",
              "    <tr>\n",
              "      <th id=\"T_63d90_level0_row1\" class=\"row_heading level0 row1\" >1</th>\n",
              "      <td id=\"T_63d90_row1_col0\" class=\"data row1 col0\" >FATOR_RISC</td>\n",
              "      <td id=\"T_63d90_row1_col1\" class=\"data row1 col1\" >-0.540000</td>\n",
              "    </tr>\n",
              "    <tr>\n",
              "      <th id=\"T_63d90_level0_row2\" class=\"row_heading level0 row2\" >2</th>\n",
              "      <td id=\"T_63d90_row2_col0\" class=\"data row2 col0\" >VACINA_COV</td>\n",
              "      <td id=\"T_63d90_row2_col1\" class=\"data row2 col1\" >1.140000</td>\n",
              "    </tr>\n",
              "    <tr>\n",
              "      <th id=\"T_63d90_level0_row3\" class=\"row_heading level0 row3\" >3</th>\n",
              "      <td id=\"T_63d90_row3_col0\" class=\"data row3 col0\" >VACINA</td>\n",
              "      <td id=\"T_63d90_row3_col1\" class=\"data row3 col1\" >-0.600000</td>\n",
              "    </tr>\n",
              "    <tr>\n",
              "      <th id=\"T_63d90_level0_row4\" class=\"row_heading level0 row4\" >4</th>\n",
              "      <td id=\"T_63d90_row4_col0\" class=\"data row4 col0\" >UTI</td>\n",
              "      <td id=\"T_63d90_row4_col1\" class=\"data row4 col1\" >0.150000</td>\n",
              "    </tr>\n",
              "    <tr>\n",
              "      <th id=\"T_63d90_level0_row5\" class=\"row_heading level0 row5\" >5</th>\n",
              "      <td id=\"T_63d90_row5_col0\" class=\"data row5 col0\" >ONDA</td>\n",
              "      <td id=\"T_63d90_row5_col1\" class=\"data row5 col1\" >-0.360000</td>\n",
              "    </tr>\n",
              "    <tr>\n",
              "      <th id=\"T_63d90_level0_row6\" class=\"row_heading level0 row6\" >6</th>\n",
              "      <td id=\"T_63d90_row6_col0\" class=\"data row6 col0\" >FATOR_RISC_GRAVE</td>\n",
              "      <td id=\"T_63d90_row6_col1\" class=\"data row6 col1\" >-0.680000</td>\n",
              "    </tr>\n",
              "    <tr>\n",
              "      <th id=\"T_63d90_level0_row7\" class=\"row_heading level0 row7\" >7</th>\n",
              "      <td id=\"T_63d90_row7_col0\" class=\"data row7 col0\" >COMORB_GRAVE</td>\n",
              "      <td id=\"T_63d90_row7_col1\" class=\"data row7 col1\" >0.170000</td>\n",
              "    </tr>\n",
              "    <tr>\n",
              "      <th id=\"T_63d90_level0_row8\" class=\"row_heading level0 row8\" >8</th>\n",
              "      <td id=\"T_63d90_row8_col0\" class=\"data row8 col0\" >TEMP_ULT_DOSE</td>\n",
              "      <td id=\"T_63d90_row8_col1\" class=\"data row8 col1\" >1.450000</td>\n",
              "    </tr>\n",
              "    <tr>\n",
              "      <th id=\"T_63d90_level0_row9\" class=\"row_heading level0 row9\" >9</th>\n",
              "      <td id=\"T_63d90_row9_col0\" class=\"data row9 col0\" >CLASSI_COV_EXAME</td>\n",
              "      <td id=\"T_63d90_row9_col1\" class=\"data row9 col1\" >4.300000</td>\n",
              "    </tr>\n",
              "  </tbody>\n",
              "</table>\n"
            ]
          },
          "metadata": {},
          "execution_count": 113
        }
      ]
    },
    {
      "cell_type": "markdown",
      "source": [
        "## Árvore de Decissão "
      ],
      "metadata": {
        "id": "od5SWUsW_aIx"
      }
    },
    {
      "cell_type": "code",
      "source": [
        "arvore = DecisionTreeClassifier(random_state = 1)\n",
        "arvore.fit(features_train,labels_train)\n",
        "\n",
        "print('-'*40 + 'Treino' + '-'*40)\n",
        "print()\n",
        "\n",
        "cv = cross_val_score(arvore,features_train,labels_train)\n",
        "print(f'Acuracia modelo de teste, utilizando validação cruzada: {cv.mean()}')\n",
        "\n",
        "getResults(features_train,labels_train,arvore)\n",
        "\n",
        "print('-'*40 + 'Teste' + '-'*40)\n",
        "print()\n",
        "\n",
        "arvore.fit(features_test,labels_test)\n",
        "\n",
        "cv = cross_val_score(arvore,features_test,labels_test)\n",
        "print(f'Acuracia modelo de treino, utilizando validação cruzada: {cv.mean()}')\n",
        "\n",
        "getResults(features_test,labels_test,arvore)\n"
      ],
      "metadata": {
        "colab": {
          "base_uri": "https://localhost:8080/",
          "height": 1000
        },
        "id": "3oFWawTs_qMJ",
        "outputId": "c9846d61-d428-4999-fbad-eb9e9f9dd1e1"
      },
      "execution_count": 114,
      "outputs": [
        {
          "output_type": "stream",
          "name": "stdout",
          "text": [
            "----------------------------------------Treino----------------------------------------\n",
            "\n",
            "Acuracia modelo de teste, utilizando validação cruzada: 0.8883230420931412\n",
            "Acurácia =  0.9616140230411231 \n",
            "\n",
            "\n",
            "\n"
          ]
        },
        {
          "output_type": "display_data",
          "data": {
            "text/plain": [
              "<Figure size 432x288 with 2 Axes>"
            ],
            "image/png": "[encoded data removed]"
          },
          "metadata": {
            "needs_background": "light"
          }
        },
        {
          "output_type": "stream",
          "name": "stdout",
          "text": [
            "                   Predicted Not Survival  Predicted Survival\n",
            "True Not Survival                   33255                1654\n",
            "True Survival                        2371               67576\n",
            "              precision    recall  f1-score   support\n",
            "\n",
            "           0       0.93      0.95      0.94     34909\n",
            "           1       0.98      0.97      0.97     69947\n",
            "\n",
            "    accuracy                           0.96    104856\n",
            "   macro avg       0.95      0.96      0.96    104856\n",
            "weighted avg       0.96      0.96      0.96    104856\n",
            "\n",
            "----------------------------------------Teste----------------------------------------\n",
            "\n",
            "Acuracia modelo de treino, utilizando validação cruzada: 0.8811832421369884\n",
            "Acurácia =  0.9756244099218951 \n",
            "\n",
            "\n",
            "\n"
          ]
        },
        {
          "output_type": "display_data",
          "data": {
            "text/plain": [
              "<Figure size 432x288 with 2 Axes>"
            ],
            "image/png": "[encoded data removed]"
          },
          "metadata": {
            "needs_background": "light"
          }
        },
        {
          "output_type": "stream",
          "name": "stdout",
          "text": [
            "                   Predicted Not Survival  Predicted Survival\n",
            "True Not Survival                   11460                 234\n",
            "True Survival                         618               22641\n",
            "              precision    recall  f1-score   support\n",
            "\n",
            "           0       0.95      0.98      0.96     11694\n",
            "           1       0.99      0.97      0.98     23259\n",
            "\n",
            "    accuracy                           0.98     34953\n",
            "   macro avg       0.97      0.98      0.97     34953\n",
            "weighted avg       0.98      0.98      0.98     34953\n",
            "\n"
          ]
        }
      ]
    },
    {
      "cell_type": "markdown",
      "source": [
        "### Importância\n"
      ],
      "metadata": {
        "id": "SL3MZ9RiM0BP"
      }
    },
    {
      "cell_type": "code",
      "source": [
        "importance = np.array(\n",
        "                sorted(list(\n",
        "                    zip(feature_names,np.round(arvore.feature_importances_,3))\n",
        "                ),key = lambda x: x[1])\n",
        "            )\n",
        "importance"
      ],
      "metadata": {
        "colab": {
          "base_uri": "https://localhost:8080/"
        },
        "id": "5uZInGZ1Nfzt",
        "outputId": "ea7cf997-fd45-4e5c-bb53-10ba08995d15"
      },
      "execution_count": 115,
      "outputs": [
        {
          "output_type": "execute_result",
          "data": {
            "text/plain": [
              "array([['FATOR_RISC_GRAVE', '0.004'],\n",
              "       ['FATOR_RISC', '0.007'],\n",
              "       ['COMORB_GRAVE', '0.012'],\n",
              "       ['VACINA_COV', '0.014'],\n",
              "       ['UTI', '0.018'],\n",
              "       ['VACINA', '0.022'],\n",
              "       ['TEMP_ULT_DOSE', '0.036'],\n",
              "       ['ONDA', '0.102'],\n",
              "       ['IDADE', '0.208'],\n",
              "       ['CLASSI_COV_EXAME', '0.578']], dtype='<U32')"
            ]
          },
          "metadata": {},
          "execution_count": 115
        }
      ]
    },
    {
      "cell_type": "code",
      "source": [
        "plt.figure(figsize= (20,5))\n",
        "plt.bar(importance[:,0],importance[:,1])\n",
        "\n",
        "plt.show()"
      ],
      "metadata": {
        "colab": {
          "base_uri": "https://localhost:8080/",
          "height": 321
        },
        "id": "DUQWtUTbM2YV",
        "outputId": "fc0016d4-9729-498e-eecf-ea39712db49e"
      },
      "execution_count": 117,
      "outputs": [
        {
          "output_type": "display_data",
          "data": {
            "text/plain": [
              "<Figure size 1440x360 with 1 Axes>"
            ],
            "image/png": "[encoded data removed]"
          },
          "metadata": {
            "needs_background": "light"
          }
        }
      ]
    },
    {
      "cell_type": "markdown",
      "source": [
        "## Floresta Randômica"
      ],
      "metadata": {
        "id": "CZz1bYxgBXRj"
      }
    },
    {
      "cell_type": "code",
      "source": [
        "rf = RandomForestClassifier(random_state = 1)\n",
        "rf.fit(features_train,labels_train)\n",
        "print('-'*40 + 'Treino' + '-'*40)\n",
        "print()\n",
        "\n",
        "cv = cross_val_score(rf,features_train,labels_train)\n",
        "print(f'Acuracia modelo de teste, utilizando validação cruzada: {cv.mean()}')\n",
        "\n",
        "getResults(features_train,labels_train,rf)\n",
        "\n",
        "print('-'*40 + 'Teste' + '-'*40)\n",
        "print()\n",
        "\n",
        "cv = cross_val_score(rf,features_test,labels_test)\n",
        "print(f'Acuracia modelo de treino, utilizando validação cruzada: {cv.mean()}')\n",
        "\n",
        "rf.fit(features_test,labels_test)\n",
        "\n",
        "getResults(features_test,labels_test,rf)"
      ],
      "metadata": {
        "colab": {
          "base_uri": "https://localhost:8080/",
          "height": 1000
        },
        "id": "u9yH5XoZBbJM",
        "outputId": "010357ae-b707-45ec-88e7-e0e948772e20"
      },
      "execution_count": 39,
      "outputs": [
        {
          "output_type": "stream",
          "name": "stdout",
          "text": [
            "----------------------------------------Treino----------------------------------------\n",
            "\n",
            "Acuracia modelo de teste, utilizando validação cruzada: 0.9018844948074257\n",
            "Acurácia =  0.9623006790264744 \n",
            "\n",
            "\n",
            "\n"
          ]
        },
        {
          "output_type": "display_data",
          "data": {
            "text/plain": [
              "<Figure size 432x288 with 2 Axes>"
            ],
            "image/png": "[encoded data removed]"
          },
          "metadata": {
            "needs_background": "light"
          }
        },
        {
          "output_type": "stream",
          "name": "stdout",
          "text": [
            "                   Predicted Not Survival  Predicted Survival\n",
            "True Not Survival                   32685                2224\n",
            "True Survival                        1729               68218\n",
            "              precision    recall  f1-score   support\n",
            "\n",
            "           0       0.95      0.94      0.94     34909\n",
            "           1       0.97      0.98      0.97     69947\n",
            "\n",
            "    accuracy                           0.96    104856\n",
            "   macro avg       0.96      0.96      0.96    104856\n",
            "weighted avg       0.96      0.96      0.96    104856\n",
            "\n",
            "----------------------------------------Teste----------------------------------------\n",
            "\n",
            "Acuracia modelo de treino, utilizando validação cruzada: 0.9007809673135847\n",
            "Acurácia =  0.9740794781563814 \n",
            "\n",
            "\n",
            "\n"
          ]
        },
        {
          "output_type": "display_data",
          "data": {
            "text/plain": [
              "<Figure size 432x288 with 2 Axes>"
            ],
            "image/png": "[encoded data removed]"
          },
          "metadata": {
            "needs_background": "light"
          }
        },
        {
          "output_type": "stream",
          "name": "stdout",
          "text": [
            "                   Predicted Not Survival  Predicted Survival\n",
            "True Not Survival                   11201                 493\n",
            "True Survival                         413               22846\n",
            "              precision    recall  f1-score   support\n",
            "\n",
            "           0       0.96      0.96      0.96     11694\n",
            "           1       0.98      0.98      0.98     23259\n",
            "\n",
            "    accuracy                           0.97     34953\n",
            "   macro avg       0.97      0.97      0.97     34953\n",
            "weighted avg       0.97      0.97      0.97     34953\n",
            "\n"
          ]
        }
      ]
    },
    {
      "cell_type": "markdown",
      "source": [
        "## Kneighbor Classifier"
      ],
      "metadata": {
        "id": "P2Ukozx1CJ9r"
      }
    },
    {
      "cell_type": "code",
      "source": [
        "knn = KNeighborsClassifier()\n",
        "knn.fit(features_train,labels_train)\n",
        "\n",
        "print('-'*40 + 'Treino' + '-'*40)\n",
        "print()\n",
        "\n",
        "cv = cross_val_score(knn,features_train,labels_train)\n",
        "print(f'Acuracia modelo de teste, utilizando validação cruzada: {cv.mean()}')\n",
        "\n",
        "getResults(features_train,labels_train,knn)\n",
        "\n",
        "print('-'*40 + 'Teste' + '-'*40)\n",
        "print()\n",
        "knn.fit(features_test,labels_test)\n",
        "\n",
        "cv = cross_val_score(knn,features_test,labels_test)\n",
        "print(f'Acuracia modelo de treino, utilizando validação cruzada: {cv.mean()}')\n",
        "\n",
        "getResults(features_test,labels_test,knn)"
      ],
      "metadata": {
        "colab": {
          "base_uri": "https://localhost:8080/",
          "height": 1000
        },
        "id": "tcJ8L3UfCTwp",
        "outputId": "6b8d6f4f-a3f9-4eab-f524-4a885b979e0f"
      },
      "execution_count": 40,
      "outputs": [
        {
          "output_type": "stream",
          "name": "stdout",
          "text": [
            "----------------------------------------Treino----------------------------------------\n",
            "\n",
            "Acuracia modelo de teste, utilizando validação cruzada: 0.9059090651992803\n",
            "Acurácia =  0.9273289082169833 \n",
            "\n",
            "\n",
            "\n"
          ]
        },
        {
          "output_type": "display_data",
          "data": {
            "text/plain": [
              "<Figure size 432x288 with 2 Axes>"
            ],
            "image/png": "[encoded data removed]"
          },
          "metadata": {
            "needs_background": "light"
          }
        },
        {
          "output_type": "stream",
          "name": "stdout",
          "text": [
            "                   Predicted Not Survival  Predicted Survival\n",
            "True Not Survival                   30756                4153\n",
            "True Survival                        3467               66480\n",
            "              precision    recall  f1-score   support\n",
            "\n",
            "           0       0.90      0.88      0.89     34909\n",
            "           1       0.94      0.95      0.95     69947\n",
            "\n",
            "    accuracy                           0.93    104856\n",
            "   macro avg       0.92      0.92      0.92    104856\n",
            "weighted avg       0.93      0.93      0.93    104856\n",
            "\n",
            "----------------------------------------Teste----------------------------------------\n",
            "\n",
            "Acuracia modelo de treino, utilizando validação cruzada: 0.9030124282006561\n",
            "Acurácia =  0.9289045289388608 \n",
            "\n",
            "\n",
            "\n"
          ]
        },
        {
          "output_type": "display_data",
          "data": {
            "text/plain": [
              "<Figure size 432x288 with 2 Axes>"
            ],
            "image/png": "[encoded data removed]"
          },
          "metadata": {
            "needs_background": "light"
          }
        },
        {
          "output_type": "stream",
          "name": "stdout",
          "text": [
            "                   Predicted Not Survival  Predicted Survival\n",
            "True Not Survival                   10394                1300\n",
            "True Survival                        1185               22074\n",
            "              precision    recall  f1-score   support\n",
            "\n",
            "           0       0.90      0.89      0.89     11694\n",
            "           1       0.94      0.95      0.95     23259\n",
            "\n",
            "    accuracy                           0.93     34953\n",
            "   macro avg       0.92      0.92      0.92     34953\n",
            "weighted avg       0.93      0.93      0.93     34953\n",
            "\n"
          ]
        }
      ]
    },
    {
      "cell_type": "markdown",
      "source": [
        "## XGBClassifier"
      ],
      "metadata": {
        "id": "wNfRNljRc4WP"
      }
    },
    {
      "cell_type": "markdown",
      "source": [
        "XGBoost is an optimized distributed gradient boosting library designed to be highly efficient, flexible and portable. It implements machine learning algorithms under the Gradient Boosting framework. XGBoost provides a parallel tree boosting (also known as GBDT, GBM) that solve many data science problems in a fast and accurate way."
      ],
      "metadata": {
        "id": "tvWy32jqc2cw"
      }
    },
    {
      "cell_type": "code",
      "source": [
        "xgb = XGBClassifier(random_state =1)\n",
        "xgb.fit(features_train,labels_train)\n",
        "cv = cross_val_score(xgb,features_train,labels_train,cv=5)\n",
        "print(f'Acuracia modelo de teste, utilizando validação cruzada: {cv.mean()}')\n",
        "getResults(features_train,labels_train,xgb)"
      ],
      "metadata": {
        "id": "mw0iF_DBc2FS",
        "colab": {
          "base_uri": "https://localhost:8080/",
          "height": 560
        },
        "outputId": "fc88f248-c8ce-4796-b7fd-6465f9561062"
      },
      "execution_count": 42,
      "outputs": [
        {
          "output_type": "stream",
          "name": "stdout",
          "text": [
            "Acuracia modelo de teste, utilizando validação cruzada: 0.9136053404648525\n",
            "Acurácia =  0.9141203173876554 \n",
            "\n",
            "\n",
            "\n"
          ]
        },
        {
          "output_type": "display_data",
          "data": {
            "text/plain": [
              "<Figure size 432x288 with 2 Axes>"
            ],
            "image/png": "[encoded data removed]"
          },
          "metadata": {
            "needs_background": "light"
          }
        },
        {
          "output_type": "stream",
          "name": "stdout",
          "text": [
            "                   Predicted Not Survival  Predicted Survival\n",
            "True Not Survival                   29045                5864\n",
            "True Survival                        3141               66806\n",
            "              precision    recall  f1-score   support\n",
            "\n",
            "           0       0.90      0.83      0.87     34909\n",
            "           1       0.92      0.96      0.94     69947\n",
            "\n",
            "    accuracy                           0.91    104856\n",
            "   macro avg       0.91      0.89      0.90    104856\n",
            "weighted avg       0.91      0.91      0.91    104856\n",
            "\n"
          ]
        }
      ]
    }
  ],
  "metadata": {
    "colab": {
      "collapsed_sections": [],
      "name": "Modelos_De_ML.ipynb",
      "provenance": []
    },
    "kernelspec": {
      "display_name": "Python 3",
      "name": "python3"
    },
    "language_info": {
      "name": "python"
    }
  },
  "nbformat": 4,
  "nbformat_minor": 0
}